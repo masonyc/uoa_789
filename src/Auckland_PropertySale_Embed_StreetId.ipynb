{
 "cells": [
  {
   "cell_type": "code",
   "execution_count": 57,
   "metadata": {
    "collapsed": true
   },
   "outputs": [],
   "source": [
    "import osmnx as ox\n",
    "import pandas as pd"
   ]
  },
  {
   "cell_type": "code",
   "execution_count": 58,
   "outputs": [
    {
     "name": "stdout",
     "output_type": "stream",
     "text": [
      "   CL_QPID  CL_Suburb  CL_Sale_Tenure  CL_Sale_Date  \\\n",
      "0    75499        232               0           229   \n",
      "1    75639        263               0           119   \n",
      "2    75639        263               0           169   \n",
      "3    75639        263               0            70   \n",
      "4    75639        263               0           162   \n",
      "\n",
      "   CL_Land_Valuation_Capital_Value  CL_Building_Floor_Area  \\\n",
      "0                        -0.294735               -0.397669   \n",
      "1                        -0.799770               -0.397669   \n",
      "2                        -0.799770               -0.397669   \n",
      "3                        -0.874988               -0.397669   \n",
      "4                        -0.799770               -0.397669   \n",
      "\n",
      "   CL_Building_Site_Cover  CL_Land_Area  CL_Bldg_Const  CL_Bldg_Cond  ...  \\\n",
      "0                 0.18143     15.111383             13             1  ...   \n",
      "1                 0.18143     12.574967              3             1  ...   \n",
      "2                 0.18143     12.574967              3             1  ...   \n",
      "3                 0.18143     12.574967              3             1  ...   \n",
      "4                 0.18143     12.574967              3             1  ...   \n",
      "\n",
      "   CL_Category  CL_LUD_Age  CL_LUD_Land_Use_Description  \\\n",
      "0            1           7                           30   \n",
      "1            1          17                            0   \n",
      "2            1          17                            0   \n",
      "3            1          17                            0   \n",
      "4            1          17                            0   \n",
      "\n",
      "   CL_MAS_No_Main_Roof_Garages  CL_Latitude  CL_Longitude  CL_Bedrooms  \\\n",
      "0                    -0.900676   -36.200345    174.581811    -0.369582   \n",
      "1                    -0.900676   -36.228740    174.496590    -0.369582   \n",
      "2                    -0.900676   -36.228740    174.496590    -0.369582   \n",
      "3                     0.219661   -36.228740    174.496590    -0.369582   \n",
      "4                    -0.900676   -36.228740    174.496590    -0.369582   \n",
      "\n",
      "   CL_Bathrooms  Log_Sale_Price_Net  school_count  \n",
      "0     -0.708002           12.542545             2  \n",
      "1     -0.708002           11.736069             1  \n",
      "2     -0.708002           12.449019             1  \n",
      "3     -0.708002           11.373663             1  \n",
      "4     -0.708002           12.310433             1  \n",
      "\n",
      "[5 rows x 22 columns]\n",
      "(667265, 22)\n"
     ]
    }
   ],
   "source": [
    "AKL_df = pd.read_csv(\"./outputs/cleaned_property_data.csv\",encoding='latin1')\n",
    "AKL_df = AKL_df.drop(['Unnamed: 0'],axis=1)\n",
    "print(AKL_df.head())\n",
    "print(AKL_df.shape)"
   ],
   "metadata": {
    "collapsed": false
   }
  },
  {
   "cell_type": "code",
   "execution_count": 59,
   "outputs": [
    {
     "name": "stdout",
     "output_type": "stream",
     "text": [
      "   street_id      source      target      street_name\n",
      "0  984794487   279051892  2852049636  South Head Road\n",
      "1  984794487  2852049636   279051893  South Head Road\n",
      "2  984794487   279051903   279051892  South Head Road\n",
      "3  984794487   279051893   279051895  South Head Road\n",
      "4  984794487   279051895  7556143502  South Head Road\n"
     ]
    }
   ],
   "source": [
    "street_nodes_df = pd.read_csv(\"./outputs/akl_street_nodes.csv\")\n",
    "street_nodes_df = street_nodes_df[street_nodes_df.columns[:4]]\n",
    "print(street_nodes_df.head())"
   ],
   "metadata": {
    "collapsed": false
   }
  },
  {
   "cell_type": "code",
   "execution_count": 60,
   "outputs": [
    {
     "name": "stdout",
     "output_type": "stream",
     "text": [
      "                                            geometry  bbox_north  bbox_south  \\\n",
      "0  POLYGON ((222219.771 -4050395.343, 224043.539 ...  -35.698392  -37.364474   \n",
      "\n",
      "    bbox_east   bbox_west   place_id  osm_type   osm_id        lat        lon  \\\n",
      "0  175.903215  173.896328  298615087  relation  2094141 -36.541281  174.55061   \n",
      "\n",
      "            display_name     class            type  importance  \n",
      "0  Auckland, New Zealand  boundary  administrative        0.66  \n"
     ]
    },
    {
     "data": {
      "text/plain": "<Figure size 432x288 with 1 Axes>",
      "image/png": "[encoded data removed]"
     },
     "metadata": {
      "needs_background": "light"
     },
     "output_type": "display_data"
    }
   ],
   "source": [
    "# Find Auckland location from osmx package\n",
    "city = ox.geocode_to_gdf(\"Auckland, NZ\")\n",
    "city_proj = ox.project_gdf(city)\n",
    "ax = city_proj.plot(fc=\"gray\", ec=\"none\")\n",
    "_ = ax.axis(\"off\")\n",
    "print(city_proj)"
   ],
   "metadata": {
    "collapsed": false
   }
  },
  {
   "cell_type": "code",
   "execution_count": 61,
   "outputs": [
    {
     "name": "stdout",
     "output_type": "stream",
     "text": [
      "MultiDiGraph with 626825 nodes and 1284168 edges\n"
     ]
    }
   ],
   "source": [
    "# Find Auckland BBox and download street informations\n",
    "north, south, east, west = city_proj['bbox_north'][0],city_proj['bbox_south'][0],city_proj['bbox_east'][0],city_proj['bbox_west'][0]\n",
    "\n",
    "highway_G = ox.graph_from_bbox(\n",
    "    north,south,west,east,\n",
    "    network_type=\"walk\",\n",
    "    simplify=False,\n",
    "    retain_all=True,\n",
    "    custom_filter = '[\"highway\"~\"unclassified|trunk|primary|tertiary|secondary|track|path|residential\"]'\n",
    ")\n",
    "projected_highway_G = ox.project_graph(highway_G)\n",
    "print(projected_highway_G)"
   ],
   "metadata": {
    "collapsed": false
   }
  },
  {
   "cell_type": "code",
   "execution_count": 62,
   "outputs": [],
   "source": [
    "def get_nearest_streets(property_df,road_G):\n",
    "    nearest_edges = ox.distance.nearest_edges(road_G, property_df[\"CL_Longitude\"].tolist(),property_df[\"CL_Latitude\"].tolist(),return_dist=False)\n",
    "    print(nearest_edges)\n",
    "    return nearest_edges"
   ],
   "metadata": {
    "collapsed": false
   }
  },
  {
   "cell_type": "code",
   "execution_count": 63,
   "outputs": [
    {
     "name": "stderr",
     "output_type": "stream",
     "text": [
      "IOPub data rate exceeded.\n",
      "The notebook server will temporarily stop sending output\n",
      "to the client in order to avoid crashing it.\n",
      "To change this limit, set the config variable\n",
      "`--NotebookApp.iopub_data_rate_limit`.\n",
      "\n",
      "Current values:\n",
      "NotebookApp.iopub_data_rate_limit=1000000.0 (bytes/sec)\n",
      "NotebookApp.rate_limit_window=3.0 (secs)\n",
      "\n"
     ]
    }
   ],
   "source": [
    "nearest_edges = get_nearest_streets(AKL_df,projected_highway_G)\n",
    "print(nearest_edges)"
   ],
   "metadata": {
    "collapsed": false
   }
  },
  {
   "cell_type": "code",
   "execution_count": 64,
   "outputs": [],
   "source": [
    "def find_street_for_property(property_df):\n",
    "    street_id_columns = []\n",
    "    street_source_columns = []\n",
    "    street_target_columns=[]\n",
    "    for i in range(len(property_df)):\n",
    "        u,v = nearest_edges[i][0],nearest_edges[i][1]\n",
    "        #print(\"u={u},v={v}\".format(u=u,v=v))\n",
    "        street_node = street_nodes_df[street_nodes_df[\"source\"] == u]\n",
    "        street_node = street_node[street_node[\"target\"] == v]\n",
    "        #print(\"street_id={street_id}\".format(street_id=street_id))\n",
    "        street_id = street_node[\"street_id\"].values[0]\n",
    "        #print(street_id)\n",
    "        street_id_columns.append(street_id)\n",
    "        street_source_columns.append(u)\n",
    "        street_target_columns.append(v)\n",
    "        #break\n",
    "    return street_id_columns,street_source_columns,street_target_columns"
   ],
   "metadata": {
    "collapsed": false
   }
  },
  {
   "cell_type": "code",
   "execution_count": 65,
   "outputs": [
    {
     "name": "stdout",
     "output_type": "stream",
     "text": [
      "   CL_QPID  CL_Suburb  CL_Sale_Tenure  CL_Sale_Date  \\\n",
      "0    75499        232               0           229   \n",
      "1    75639        263               0           119   \n",
      "2    75639        263               0           169   \n",
      "3    75639        263               0            70   \n",
      "4    75639        263               0           162   \n",
      "\n",
      "   CL_Land_Valuation_Capital_Value  CL_Building_Floor_Area  \\\n",
      "0                        -0.294735               -0.397669   \n",
      "1                        -0.799770               -0.397669   \n",
      "2                        -0.799770               -0.397669   \n",
      "3                        -0.874988               -0.397669   \n",
      "4                        -0.799770               -0.397669   \n",
      "\n",
      "   CL_Building_Site_Cover  CL_Land_Area  CL_Bldg_Const  CL_Bldg_Cond  ...  \\\n",
      "0                 0.18143     15.111383             13             1  ...   \n",
      "1                 0.18143     12.574967              3             1  ...   \n",
      "2                 0.18143     12.574967              3             1  ...   \n",
      "3                 0.18143     12.574967              3             1  ...   \n",
      "4                 0.18143     12.574967              3             1  ...   \n",
      "\n",
      "   CL_MAS_No_Main_Roof_Garages  CL_Latitude  CL_Longitude  CL_Bedrooms  \\\n",
      "0                    -0.900676   -36.200345    174.581811    -0.369582   \n",
      "1                    -0.900676   -36.228740    174.496590    -0.369582   \n",
      "2                    -0.900676   -36.228740    174.496590    -0.369582   \n",
      "3                     0.219661   -36.228740    174.496590    -0.369582   \n",
      "4                    -0.900676   -36.228740    174.496590    -0.369582   \n",
      "\n",
      "   CL_Bathrooms  Log_Sale_Price_Net  school_count  street_id  street_sources  \\\n",
      "0     -0.708002           12.542545             2  165586742      1671530971   \n",
      "1     -0.708002           11.736069             1  165586742      1671530971   \n",
      "2     -0.708002           12.449019             1  165586742      1671530971   \n",
      "3     -0.708002           11.373663             1  165586742      1671530971   \n",
      "4     -0.708002           12.310433             1  165586742      1671530971   \n",
      "\n",
      "   street_targets  \n",
      "0      5025466773  \n",
      "1      5025466773  \n",
      "2      5025466773  \n",
      "3      5025466773  \n",
      "4      5025466773  \n",
      "\n",
      "[5 rows x 25 columns]\n"
     ]
    }
   ],
   "source": [
    "street_ids,street_sources,street_targets = find_street_for_property(AKL_df)\n",
    "#print(street_ids,street_sources,street_targets)\n",
    "AKL_df[\"street_id\"] = street_ids\n",
    "AKL_df[\"street_sources\"] = street_sources\n",
    "AKL_df[\"street_targets\"] = street_targets\n",
    "print(AKL_df.head())"
   ],
   "metadata": {
    "collapsed": false
   }
  },
  {
   "cell_type": "code",
   "execution_count": 66,
   "outputs": [],
   "source": [
    "AKL_df = AKL_df.drop([\"CL_Longitude\",\"CL_Latitude\"],axis=1)"
   ],
   "metadata": {
    "collapsed": false
   }
  },
  {
   "cell_type": "code",
   "execution_count": 67,
   "outputs": [],
   "source": [
    "AKL_df.to_csv(\"./outputs/property_data_with_street.csv\")"
   ],
   "metadata": {
    "collapsed": false
   }
  }
 ],
 "metadata": {
  "kernelspec": {
   "display_name": "Python 3",
   "language": "python",
   "name": "python3"
  },
  "language_info": {
   "codemirror_mode": {
    "name": "ipython",
    "version": 2
   },
   "file_extension": ".py",
   "mimetype": "text/x-python",
   "name": "python",
   "nbconvert_exporter": "python",
   "pygments_lexer": "ipython2",
   "version": "2.7.6"
  }
 },
 "nbformat": 4,
 "nbformat_minor": 0
}
