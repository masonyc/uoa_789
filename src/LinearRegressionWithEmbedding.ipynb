{
 "cells": [
  {
   "cell_type": "code",
   "execution_count": 1,
   "metadata": {
    "collapsed": true
   },
   "outputs": [],
   "source": [
    "import pandas as pd\n",
    "import numpy as np\n",
    "from sklearn.model_selection import train_test_split\n",
    "from sklearn.linear_model import LinearRegression\n",
    "from sklearn.metrics import explained_variance_score, mean_squared_error, r2_score"
   ]
  },
  {
   "cell_type": "code",
   "execution_count": 2,
   "outputs": [
    {
     "name": "stdout",
     "output_type": "stream",
     "text": [
      "   CL_QPID  CL_Suburb  CL_Sale_Tenure  CL_Sale_Date  \\\n",
      "0    75499        232               0           229   \n",
      "1    75639        263               0           119   \n",
      "2    75639        263               0           169   \n",
      "3    75639        263               0            70   \n",
      "4    75639        263               0           162   \n",
      "\n",
      "   CL_Land_Valuation_Capital_Value  CL_Building_Floor_Area  \\\n",
      "0                        -0.294735               -0.397669   \n",
      "1                        -0.799770               -0.397669   \n",
      "2                        -0.799770               -0.397669   \n",
      "3                        -0.874988               -0.397669   \n",
      "4                        -0.799770               -0.397669   \n",
      "\n",
      "   CL_Building_Site_Cover  CL_Land_Area  CL_Bldg_Const  CL_Bldg_Cond  ...  \\\n",
      "0                 0.18143     15.111383             13             1  ...   \n",
      "1                 0.18143     12.574967              3             1  ...   \n",
      "2                 0.18143     12.574967              3             1  ...   \n",
      "3                 0.18143     12.574967              3             1  ...   \n",
      "4                 0.18143     12.574967              3             1  ...   \n",
      "\n",
      "   CL_LUD_Age  CL_LUD_Land_Use_Description  CL_MAS_No_Main_Roof_Garages  \\\n",
      "0           7                           30                    -0.900676   \n",
      "1          17                            0                    -0.900676   \n",
      "2          17                            0                    -0.900676   \n",
      "3          17                            0                     0.219661   \n",
      "4          17                            0                    -0.900676   \n",
      "\n",
      "   CL_Bedrooms  CL_Bathrooms  Log_Sale_Price_Net  school_count  street_id  \\\n",
      "0    -0.369582     -0.708002           12.542545             2  165586742   \n",
      "1    -0.369582     -0.708002           11.736069             1  165586742   \n",
      "2    -0.369582     -0.708002           12.449019             1  165586742   \n",
      "3    -0.369582     -0.708002           11.373663             1  165586742   \n",
      "4    -0.369582     -0.708002           12.310433             1  165586742   \n",
      "\n",
      "   street_sources  street_targets  \n",
      "0      1671530971      5025466773  \n",
      "1      1671530971      5025466773  \n",
      "2      1671530971      5025466773  \n",
      "3      1671530971      5025466773  \n",
      "4      1671530971      5025466773  \n",
      "\n",
      "[5 rows x 23 columns]\n",
      "(667265, 23)\n"
     ]
    }
   ],
   "source": [
    "AKL_df = pd.read_csv(\"./outputs/property_data_with_street.csv\",encoding='latin1')\n",
    "AKL_df = AKL_df.drop(['Unnamed: 0'],axis=1)\n",
    "print(AKL_df.head())\n",
    "print(AKL_df.shape)"
   ],
   "metadata": {
    "collapsed": false
   }
  },
  {
   "cell_type": "code",
   "execution_count": 3,
   "outputs": [
    {
     "name": "stdout",
     "output_type": "stream",
     "text": [
      "(458252, 64)\n",
      "(458252, 14)\n",
      "   street_id     source      target      street_name  street_length  \\\n",
      "0  984794487  279051892  2852049636  South Head Road         32.641   \n",
      "\n",
      "   restaurant    x    y  Average_POI_Distance  amenity  shop  healthcare  \\\n",
      "0         0.0  0.0  0.0                32.641      0.0   0.0         0.0   \n",
      "\n",
      "   school  clothes  \n",
      "0     0.0      0.0  \n"
     ]
    }
   ],
   "source": [
    "akl_embedding_df = pd.read_csv(\"./outputs/akl_embedding.csv\")\n",
    "print(akl_embedding_df.shape)\n",
    "akl_street_nodes_df = pd.read_csv(\"./outputs/akl_street_nodes.csv\")\n",
    "print(akl_street_nodes_df.shape)\n",
    "print(akl_street_nodes_df.head(1))"
   ],
   "metadata": {
    "collapsed": false
   }
  },
  {
   "cell_type": "code",
   "execution_count": 4,
   "outputs": [],
   "source": [
    "def find_embedding_for_property(property_df,street_df,emb_df):\n",
    "    street_emd_columns = ['street_embedding_'+str(i) for i in range(64)]\n",
    "    output_df = pd.DataFrame([],columns=street_emd_columns)\n",
    "    count=1\n",
    "    for row in property_df.iterrows():\n",
    "        row_index,row_data = row\n",
    "        street_id,u,v=row_data[\"street_id\"],row_data[\"street_sources\"],row_data[\"street_targets\"]\n",
    "        street_node = street_df[street_df[\"street_id\"] == street_id]\n",
    "        street_node = street_node[street_node[\"source\"] == u]\n",
    "        street_node = street_node[street_node[\"target\"] == v]\n",
    "        emd_index = street_node.index.values\n",
    "\n",
    "        current_street_embbeding_dict={}\n",
    "        embedding_values = emb_df.iloc[emd_index].values[0]\n",
    "        for i in range(64):\n",
    "            current_street_embbeding_dict[\"street_embedding_\"+str(i)] = [embedding_values[i]]\n",
    "        output_df = pd.concat([output_df,pd.DataFrame.from_dict(current_street_embbeding_dict)],ignore_index=True)\n",
    "        count+=1\n",
    "        if count % 5000\\\n",
    "                ==0:\n",
    "            print(count)\n",
    "\n",
    "    return output_df"
   ],
   "metadata": {
    "collapsed": false
   }
  },
  {
   "cell_type": "code",
   "execution_count": 5,
   "outputs": [
    {
     "name": "stdout",
     "output_type": "stream",
     "text": [
      "5000\n",
      "10000\n",
      "15000\n",
      "20000\n",
      "25000\n",
      "30000\n",
      "35000\n",
      "40000\n",
      "45000\n",
      "50000\n",
      "55000\n",
      "60000\n",
      "65000\n",
      "70000\n",
      "75000\n",
      "80000\n",
      "85000\n",
      "90000\n",
      "95000\n",
      "100000\n",
      "105000\n",
      "110000\n",
      "115000\n",
      "120000\n",
      "125000\n",
      "130000\n",
      "135000\n",
      "140000\n",
      "145000\n",
      "150000\n",
      "155000\n",
      "160000\n",
      "165000\n",
      "170000\n",
      "175000\n",
      "180000\n",
      "185000\n",
      "190000\n",
      "195000\n",
      "200000\n",
      "205000\n",
      "210000\n",
      "215000\n",
      "220000\n",
      "225000\n",
      "230000\n",
      "235000\n",
      "240000\n",
      "245000\n",
      "250000\n",
      "255000\n",
      "260000\n",
      "265000\n",
      "270000\n",
      "275000\n",
      "280000\n",
      "285000\n",
      "290000\n",
      "295000\n",
      "300000\n",
      "305000\n",
      "310000\n",
      "315000\n",
      "320000\n",
      "325000\n",
      "330000\n",
      "335000\n",
      "340000\n",
      "345000\n",
      "350000\n",
      "355000\n",
      "360000\n",
      "365000\n",
      "370000\n",
      "375000\n",
      "380000\n",
      "385000\n",
      "390000\n",
      "395000\n",
      "400000\n",
      "405000\n",
      "410000\n",
      "415000\n",
      "420000\n",
      "425000\n",
      "430000\n",
      "435000\n",
      "440000\n",
      "445000\n",
      "450000\n",
      "455000\n",
      "460000\n",
      "465000\n",
      "470000\n",
      "475000\n",
      "480000\n",
      "485000\n",
      "490000\n",
      "495000\n",
      "500000\n",
      "505000\n",
      "510000\n",
      "515000\n",
      "520000\n",
      "525000\n",
      "530000\n",
      "535000\n",
      "540000\n",
      "545000\n",
      "550000\n",
      "555000\n",
      "560000\n",
      "565000\n",
      "570000\n",
      "575000\n",
      "580000\n",
      "585000\n",
      "590000\n",
      "595000\n",
      "600000\n",
      "605000\n",
      "610000\n",
      "615000\n",
      "620000\n",
      "625000\n",
      "630000\n",
      "635000\n",
      "640000\n",
      "645000\n",
      "650000\n",
      "655000\n",
      "660000\n",
      "665000\n",
      "   CL_QPID  CL_Suburb  CL_Sale_Tenure  CL_Sale_Date  \\\n",
      "0    75499        232               0           229   \n",
      "\n",
      "   CL_Land_Valuation_Capital_Value  CL_Building_Floor_Area  \\\n",
      "0                        -0.294735               -0.397669   \n",
      "\n",
      "   CL_Building_Site_Cover  CL_Land_Area  CL_Bldg_Const  CL_Bldg_Cond  ...  \\\n",
      "0                 0.18143     15.111383             13             1  ...   \n",
      "\n",
      "   street_embedding_54  street_embedding_55  street_embedding_56  \\\n",
      "0             0.015649             0.055902             0.030447   \n",
      "\n",
      "   street_embedding_57  street_embedding_58  street_embedding_59  \\\n",
      "0            -0.028743            -0.018617            -0.010951   \n",
      "\n",
      "   street_embedding_60  street_embedding_61  street_embedding_62  \\\n",
      "0             0.017173             0.050816             0.002515   \n",
      "\n",
      "   street_embedding_63  \n",
      "0            -0.003083  \n",
      "\n",
      "[1 rows x 87 columns]\n"
     ]
    }
   ],
   "source": [
    "embedding_columns = find_embedding_for_property(AKL_df,akl_street_nodes_df,akl_embedding_df)\n",
    "AKL_df = AKL_df.merge(embedding_columns,left_index=True,right_index=True)\n",
    "print(AKL_df.head(1))"
   ],
   "metadata": {
    "collapsed": false
   }
  },
  {
   "cell_type": "code",
   "execution_count": 9,
   "outputs": [
    {
     "name": "stdout",
     "output_type": "stream",
     "text": [
      "   CL_QPID  CL_Suburb  CL_Sale_Tenure  CL_Sale_Date  \\\n",
      "0    75499        232               0           229   \n",
      "1    75639        263               0           119   \n",
      "2    75639        263               0           169   \n",
      "3    75639        263               0            70   \n",
      "4    75639        263               0           162   \n",
      "\n",
      "   CL_Land_Valuation_Capital_Value  CL_Building_Floor_Area  \\\n",
      "0                        -0.294735               -0.397669   \n",
      "1                        -0.799770               -0.397669   \n",
      "2                        -0.799770               -0.397669   \n",
      "3                        -0.874988               -0.397669   \n",
      "4                        -0.799770               -0.397669   \n",
      "\n",
      "   CL_Building_Site_Cover  CL_Land_Area  CL_Bldg_Const  CL_Bldg_Cond  ...  \\\n",
      "0                 0.18143     15.111383             13             1  ...   \n",
      "1                 0.18143     12.574967              3             1  ...   \n",
      "2                 0.18143     12.574967              3             1  ...   \n",
      "3                 0.18143     12.574967              3             1  ...   \n",
      "4                 0.18143     12.574967              3             1  ...   \n",
      "\n",
      "   street_embedding_54  street_embedding_55  street_embedding_56  \\\n",
      "0             0.015649             0.055902             0.030447   \n",
      "1             0.015649             0.055902             0.030447   \n",
      "2             0.015649             0.055902             0.030447   \n",
      "3             0.015649             0.055902             0.030447   \n",
      "4             0.015649             0.055902             0.030447   \n",
      "\n",
      "   street_embedding_57  street_embedding_58  street_embedding_59  \\\n",
      "0            -0.028743            -0.018617            -0.010951   \n",
      "1            -0.028743            -0.018617            -0.010951   \n",
      "2            -0.028743            -0.018617            -0.010951   \n",
      "3            -0.028743            -0.018617            -0.010951   \n",
      "4            -0.028743            -0.018617            -0.010951   \n",
      "\n",
      "   street_embedding_60  street_embedding_61  street_embedding_62  \\\n",
      "0             0.017173             0.050816             0.002515   \n",
      "1             0.017173             0.050816             0.002515   \n",
      "2             0.017173             0.050816             0.002515   \n",
      "3             0.017173             0.050816             0.002515   \n",
      "4             0.017173             0.050816             0.002515   \n",
      "\n",
      "   street_embedding_63  \n",
      "0            -0.003083  \n",
      "1            -0.003083  \n",
      "2            -0.003083  \n",
      "3            -0.003083  \n",
      "4            -0.003083  \n",
      "\n",
      "[5 rows x 87 columns]\n"
     ]
    }
   ],
   "source": [
    "print(AKL_df.head())\n",
    "AKL_df.to_csv(\"./outputs/akl_sale_with_distance_embeddings.csv\",index=False)"
   ],
   "metadata": {
    "collapsed": false
   }
  },
  {
   "cell_type": "code",
   "execution_count": 16,
   "outputs": [
    {
     "name": "stdout",
     "output_type": "stream",
     "text": [
      "(533812, 81)\n"
     ]
    }
   ],
   "source": [
    "property_columns = ['CL_Suburb','CL_Sale_Tenure','CL_Sale_Date','CL_Land_Valuation_Capital_Value',\n",
    "                'CL_Building_Floor_Area','CL_Building_Site_Cover',\n",
    "                'CL_Land_Area','CL_Bldg_Const','CL_Bldg_Cond','CL_Roof_Const','CL_Roof_Cond',\n",
    "                'CL_Category','CL_LUD_Age','CL_LUD_Land_Use_Description',\n",
    "                'CL_MAS_No_Main_Roof_Garages','CL_Bedrooms','CL_Bathrooms']+['street_embedding_'+str(i) for i in range(64)]\n",
    "X_columns = AKL_df[property_columns].values\n",
    "#print(property_columns)\n",
    "Y_column = AKL_df['Log_Sale_Price_Net'].values\n",
    "\n",
    "X_train, X_test, Y_train, Y_test = train_test_split(X_columns, Y_column, test_size = 0.2, random_state = 1,shuffle=True)\n",
    "\n",
    "print(X_train.shape)"
   ],
   "metadata": {
    "collapsed": false
   }
  },
  {
   "cell_type": "code",
   "execution_count": 17,
   "outputs": [
    {
     "name": "stdout",
     "output_type": "stream",
     "text": [
      "\n",
      "Training RMSE: 0.0899\n",
      "Validation RMSE: 0.0893\n",
      "[12.8967167  12.49874226 12.90917016 ... 12.9408415  13.86239414\n",
      " 12.49125159] [13.06979926 12.0870182  13.08991664 ... 13.00836021 13.30655837\n",
      " 12.5235701 ]\n",
      "[ 399000.  268000.  404000. ...  417000. 1048000.  266000.] [474396.74011907 177551.89296013 484037.00517596 ... 446127.56289429\n",
      " 601125.11659598 274737.14919948]\n",
      "\n",
      "Training RMSE: 1.8206965939809972e+16\n",
      "Validation RMSE: 3.4556690275490024e+16\n",
      "\n",
      "Training r2: 0.845\n",
      "Validation r2: 0.845\n",
      "----------------------------------------------------------------------\n",
      "Explained Variance Score of OLS model is 0.8450219478014234\n"
     ]
    }
   ],
   "source": [
    "hedonic_regression = LinearRegression()\n",
    "hedonic_regression.fit(X_train, Y_train)\n",
    "\n",
    "hedonic_regression_training_result = hedonic_regression.predict(X_train)\n",
    "hedonic_regression_Test_result = hedonic_regression.predict(X_test)\n",
    "\n",
    "print(\"\\nTraining RMSE:\", round(mean_squared_error(Y_train, hedonic_regression_training_result),4))\n",
    "print(\"Validation RMSE:\", round(mean_squared_error(Y_test, hedonic_regression_Test_result),4))\n",
    "\n",
    "# (e^0.09) 还原log\n",
    "print(Y_train,hedonic_regression_training_result)\n",
    "print(np.exp(Y_train), np.exp(hedonic_regression_training_result))\n",
    "print(\"\\nTraining RMSE:\", round(mean_squared_error(np.exp(Y_train), np.exp(hedonic_regression_training_result)),4))\n",
    "print(\"Validation RMSE:\", round(mean_squared_error(np.exp(Y_test), np.exp(hedonic_regression_Test_result)),4))\n",
    "\n",
    "print(\"\\nTraining r2:\", round(r2_score(Y_train, hedonic_regression_training_result),4))\n",
    "print(\"Validation r2:\", round(r2_score(Y_test, hedonic_regression_Test_result),4))\n",
    "\n",
    "print('----------------------------------------------------------------------')\n",
    "print('Explained Variance Score of OLS model is {}'.format(explained_variance_score(Y_test,hedonic_regression_Test_result)))"
   ],
   "metadata": {
    "collapsed": false
   }
  },
  {
   "cell_type": "code",
   "execution_count": 8,
   "outputs": [],
   "source": [],
   "metadata": {
    "collapsed": false
   }
  }
 ],
 "metadata": {
  "kernelspec": {
   "display_name": "Python 3",
   "language": "python",
   "name": "python3"
  },
  "language_info": {
   "codemirror_mode": {
    "name": "ipython",
    "version": 2
   },
   "file_extension": ".py",
   "mimetype": "text/x-python",
   "name": "python",
   "nbconvert_exporter": "python",
   "pygments_lexer": "ipython2",
   "version": "2.7.6"
  }
 },
 "nbformat": 4,
 "nbformat_minor": 0
}
