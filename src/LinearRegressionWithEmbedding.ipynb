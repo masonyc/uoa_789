{
 "cells": [
  {
   "cell_type": "code",
   "execution_count": 123,
   "metadata": {
    "collapsed": true
   },
   "outputs": [],
   "source": [
    "import pandas as pd\n",
    "import numpy as np\n",
    "from sklearn.model_selection import train_test_split\n",
    "from sklearn.linear_model import LinearRegression\n",
    "from sklearn.metrics import explained_variance_score, mean_squared_error, r2_score\n"
   ]
  },
  {
   "cell_type": "code",
   "execution_count": 124,
   "outputs": [
    {
     "name": "stdout",
     "output_type": "stream",
     "text": [
      "   CL_QPID  CL_Suburb  CL_Sale_Tenure  CL_Sale_Date  \\\n",
      "0    75738        256               0            46   \n",
      "1    75814        223               0            38   \n",
      "2    75835        223               0            17   \n",
      "3    75842        223               0             8   \n",
      "4    76103        181               0            40   \n",
      "\n",
      "   CL_Land_Valuation_Capital_Value  CL_Building_Floor_Area  \\\n",
      "0                        -0.776857               -0.084574   \n",
      "1                        -0.865695               -1.225402   \n",
      "2                        -0.998952                2.538018   \n",
      "3                        -1.206240               -1.225402   \n",
      "4                        -0.836082                0.571074   \n",
      "\n",
      "   CL_Building_Site_Cover  CL_Land_Area  CL_Bldg_Const  CL_Bldg_Cond  ...  \\\n",
      "0               -0.283212     14.915984              2             2  ...   \n",
      "1               -1.177352      0.444313              3             0  ...   \n",
      "2                1.147412      2.320124             13             0  ...   \n",
      "3               -0.944876      1.163716             13             0  ...   \n",
      "4               -0.640868      0.766151              3             2  ...   \n",
      "\n",
      "   CL_LUD_Age  CL_LUD_Land_Use_Description  CL_MAS_No_Main_Roof_Garages  \\\n",
      "0           8                            8                    -1.076646   \n",
      "1           8                            0                    -1.076646   \n",
      "2           8                            8                     1.071182   \n",
      "3          10                            8                    -1.076646   \n",
      "4           9                            8                     2.145097   \n",
      "\n",
      "   CL_Bedrooms  CL_Bathrooms  Log_Sale_Price_Net  school_count    street_id  \\\n",
      "0    -0.303571     -0.679963           13.440090             1  [176939125]   \n",
      "1    -1.313280     -0.679963           13.582317             1  [238240411]   \n",
      "2     0.706137      0.234300           12.933621             1  [109843718]   \n",
      "3    -1.313280     -0.679963           12.628067             1  [109843699]   \n",
      "4    -0.303571      0.234300           13.468786             1  [108253427]   \n",
      "\n",
      "   street_sources  street_targets  \n",
      "0      1874183568      1874183557  \n",
      "1      2460839797      7809299245  \n",
      "2      1256448996      1256448947  \n",
      "3      9959069731      1256448996  \n",
      "4      3924765687      3924765686  \n",
      "\n",
      "[5 rows x 23 columns]\n",
      "(81633, 23)\n"
     ]
    }
   ],
   "source": [
    "AKL_df = pd.read_csv(\"./outputs/property_data_with_street.csv\",encoding='latin1')\n",
    "AKL_df = AKL_df.drop(['Unnamed: 0'],axis=1)\n",
    "print(AKL_df.head())\n",
    "print(AKL_df.shape)"
   ],
   "metadata": {
    "collapsed": false
   }
  },
  {
   "cell_type": "code",
   "execution_count": 125,
   "outputs": [
    {
     "name": "stdout",
     "output_type": "stream",
     "text": [
      "(458252, 64)\n",
      "64\n",
      "(458252, 14)\n",
      "   street_id  street_sources  street_targets      street_name  street_length  \\\n",
      "0  984794487       279051892      2852049636  South Head Road         32.641   \n",
      "\n",
      "   restaurant    x    y  Average_POI_Distance  amenity  school  shop  \\\n",
      "0         0.0  0.0  0.0                32.641      0.0     0.0   0.0   \n",
      "\n",
      "   healthcare  clothes  \n",
      "0         0.0      0.0  \n"
     ]
    }
   ],
   "source": [
    "akl_embedding_df = pd.read_csv(\"./outputs/akl_embedding.csv\")\n",
    "print(akl_embedding_df.shape)\n",
    "\n",
    "embedding_size = akl_embedding_df.shape[1]\n",
    "\n",
    "akl_embedding_df.columns = ['street_embedding_'+str(i) for i in range(embedding_size)]\n",
    "print(embedding_size)\n",
    "\n",
    "akl_street_nodes_df = pd.read_csv(\"./outputs/akl_street_nodes.csv\")\n",
    "\n",
    "akl_street_nodes_df = akl_street_nodes_df.rename(columns={\"source\": \"street_sources\", \"target\": \"street_targets\"})\n",
    "print(akl_street_nodes_df.shape)\n",
    "print(akl_street_nodes_df.head(1))"
   ],
   "metadata": {
    "collapsed": false
   }
  },
  {
   "cell_type": "code",
   "execution_count": 126,
   "outputs": [],
   "source": [
    "def find_embedding_for_property(property_df,street_df,emb_df):\n",
    "    street_with_embedding = street_df.merge(emb_df, left_index=True, right_index=True)\n",
    "    output_df = property_df.merge(street_with_embedding,on=[\"street_sources\",\"street_targets\"])\n",
    "    return output_df"
   ],
   "metadata": {
    "collapsed": false
   }
  },
  {
   "cell_type": "code",
   "execution_count": 127,
   "outputs": [
    {
     "name": "stdout",
     "output_type": "stream",
     "text": [
      "['Silver Hill Road' 'Okahukura Road' 'Wharf Road' ... 'Studholme Street'\n",
      " 'Kern Road' 'Sollum Road']\n"
     ]
    }
   ],
   "source": [
    "x_df = find_embedding_for_property(AKL_df,akl_street_nodes_df,akl_embedding_df)\n",
    "print(x_df[\"street_name\"].unique())"
   ],
   "metadata": {
    "collapsed": false
   }
  },
  {
   "cell_type": "code",
   "execution_count": 128,
   "outputs": [
    {
     "name": "stdout",
     "output_type": "stream",
     "text": [
      "0        Silver Hill Road\n",
      "1          Okahukura Road\n",
      "2              Wharf Road\n",
      "3            Becroft Road\n",
      "4           B M Gubb Road\n",
      "               ...       \n",
      "40732       Kawiti Avenue\n",
      "40733     Schoolside Road\n",
      "40734      Cheviot Street\n",
      "40735       Kestrel Place\n",
      "40736         Sollum Road\n",
      "Name: street_name, Length: 40737, dtype: object\n"
     ]
    }
   ],
   "source": [
    "AKL_df = find_embedding_for_property(AKL_df,akl_street_nodes_df,akl_embedding_df)\n",
    "print(AKL_df[\"street_name\"])\n",
    "#print(AKL_df.shape)\n",
    "#print(AKL_df.head(1))"
   ],
   "metadata": {
    "collapsed": false
   }
  },
  {
   "cell_type": "code",
   "execution_count": 129,
   "outputs": [
    {
     "name": "stdout",
     "output_type": "stream",
     "text": [
      "   CL_QPID  CL_Suburb  CL_Sale_Tenure  CL_Sale_Date  \\\n",
      "0    75738        256               0            46   \n",
      "1    75842        223               0             8   \n",
      "2    76103        181               0            40   \n",
      "3    76139        256               0             3   \n",
      "4    76170        181               0             0   \n",
      "\n",
      "   CL_Land_Valuation_Capital_Value  CL_Building_Floor_Area  \\\n",
      "0                        -0.776857               -0.084574   \n",
      "1                        -1.206240               -1.225402   \n",
      "2                        -0.836082                0.571074   \n",
      "3                        -0.776857                0.085894   \n",
      "4                        -1.006355               -0.727110   \n",
      "\n",
      "   CL_Building_Site_Cover  CL_Land_Area  CL_Bldg_Const  CL_Bldg_Cond  ...  \\\n",
      "0               -0.283212     14.915984              2             2  ...   \n",
      "1               -0.944876      1.163716             13             0  ...   \n",
      "2               -0.640868      0.766151              3             2  ...   \n",
      "3                0.789756      5.096767             13             1  ...   \n",
      "4               -0.283212      0.764574              3             1  ...   \n",
      "\n",
      "   street_embedding_54  street_embedding_55  street_embedding_56  \\\n",
      "0             0.086230            -0.112482            -0.040276   \n",
      "1             0.251982            -0.108817            -0.024482   \n",
      "2             0.086230            -0.112482            -0.040276   \n",
      "3             0.086230            -0.112482            -0.040276   \n",
      "4             0.086230            -0.112482            -0.040276   \n",
      "\n",
      "   street_embedding_57  street_embedding_58  street_embedding_59  \\\n",
      "0            -0.052723             0.057164            -0.062779   \n",
      "1            -0.034980            -0.131671             0.112300   \n",
      "2            -0.052723             0.057164            -0.062779   \n",
      "3            -0.052723             0.057164            -0.062779   \n",
      "4            -0.052723             0.057164            -0.062779   \n",
      "\n",
      "   street_embedding_60  street_embedding_61  street_embedding_62  \\\n",
      "0            -0.006073             0.013548             0.111693   \n",
      "1             0.080021             0.108101             0.167847   \n",
      "2            -0.006073             0.013548             0.111693   \n",
      "3            -0.006073             0.013548             0.111693   \n",
      "4            -0.006073             0.013548             0.111693   \n",
      "\n",
      "   street_embedding_63  \n",
      "0             0.085003  \n",
      "1             0.475106  \n",
      "2             0.085003  \n",
      "3             0.085003  \n",
      "4             0.085003  \n",
      "\n",
      "[5 rows x 99 columns]\n",
      "(40737, 99)\n",
      "Index(['CL_QPID', 'CL_Suburb', 'CL_Sale_Tenure', 'CL_Sale_Date',\n",
      "       'CL_Land_Valuation_Capital_Value', 'CL_Building_Floor_Area',\n",
      "       'CL_Building_Site_Cover', 'CL_Land_Area', 'CL_Bldg_Const',\n",
      "       'CL_Bldg_Cond', 'CL_Roof_Const', 'CL_Roof_Cond', 'CL_Category',\n",
      "       'CL_LUD_Age', 'CL_LUD_Land_Use_Description',\n",
      "       'CL_MAS_No_Main_Roof_Garages', 'CL_Bedrooms', 'CL_Bathrooms',\n",
      "       'Log_Sale_Price_Net', 'school_count', 'street_id_x', 'street_sources',\n",
      "       'street_targets', 'street_id_y', 'street_name', 'street_length',\n",
      "       'restaurant', 'x', 'y', 'Average_POI_Distance', 'amenity', 'school',\n",
      "       'shop', 'healthcare', 'clothes', 'street_embedding_0',\n",
      "       'street_embedding_1', 'street_embedding_2', 'street_embedding_3',\n",
      "       'street_embedding_4', 'street_embedding_5', 'street_embedding_6',\n",
      "       'street_embedding_7', 'street_embedding_8', 'street_embedding_9',\n",
      "       'street_embedding_10', 'street_embedding_11', 'street_embedding_12',\n",
      "       'street_embedding_13', 'street_embedding_14', 'street_embedding_15',\n",
      "       'street_embedding_16', 'street_embedding_17', 'street_embedding_18',\n",
      "       'street_embedding_19', 'street_embedding_20', 'street_embedding_21',\n",
      "       'street_embedding_22', 'street_embedding_23', 'street_embedding_24',\n",
      "       'street_embedding_25', 'street_embedding_26', 'street_embedding_27',\n",
      "       'street_embedding_28', 'street_embedding_29', 'street_embedding_30',\n",
      "       'street_embedding_31', 'street_embedding_32', 'street_embedding_33',\n",
      "       'street_embedding_34', 'street_embedding_35', 'street_embedding_36',\n",
      "       'street_embedding_37', 'street_embedding_38', 'street_embedding_39',\n",
      "       'street_embedding_40', 'street_embedding_41', 'street_embedding_42',\n",
      "       'street_embedding_43', 'street_embedding_44', 'street_embedding_45',\n",
      "       'street_embedding_46', 'street_embedding_47', 'street_embedding_48',\n",
      "       'street_embedding_49', 'street_embedding_50', 'street_embedding_51',\n",
      "       'street_embedding_52', 'street_embedding_53', 'street_embedding_54',\n",
      "       'street_embedding_55', 'street_embedding_56', 'street_embedding_57',\n",
      "       'street_embedding_58', 'street_embedding_59', 'street_embedding_60',\n",
      "       'street_embedding_61', 'street_embedding_62', 'street_embedding_63'],\n",
      "      dtype='object')\n"
     ]
    }
   ],
   "source": [
    "print(AKL_df.head())\n",
    "print(AKL_df.shape)\n",
    "print(AKL_df.columns)\n",
    "AKL_df.to_csv(\"./outputs/akl_sale_with_distance_embeddings.csv\",index=False)"
   ],
   "metadata": {
    "collapsed": false
   }
  },
  {
   "cell_type": "code",
   "execution_count": 130,
   "outputs": [
    {
     "name": "stdout",
     "output_type": "stream",
     "text": [
      "[[2.5600000e+02 0.0000000e+00 4.6000000e+01 ... 1.3548225e-02\n",
      "  1.1169331e-01 8.5002690e-02]\n",
      " [2.2300000e+02 0.0000000e+00 8.0000000e+00 ... 1.0810079e-01\n",
      "  1.6784680e-01 4.7510636e-01]\n",
      " [1.8100000e+02 0.0000000e+00 4.0000000e+01 ... 1.3548225e-02\n",
      "  1.1169331e-01 8.5002690e-02]\n",
      " ...\n",
      " [1.1200000e+02 0.0000000e+00 3.0000000e+01 ... 8.5393740e-02\n",
      "  1.4274275e-01 3.5733795e-01]\n",
      " [2.4100000e+02 0.0000000e+00 3.3000000e+01 ... 1.3548225e-02\n",
      "  1.1169331e-01 8.5002690e-02]\n",
      " [1.6500000e+02 0.0000000e+00 2.5000000e+01 ... 4.7430936e-02\n",
      "  9.4463766e-02 1.2760548e-01]]\n",
      "(32589, 81)\n"
     ]
    }
   ],
   "source": [
    "property_columns = ['CL_Suburb','CL_Sale_Tenure','CL_Sale_Date','CL_Land_Valuation_Capital_Value',\n",
    "                'CL_Building_Floor_Area','CL_Building_Site_Cover',\n",
    "                'CL_Land_Area','CL_Bldg_Const','CL_Bldg_Cond','CL_Roof_Const','CL_Roof_Cond',\n",
    "                'CL_Category','CL_LUD_Age','CL_LUD_Land_Use_Description',\n",
    "                'CL_MAS_No_Main_Roof_Garages','CL_Bedrooms','CL_Bathrooms']+['street_embedding_'+str(i) for i in range(embedding_size)]\n",
    "X_columns = AKL_df[property_columns].values\n",
    "#print(X_columns)\n",
    "Y_column = AKL_df['Log_Sale_Price_Net'].values\n",
    "\n",
    "X_train, X_test, Y_train, Y_test = train_test_split(X_columns, Y_column, test_size = 0.2, random_state = 1,shuffle=True)\n",
    "\n",
    "print(X_train.shape)"
   ],
   "metadata": {
    "collapsed": false
   }
  },
  {
   "cell_type": "code",
   "execution_count": 133,
   "outputs": [
    {
     "name": "stdout",
     "output_type": "stream",
     "text": [
      "\n",
      "Training RMSE: 0.0616\n",
      "Validation RMSE: 0.0691\n",
      "\n",
      "Training r2: 0.7905\n",
      "Validation r2: 0.7681\n",
      "----------------------------------------------------------------------\n",
      "Explained Variance Score of OLS model is 0.7681833000053138\n"
     ]
    }
   ],
   "source": [
    "hedonic_regression = LinearRegression()\n",
    "hedonic_regression.fit(X_train, Y_train)\n",
    "\n",
    "hedonic_regression_training_result = hedonic_regression.predict(X_train)\n",
    "hedonic_regression_Test_result = hedonic_regression.predict(X_test)\n",
    "\n",
    "print(\"\\nTraining RMSE:\", round(mean_squared_error(Y_train, hedonic_regression_training_result),4))\n",
    "print(\"Validation RMSE:\", round(mean_squared_error(Y_test, hedonic_regression_Test_result),4))\n",
    "\n",
    "# (e^0.09) 还原log\n",
    "# print(Y_train,hedonic_regression_training_result)\n",
    "# print(np.exp(Y_train), np.exp(hedonic_regression_training_result))\n",
    "\n",
    "# print(\"\\nTraining RMSE:\", round(mean_squared_error(np.exp(Y_train), np.exp(hedonic_regression_training_result)),4))\n",
    "# print(\"Validation RMSE:\", round(mean_squared_error(np.exp(Y_test), np.exp(hedonic_regression_Test_result)),4))\n",
    "\n",
    "print(\"\\nTraining r2:\", round(r2_score(Y_train, hedonic_regression_training_result),4))\n",
    "print(\"Validation r2:\", round(r2_score(Y_test, hedonic_regression_Test_result),4))\n",
    "\n",
    "print('----------------------------------------------------------------------')\n",
    "print('Explained Variance Score of OLS model is {}'.format(explained_variance_score(Y_test,hedonic_regression_Test_result)))"
   ],
   "metadata": {
    "collapsed": false
   }
  },
  {
   "cell_type": "code",
   "execution_count": 131,
   "outputs": [],
   "source": [],
   "metadata": {
    "collapsed": false
   }
  }
 ],
 "metadata": {
  "kernelspec": {
   "display_name": "Python 3",
   "language": "python",
   "name": "python3"
  },
  "language_info": {
   "codemirror_mode": {
    "name": "ipython",
    "version": 2
   },
   "file_extension": ".py",
   "mimetype": "text/x-python",
   "name": "python",
   "nbconvert_exporter": "python",
   "pygments_lexer": "ipython2",
   "version": "2.7.6"
  }
 },
 "nbformat": 4,
 "nbformat_minor": 0
}
