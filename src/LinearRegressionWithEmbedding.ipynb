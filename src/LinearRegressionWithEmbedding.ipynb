{
 "cells": [
  {
   "cell_type": "code",
   "execution_count": 28,
   "metadata": {
    "collapsed": true
   },
   "outputs": [],
   "source": [
    "import pandas as pd\n",
    "import numpy as np\n",
    "from sklearn.model_selection import train_test_split\n",
    "from sklearn.linear_model import LinearRegression\n",
    "from sklearn.metrics import explained_variance_score, mean_squared_error, r2_score\n",
    "output_path = \"/run/media/yunchen/lacie\"\n"
   ]
  },
  {
   "cell_type": "code",
   "execution_count": 29,
   "outputs": [
    {
     "name": "stdout",
     "output_type": "stream",
     "text": [
      "   CL_QPID  CL_Suburb  CL_Sale_Tenure  CL_Sale_Date  \\\n",
      "0    75738        256               0            46   \n",
      "1    75814        223               0            38   \n",
      "2    75835        223               0            17   \n",
      "3    75842        223               0             8   \n",
      "4    76103        181               0            40   \n",
      "\n",
      "   CL_Land_Valuation_Capital_Value  CL_Building_Floor_Area  \\\n",
      "0                        -0.776857               -0.084574   \n",
      "1                        -0.865695               -1.225402   \n",
      "2                        -0.998952                2.538018   \n",
      "3                        -1.206240               -1.225402   \n",
      "4                        -0.836082                0.571074   \n",
      "\n",
      "   CL_Building_Site_Cover  CL_Land_Area  CL_Bldg_Const  CL_Bldg_Cond  ...  \\\n",
      "0               -0.283212     14.915984              2             2  ...   \n",
      "1               -1.177352      0.444313              3             0  ...   \n",
      "2                1.147412      2.320124             13             0  ...   \n",
      "3               -0.944876      1.163716             13             0  ...   \n",
      "4               -0.640868      0.766151              3             2  ...   \n",
      "\n",
      "   CL_LUD_Age  CL_LUD_Land_Use_Description  CL_MAS_No_Main_Roof_Garages  \\\n",
      "0           8                            8                    -1.076646   \n",
      "1           8                            0                    -1.076646   \n",
      "2           8                            8                     1.071182   \n",
      "3          10                            8                    -1.076646   \n",
      "4           9                            8                     2.145097   \n",
      "\n",
      "   CL_Bedrooms  CL_Bathrooms  Log_Sale_Price_Net  school_count    street_id  \\\n",
      "0    -0.303571     -0.679963           13.440090             1  [176939125]   \n",
      "1    -1.313280     -0.679963           13.582317             1  [238240411]   \n",
      "2     0.706137      0.234300           12.933621             1  [109843718]   \n",
      "3    -1.313280     -0.679963           12.628067             1  [109843699]   \n",
      "4    -0.303571      0.234300           13.468786             1  [108253427]   \n",
      "\n",
      "   street_sources  street_targets  \n",
      "0      1874183568      1874183557  \n",
      "1      2460839797      7809299245  \n",
      "2      1256448996      1256448947  \n",
      "3      9959069731      1256448996  \n",
      "4      3924765687      3924765686  \n",
      "\n",
      "[5 rows x 23 columns]\n",
      "(81633, 23)\n"
     ]
    }
   ],
   "source": [
    "AKL_df = pd.read_csv(f\"{output_path}/outputs/property_data_with_street.csv\",encoding='latin1')\n",
    "AKL_df = AKL_df.drop(['Unnamed: 0'],axis=1)\n",
    "print(AKL_df.head())\n",
    "print(AKL_df.shape)"
   ],
   "metadata": {
    "collapsed": false
   }
  },
  {
   "cell_type": "code",
   "execution_count": 30,
   "outputs": [
    {
     "name": "stdout",
     "output_type": "stream",
     "text": [
      "(458252, 8)\n",
      "8\n",
      "(458252, 14)\n",
      "   street_id  street_sources  street_targets      street_name  street_length  \\\n",
      "0  984794487       279051892      2852049636  South Head Road         32.641   \n",
      "\n",
      "   restaurant    x    y  Average_POI_Distance  amenity  school  shop  \\\n",
      "0         0.0  0.0  0.0                32.641      0.0     0.0   0.0   \n",
      "\n",
      "   healthcare  clothes  \n",
      "0         0.0      0.0  \n"
     ]
    }
   ],
   "source": [
    "akl_embedding_df = pd.read_csv(f\"./outputs/akl_embedding_1667625923.csv\")\n",
    "print(akl_embedding_df.shape)\n",
    "\n",
    "embedding_size = akl_embedding_df.shape[1]\n",
    "\n",
    "akl_embedding_df.columns = ['street_embedding_'+str(i) for i in range(embedding_size)]\n",
    "print(embedding_size)\n",
    "\n",
    "akl_street_nodes_df = pd.read_csv(f\"{output_path}/outputs/akl_street_nodes.csv\")\n",
    "\n",
    "akl_street_nodes_df = akl_street_nodes_df.rename(columns={\"source\": \"street_sources\", \"target\": \"street_targets\"})\n",
    "print(akl_street_nodes_df.shape)\n",
    "print(akl_street_nodes_df.head(1))"
   ],
   "metadata": {
    "collapsed": false
   }
  },
  {
   "cell_type": "code",
   "execution_count": 31,
   "outputs": [],
   "source": [
    "def find_embedding_for_property(property_df,street_df,emb_df):\n",
    "    street_with_embedding = street_df.merge(emb_df, left_index=True, right_index=True)\n",
    "    output_df = property_df.merge(street_with_embedding,on=[\"street_sources\",\"street_targets\"])\n",
    "    return output_df"
   ],
   "metadata": {
    "collapsed": false
   }
  },
  {
   "cell_type": "code",
   "execution_count": 32,
   "outputs": [
    {
     "name": "stdout",
     "output_type": "stream",
     "text": [
      "['Silver Hill Road' 'Okahukura Road' 'Wharf Road' ... 'Studholme Street'\n",
      " 'Kern Road' 'Sollum Road']\n"
     ]
    }
   ],
   "source": [
    "x_df = find_embedding_for_property(AKL_df,akl_street_nodes_df,akl_embedding_df)\n",
    "print(x_df[\"street_name\"].unique())"
   ],
   "metadata": {
    "collapsed": false
   }
  },
  {
   "cell_type": "code",
   "execution_count": 33,
   "outputs": [
    {
     "name": "stdout",
     "output_type": "stream",
     "text": [
      "0        Silver Hill Road\n",
      "1          Okahukura Road\n",
      "2              Wharf Road\n",
      "3            Becroft Road\n",
      "4           B M Gubb Road\n",
      "               ...       \n",
      "40732       Kawiti Avenue\n",
      "40733     Schoolside Road\n",
      "40734      Cheviot Street\n",
      "40735       Kestrel Place\n",
      "40736         Sollum Road\n",
      "Name: street_name, Length: 40737, dtype: object\n"
     ]
    }
   ],
   "source": [
    "AKL_df = find_embedding_for_property(AKL_df,akl_street_nodes_df,akl_embedding_df)\n",
    "print(AKL_df[\"street_name\"])\n",
    "#print(AKL_df.shape)\n",
    "#print(AKL_df.head(1))"
   ],
   "metadata": {
    "collapsed": false
   }
  },
  {
   "cell_type": "code",
   "execution_count": 34,
   "outputs": [],
   "source": [
    "# print(AKL_df.head())\n",
    "# print(AKL_df.shape)\n",
    "# print(AKL_df.columns)\n",
    "# AKL_df.to_csv(\"./outputs/akl_sale_with_distance_embeddings.csv\",index=False)"
   ],
   "metadata": {
    "collapsed": false
   }
  },
  {
   "cell_type": "code",
   "execution_count": 35,
   "outputs": [
    {
     "name": "stdout",
     "output_type": "stream",
     "text": [
      "(24441, 25)\n"
     ]
    }
   ],
   "source": [
    "property_columns = ['CL_Suburb','CL_Sale_Tenure','CL_Sale_Date','CL_Land_Valuation_Capital_Value',\n",
    "                'CL_Building_Floor_Area','CL_Building_Site_Cover',\n",
    "                'CL_Land_Area','CL_Bldg_Const','CL_Bldg_Cond','CL_Roof_Const','CL_Roof_Cond',\n",
    "                'CL_Category','CL_LUD_Age','CL_LUD_Land_Use_Description',\n",
    "                'CL_MAS_No_Main_Roof_Garages','CL_Bedrooms','CL_Bathrooms']+['street_embedding_'+str(i) for i in range(embedding_size)]\n",
    "X_columns = AKL_df[property_columns].values\n",
    "#print(X_columns)\n",
    "Y_column = AKL_df['Log_Sale_Price_Net'].values\n",
    "\n",
    "X_train, X_test, Y_train, Y_test = train_test_split(X_columns, Y_column, test_size=0.2, random_state=1,shuffle=True)\n",
    "X_train, X_val, Y_train, Y_val = train_test_split(X_train, Y_train, test_size=0.25, random_state=1,shuffle=True)\n",
    "\n",
    "# X_train, X_val, Y_train, Y_val = train_test_split(X_columns, Y_column, test_size=0.2, random_state=1,shuffle=True)\n",
    "\n",
    "print(X_train.shape)"
   ],
   "metadata": {
    "collapsed": false
   }
  },
  {
   "cell_type": "code",
   "execution_count": 36,
   "outputs": [
    {
     "name": "stdout",
     "output_type": "stream",
     "text": [
      "\n",
      "Training RMSE: 0.0635\n",
      "Validation RMSE: 0.0601\n",
      "\n",
      "Training r2: 0.784\n",
      "Validation r2: 0.796\n",
      "----------------------------------------------------------------------\n",
      "Explained Variance Score of OLS model is 0.7959776800840996\n"
     ]
    }
   ],
   "source": [
    "hedonic_regression = LinearRegression()\n",
    "hedonic_regression.fit(X_train, Y_train)\n",
    "\n",
    "hedonic_regression_training_result = hedonic_regression.predict(X_train)\n",
    "hedonic_regression_validation_result = hedonic_regression.predict(X_val)\n",
    "\n",
    "print(\"\\nTraining RMSE:\", round(mean_squared_error(Y_train, hedonic_regression_training_result),4))\n",
    "print(\"Validation RMSE:\", round(mean_squared_error(Y_val, hedonic_regression_validation_result),4))\n",
    "\n",
    "# (e^0.09) 还原log\n",
    "# print(Y_train,hedonic_regression_training_result)\n",
    "# print(np.exp(Y_train), np.exp(hedonic_regression_training_result))\n",
    "\n",
    "# print(\"\\nTraining RMSE:\", round(mean_squared_error(np.exp(Y_train), np.exp(hedonic_regression_training_result)),4))\n",
    "# print(\"Validation RMSE:\", round(mean_squared_error(np.exp(Y_test), np.exp(hedonic_regression_Test_result)),4))\n",
    "\n",
    "print(\"\\nTraining r2:\", round(r2_score(Y_train, hedonic_regression_training_result),4))\n",
    "print(\"Validation r2:\", round(r2_score(Y_val, hedonic_regression_validation_result),4))\n",
    "\n",
    "print('----------------------------------------------------------------------')\n",
    "print('Explained Variance Score of OLS model is {}'.format(explained_variance_score(Y_val,hedonic_regression_validation_result)))"
   ],
   "metadata": {
    "collapsed": false
   }
  },
  {
   "cell_type": "code",
   "execution_count": 36,
   "outputs": [],
   "source": [],
   "metadata": {
    "collapsed": false
   }
  }
 ],
 "metadata": {
  "kernelspec": {
   "display_name": "Python 3",
   "language": "python",
   "name": "python3"
  },
  "language_info": {
   "codemirror_mode": {
    "name": "ipython",
    "version": 2
   },
   "file_extension": ".py",
   "mimetype": "text/x-python",
   "name": "python",
   "nbconvert_exporter": "python",
   "pygments_lexer": "ipython2",
   "version": "2.7.6"
  }
 },
 "nbformat": 4,
 "nbformat_minor": 0
}
