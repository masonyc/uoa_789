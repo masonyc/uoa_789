{
 "cells": [
  {
   "cell_type": "code",
   "execution_count": 1,
   "outputs": [],
   "source": [
    "import requests\n",
    "import osmnx as ox"
   ],
   "metadata": {
    "collapsed": false,
    "pycharm": {
     "name": "#%%\n"
    }
   }
  },
  {
   "cell_type": "code",
   "execution_count": 2,
   "outputs": [
    {
     "name": "stdout",
     "output_type": "stream",
     "text": [
      "                                            geometry  bbox_north  bbox_south  \\\n",
      "0  POLYGON ((222219.771 -4050395.343, 224043.539 ...  -35.698392  -37.364474   \n",
      "\n",
      "    bbox_east   bbox_west   place_id  osm_type   osm_id        lat        lon  \\\n",
      "0  175.903215  173.896328  298615087  relation  2094141 -36.541281  174.55061   \n",
      "\n",
      "            display_name     class            type  importance  \n",
      "0  Auckland, New Zealand  boundary  administrative        0.66  \n"
     ]
    },
    {
     "data": {
      "text/plain": "<Figure size 432x288 with 1 Axes>",
      "image/png": "[encoded data removed]"
     },
     "metadata": {
      "needs_background": "light"
     },
     "output_type": "display_data"
    }
   ],
   "source": [
    "# Find Auckland location from osmx package\n",
    "city = ox.geocode_to_gdf(\"Auckland, NZ\")\n",
    "city_proj = ox.project_gdf(city)\n",
    "ax = city_proj.plot(fc=\"gray\", ec=\"none\")\n",
    "_ = ax.axis(\"off\")\n",
    "print(city_proj)"
   ],
   "metadata": {
    "collapsed": false,
    "pycharm": {
     "name": "#%%\n"
    }
   }
  },
  {
   "cell_type": "code",
   "execution_count": 3,
   "outputs": [
    {
     "name": "stdout",
     "output_type": "stream",
     "text": [
      "MultiDiGraph with 624978 nodes and 1280502 edges\n"
     ]
    }
   ],
   "source": [
    "# Find Auckland BBox and download street informations\n",
    "north, south, east, west = city_proj['bbox_north'][0],city_proj['bbox_south'][0],city_proj['bbox_east'][0],city_proj['bbox_west'][0]\n",
    "\n",
    "G = ox.graph_from_bbox(north,south,west,east, network_type='walk',\n",
    "    simplify=False,\n",
    "    retain_all=True,\n",
    "    custom_filter = '[\"highway\"~\"unclassified|trunk|primary|tertiary|secondary|track|path|residential\"]')\n",
    "print(G)"
   ],
   "metadata": {
    "collapsed": false,
    "pycharm": {
     "name": "#%%\n"
    }
   }
  },
  {
   "cell_type": "code",
   "execution_count": 5,
   "outputs": [
    {
     "name": "stdout",
     "output_type": "stream",
     "text": [
      "                                  amenity  \\\n",
      "element_type osmid                          \n",
      "node         850055554            parking   \n",
      "             936116124               cafe   \n",
      "way          140624820             school   \n",
      "             486569706            parking   \n",
      "node         1027056415           parking   \n",
      "...                                   ...   \n",
      "way          1021771366     parking_space   \n",
      "             1021771367     parking_space   \n",
      "             1021771368     parking_space   \n",
      "             1024234275  place_of_worship   \n",
      "             1029560335           toilets   \n",
      "\n",
      "                                                                  geometry  \\\n",
      "element_type osmid                                                           \n",
      "node         850055554                         POINT (174.34740 -36.70543)   \n",
      "             936116124                         POINT (174.33970 -36.61160)   \n",
      "way          140624820   POLYGON ((174.29736 -36.54161, 174.29790 -36.5...   \n",
      "             486569706   POLYGON ((174.31698 -36.56045, 174.31699 -36.5...   \n",
      "node         1027056415                        POINT (174.18503 -36.12944)   \n",
      "...                                                                    ...   \n",
      "way          1021771366  POLYGON ((175.87138 -37.20847, 175.87136 -37.2...   \n",
      "             1021771367  POLYGON ((175.87141 -37.20851, 175.87139 -37.2...   \n",
      "             1021771368  POLYGON ((175.87145 -37.20855, 175.87143 -37.2...   \n",
      "             1024234275  POLYGON ((175.86573 -37.21513, 175.86578 -37.2...   \n",
      "             1029560335  POLYGON ((175.71222 -37.04213, 175.71219 -37.0...   \n",
      "\n",
      "                                                    name  \\\n",
      "element_type osmid                                         \n",
      "node         850055554                               NaN   \n",
      "             936116124   Macadamia Orchard Shop and Cafe   \n",
      "way          140624820                   Waioneke School   \n",
      "             486569706                               NaN   \n",
      "node         1027056415                              NaN   \n",
      "...                                                  ...   \n",
      "way          1021771366                              NaN   \n",
      "             1021771367                              NaN   \n",
      "             1021771368                              NaN   \n",
      "             1024234275       St Patrick Catholic Church   \n",
      "             1029560335                              NaN   \n",
      "\n",
      "                                                                     nodes  \\\n",
      "element_type osmid                                                           \n",
      "node         850055554                                                 NaN   \n",
      "             936116124                                                 NaN   \n",
      "way          140624820   [1540332808, 1540332819, 1540332823, 154033285...   \n",
      "             486569706   [4791618577, 4791618566, 4791618562, 479161858...   \n",
      "node         1027056415                                                NaN   \n",
      "...                                                                    ...   \n",
      "way          1021771366  [9412485111, 9412485110, 9423760016, 942377091...   \n",
      "             1021771367  [9423770918, 9423760016, 9423770917, 942377091...   \n",
      "             1021771368  [9423770919, 9423770917, 9412485109, 941248510...   \n",
      "             1024234275  [9444694602, 9444694603, 9444694604, 944469460...   \n",
      "             1029560335  [3259360676, 9491918697, 9491918698, 949191869...   \n",
      "\n",
      "                        MOE:authority MOE:gender MOE:id MOE:years  \\\n",
      "element_type osmid                                                  \n",
      "node         850055554            NaN        NaN    NaN       NaN   \n",
      "             936116124            NaN        NaN    NaN       NaN   \n",
      "way          140624820          state       coed   1553       1-8   \n",
      "             486569706            NaN        NaN    NaN       NaN   \n",
      "node         1027056415           NaN        NaN    NaN       NaN   \n",
      "...                               ...        ...    ...       ...   \n",
      "way          1021771366           NaN        NaN    NaN       NaN   \n",
      "             1021771367           NaN        NaN    NaN       NaN   \n",
      "             1021771368           NaN        NaN    NaN       NaN   \n",
      "             1024234275           NaN        NaN    NaN       NaN   \n",
      "             1029560335           NaN        NaN    NaN       NaN   \n",
      "\n",
      "                           addr:city addr:hamlet  ... washing_machine  \\\n",
      "element_type osmid                                ...                   \n",
      "node         850055554           NaN         NaN  ...             NaN   \n",
      "             936116124           NaN         NaN  ...             NaN   \n",
      "way          140624820   Helensville  South Head  ...             NaN   \n",
      "             486569706           NaN         NaN  ...             NaN   \n",
      "node         1027056415          NaN         NaN  ...             NaN   \n",
      "...                              ...         ...  ...             ...   \n",
      "way          1021771366          NaN         NaN  ...             NaN   \n",
      "             1021771367          NaN         NaN  ...             NaN   \n",
      "             1021771368          NaN         NaN  ...             NaN   \n",
      "             1024234275          NaN         NaN  ...             NaN   \n",
      "             1029560335          NaN         NaN  ...             NaN   \n",
      "\n",
      "                        cuisine:specialty internet_access:type contact:fax  \\\n",
      "element_type osmid                                                           \n",
      "node         850055554                NaN                  NaN         NaN   \n",
      "             936116124                NaN                  NaN         NaN   \n",
      "way          140624820                NaN                  NaN         NaN   \n",
      "             486569706                NaN                  NaN         NaN   \n",
      "node         1027056415               NaN                  NaN         NaN   \n",
      "...                                   ...                  ...         ...   \n",
      "way          1021771366               NaN                  NaN         NaN   \n",
      "             1021771367               NaN                  NaN         NaN   \n",
      "             1021771368               NaN                  NaN         NaN   \n",
      "             1024234275               NaN                  NaN         NaN   \n",
      "             1029560335               NaN                  NaN         NaN   \n",
      "\n",
      "                        recycling:magazines recycling:newspaper  \\\n",
      "element_type osmid                                                \n",
      "node         850055554                  NaN                 NaN   \n",
      "             936116124                  NaN                 NaN   \n",
      "way          140624820                  NaN                 NaN   \n",
      "             486569706                  NaN                 NaN   \n",
      "node         1027056415                 NaN                 NaN   \n",
      "...                                     ...                 ...   \n",
      "way          1021771366                 NaN                 NaN   \n",
      "             1021771367                 NaN                 NaN   \n",
      "             1021771368                 NaN                 NaN   \n",
      "             1024234275                 NaN                 NaN   \n",
      "             1029560335                 NaN                 NaN   \n",
      "\n",
      "                        recycling:paper_packaging source:amenity building:use  \\\n",
      "element_type osmid                                                              \n",
      "node         850055554                        NaN            NaN          NaN   \n",
      "             936116124                        NaN            NaN          NaN   \n",
      "way          140624820                        NaN            NaN          NaN   \n",
      "             486569706                        NaN            NaN          NaN   \n",
      "node         1027056415                       NaN            NaN          NaN   \n",
      "...                                           ...            ...          ...   \n",
      "way          1021771366                       NaN            NaN          NaN   \n",
      "             1021771367                       NaN            NaN          NaN   \n",
      "             1021771368                       NaN            NaN          NaN   \n",
      "             1024234275                       NaN            NaN          NaN   \n",
      "             1029560335                       NaN            NaN          NaN   \n",
      "\n",
      "                        mobile  \n",
      "element_type osmid              \n",
      "node         850055554     NaN  \n",
      "             936116124     NaN  \n",
      "way          140624820     NaN  \n",
      "             486569706     NaN  \n",
      "node         1027056415    NaN  \n",
      "...                        ...  \n",
      "way          1021771366    NaN  \n",
      "             1021771367    NaN  \n",
      "             1021771368    NaN  \n",
      "             1024234275    NaN  \n",
      "             1029560335    NaN  \n",
      "\n",
      "[47874 rows x 575 columns]\n"
     ]
    }
   ],
   "source": [
    "gdf = ox.geometries.geometries_from_bbox(north, south, east, west,tags={'amenity':True,'shop':True})\n",
    "print(gdf)"
   ],
   "metadata": {
    "collapsed": false,
    "pycharm": {
     "name": "#%%\n"
    }
   }
  },
  {
   "cell_type": "code",
   "execution_count": null,
   "outputs": [],
   "source": [],
   "metadata": {
    "collapsed": false,
    "pycharm": {
     "name": "#%%\n"
    }
   }
  }
 ],
 "metadata": {
  "kernelspec": {
   "display_name": "Python 3",
   "language": "python",
   "name": "python3"
  },
  "language_info": {
   "codemirror_mode": {
    "name": "ipython",
    "version": 2
   },
   "file_extension": ".py",
   "mimetype": "text/x-python",
   "name": "python",
   "nbconvert_exporter": "python",
   "pygments_lexer": "ipython2",
   "version": "2.7.6"
  }
 },
 "nbformat": 4,
 "nbformat_minor": 0
}