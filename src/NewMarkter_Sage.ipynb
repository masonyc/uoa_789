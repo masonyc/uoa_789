{
 "cells": [
  {
   "cell_type": "code",
   "execution_count": 10,
   "outputs": [],
   "source": [
    "from typing import Optional, Tuple, Union\n",
    "\n",
    "import torch\n",
    "import torch.nn as nn\n",
    "import torch.nn.functional as F\n",
    "from torch import Tensor\n",
    "\n",
    "from torch_geometric.loader import NeighborSampler as RawNeighborSampler\n",
    "from torch_geometric.nn import SAGEConv\n",
    "\n",
    "import numpy as np\n",
    "import pandas as pd"
   ],
   "metadata": {
    "collapsed": false
   }
  },
  {
   "cell_type": "code",
   "execution_count": 11,
   "outputs": [
    {
     "name": "stdout",
     "output_type": "stream",
     "text": [
      "tensor([[0., 0., 0., 0., 0., 0.],\n",
      "        [0., 0., 0., 0., 0., 0.],\n",
      "        [0., 0., 0., 0., 0., 0.],\n",
      "        ...,\n",
      "        [0., 0., 0., 0., 0., 0.],\n",
      "        [0., 0., 0., 0., 0., 0.],\n",
      "        [1., 0., 0., 0., 0., 0.]])\n",
      "8242\n",
      "6\n"
     ]
    }
   ],
   "source": [
    "street_nodes_df = pd.read_csv(\"./outputs/nm_street_nodes.csv\")\n",
    "street_nodes_df = street_nodes_df[street_nodes_df.columns[4:]]\n",
    "street_nodes_df.drop([\"street_length\",\"Average_POI_Distance\"],axis=1 ,inplace=True)\n",
    "\n",
    "street_nodes_features_tensor = torch.tensor(street_nodes_df.values.tolist())\n",
    "number_of_nodes = len(street_nodes_features_tensor)\n",
    "number_of_node_features = len(street_nodes_features_tensor[0])\n",
    "print(street_nodes_features_tensor)\n",
    "print(number_of_nodes)\n",
    "print(number_of_node_features)"
   ],
   "metadata": {
    "collapsed": false
   }
  },
  {
   "cell_type": "code",
   "execution_count": 12,
   "outputs": [
    {
     "name": "stdout",
     "output_type": "stream",
     "text": [
      "tensor([[   0,    1,    0,  ..., 8238, 8239, 8240],\n",
      "        [   1,    0,    2,  ..., 8237, 8240, 8239]])\n",
      "tensor([30.8780, 30.8780, 27.4470,  ..., 56.6500, 14.9740, 14.9740])\n"
     ]
    }
   ],
   "source": [
    "street_edges_df = pd.read_csv(\"./outputs/nm_street_edges.csv\")\n",
    "source_street_index,targe_street_index,street_distance_weight = street_edges_df[\"source_street\"],street_edges_df[\"target_street\"],street_edges_df[\"distance\"]\n",
    "street_edges_source_index_tensor = torch.tensor([source_street_index.values.tolist()])\n",
    "street_edges_target_index_tensor = torch.tensor([targe_street_index.values.tolist()])\n",
    "street_edges_index_tensor = torch.cat((street_edges_source_index_tensor,street_edges_target_index_tensor),0)\n",
    "street_edges_weight_tensor = torch.tensor(street_distance_weight.values.tolist())\n",
    "print(street_edges_index_tensor)\n",
    "print(street_edges_weight_tensor)"
   ],
   "metadata": {
    "collapsed": false
   }
  },
  {
   "cell_type": "code",
   "execution_count": 13,
   "outputs": [],
   "source": [
    "@torch.jit.script\n",
    "def torch_random_walk(\n",
    "    row: Tensor,\n",
    "    col: Tensor,\n",
    "    start: Tensor,\n",
    "    walk_length: int,\n",
    "    coalesced: bool = True,\n",
    "    num_nodes: Optional[int] = None,\n",
    "    return_edge_indices: bool = False,\n",
    ") -> Union[Tensor, Tuple[Tensor, Tensor]]:\n",
    "    if num_nodes is None:\n",
    "        num_nodes = max(int(row.max()), int(col.max()), int(start.max())) + 1\n",
    "\n",
    "    if coalesced:\n",
    "        perm = torch.argsort(row * num_nodes + col)\n",
    "        row, col = row[perm], col[perm]\n",
    "\n",
    "    #print(\"origin batch \\n\",start)\n",
    "\n",
    "    deg = row.new_zeros(num_nodes)\n",
    "    deg.scatter_add_(0, row, torch.ones_like(row))\n",
    "    rowptr = row.new_zeros(num_nodes + 1)\n",
    "    torch.cumsum(deg, 0, out=rowptr[1:])\n",
    "\n",
    "    node_seq, edge_seq = torch.ops.torch_cluster.random_walk(\n",
    "        rowptr, col, start, walk_length, 1.0,1.0,\n",
    "    )\n",
    "\n",
    "    if return_edge_indices:\n",
    "        return node_seq, edge_seq\n",
    "    #print(node_seq,edge_seq)\n",
    "    return node_seq"
   ],
   "metadata": {
    "collapsed": false
   }
  },
  {
   "cell_type": "code",
   "execution_count": 14,
   "outputs": [],
   "source": [
    "def custom_pos_sampling(\n",
    "    edge_weight: Tensor,\n",
    "    batch: Tensor,\n",
    ") -> Union[Tensor, Tuple[Tensor, Tensor]]:\n",
    "    pos_node_seq = []\n",
    "    neg_node_seq = []\n",
    "    for start_node_id in batch:\n",
    "        current_node_seq = [start_node_id.item()]\n",
    "        total_distance  = 0\n",
    "        current_node_id = start_node_id\n",
    "        # 在edge文件里 对应的id 要 -1 比如neighbour是0， 在文件里index是1\n",
    "        neighbours_edge_index = (street_edges_index_tensor == current_node_id).nonzero(as_tuple=True)[1]\n",
    "\n",
    "        # 选出edge对应的weight\n",
    "        neighbour_weights = torch.index_select(edge_weight,0,neighbours_edge_index)\n",
    "        norm_neighbour_weights = [i/sum(neighbour_weights.numpy()) for i in neighbour_weights.numpy()]\n",
    "        #根据概率随机选一个\n",
    "        neighbour_weights_index = np.random.choice(len(neighbour_weights), p=norm_neighbour_weights)\n",
    "\n",
    "        # print(\"current Node id \\n\", current_node_id)\n",
    "        #print(\"neighbour weights \\n\", neighbour_weights)\n",
    "        #print(\"neighbour weights index  \\n\", neighbour_weights_index)\n",
    "        #print(neighbour_weights.min(),neighbour_weights.argmin())\n",
    "\n",
    "        # 取最近的边\n",
    "        # TODO：加入别的策略，poi信息等\n",
    "        next_edge_index = neighbours_edge_index[neighbour_weights_index]\n",
    "        next_edge_df = street_edges_df.iloc[[next_edge_index]]\n",
    "        #print(\"next edge \\n\", next_edge_df)\n",
    "        next_edge  = next_edge_df.values[0]\n",
    "        total_distance += next_edge[2]\n",
    "        # next_edge[0] = source street\n",
    "        # next_edge[1] = target_street\n",
    "        # next_edge[2] = distance\n",
    "        if next_edge[0]!=current_node_id:\n",
    "            current_node_id = next_edge[0]\n",
    "        else:\n",
    "            current_node_id = next_edge[1]\n",
    "        current_node_seq.append(current_node_id)\n",
    "        pos_node_seq.append(current_node_seq)\n",
    "\n",
    "    return torch.from_numpy(np.asarray(pos_node_seq,dtype=np.int32))"
   ],
   "metadata": {
    "collapsed": false
   }
  },
  {
   "cell_type": "code",
   "execution_count": 15,
   "outputs": [],
   "source": [
    "def custom_neg_sampling(\n",
    "    edge_weight: Tensor,\n",
    "    batch: Tensor,\n",
    "    adj_size: int\n",
    ") -> Union[Tensor, Tuple[Tensor, Tensor]]:\n",
    "    neg_node_seq = []\n",
    "    for start_node_id in batch:\n",
    "        current_node_id = start_node_id\n",
    "        # 在edge文件里 对应的id 要 -1 比如neighbour是0， 在文件里index是1\n",
    "        neighbours_edge_index = (street_edges_index_tensor == current_node_id).nonzero(as_tuple=True)[1]\n",
    "        neighbour_weights = torch.index_select(edge_weight,0,neighbours_edge_index)\n",
    "        neighbour_weights_avg = np.average(neighbour_weights)\n",
    "\n",
    "        # 选出edge对应的weight\n",
    "        negative_neighbour_weights_min = 0\n",
    "        random_neg_index = torch.randint(0, 1,(1,1),dtype=torch.long)\n",
    "        while negative_neighbour_weights_min < neighbour_weights_avg:\n",
    "            random_neg_index = torch.randint(0, adj_size,(1,1),dtype=torch.long)\n",
    "            negative_neighbours_edge_index = (street_edges_index_tensor == random_neg_index).nonzero(as_tuple=True)[1]\n",
    "            negative_neighbour_weights = torch.index_select(edge_weight,0,negative_neighbours_edge_index)\n",
    "            negative_neighbour_weights_min = min(negative_neighbour_weights)\n",
    "        neg_node_seq.append(random_neg_index.item())\n",
    "    return torch.from_numpy(np.array(neg_node_seq,dtype=np.compat.long))"
   ],
   "metadata": {
    "collapsed": false
   }
  },
  {
   "cell_type": "code",
   "execution_count": 16,
   "outputs": [],
   "source": [
    "\"\"\"\n",
    "RawNeighborSampler This module iteratively samples neighbors (at each layer) and constructs bipartite graphs that simulate the actual computation flow of GNNs.\n",
    "\n",
    "sizes: denotes how much neighbors we want to sample for each node in each layer.\n",
    "\n",
    "NeighborSampler holds the current :obj:batch_size, the IDs :obj:n_id of all nodes involved in the computation, and a list of bipartite graph objects via the tuple :obj:(edge_index, e_id, size), where :obj:edge_index represents the bipartite edges between source and target nodes, :obj:e_id denotes the IDs of original edges in the full graph, and :obj:size holds the shape of the bipartite graph.\n",
    "\n",
    "The actual computation graphs are then returned in reverse-mode, meaning that we pass messages from a larger set of nodes to a smaller one, until we reach the nodes for which we originally wanted to compute embeddings.\n",
    "https://www.arangodb.com/2021/08/a-comprehensive-case-study-of-graphsage-using-pytorchgeometric/\n",
    "\"\"\"\n",
    "class NeighborSampler(RawNeighborSampler):\n",
    "    def sample(self, batch):\n",
    "        batch = torch.tensor(batch)\n",
    "        row, col, _ = self.adj_t.coo()\n",
    "\n",
    "        pos_batch = custom_pos_sampling(street_edges_weight_tensor, batch)[:,1]\n",
    "        #neg_batch = custom_neg_sampling(street_edges_weight_tensor, batch, self.adj_t.size(1))\n",
    "        neg_batch = torch.randint(0, self.adj_t.size(1),(batch.numel(),),dtype=torch.long)\n",
    "        #print(\"Custom nodes seq,\", pos_batch)\n",
    "        #print(\"negative batch \\n \", neg_batch)\n",
    "        batch = torch.cat([batch, pos_batch, neg_batch], dim=0)\n",
    "        sampled = super().sample(batch)\n",
    "        return sampled\n",
    "\n",
    "\n",
    "train_loader = NeighborSampler(street_edges_index_tensor, sizes=[10, 10], batch_size=128,\n",
    "                               shuffle=True, num_nodes=number_of_nodes)"
   ],
   "metadata": {
    "collapsed": false
   }
  },
  {
   "cell_type": "code",
   "execution_count": 17,
   "outputs": [],
   "source": [
    "class SAGE(nn.Module):\n",
    "    def __init__(self, in_channels, hidden_channels, num_layers):\n",
    "        super().__init__()\n",
    "        self.num_layers = num_layers\n",
    "        self.convs = nn.ModuleList()\n",
    "        for i in range(num_layers):\n",
    "            in_channels = in_channels if i == 0 else hidden_channels\n",
    "            self.convs.append(SAGEConv(in_channels, hidden_channels))\n",
    "\n",
    "    def forward(self, x, adjs):\n",
    "        for i, (edge_index, _, size) in enumerate(adjs):\n",
    "            x_target = x[:size[1]]  # Target nodes are always placed first.\n",
    "            x = self.convs[i]((x, x_target), edge_index)\n",
    "            if i != self.num_layers - 1:\n",
    "                x = x.relu()\n",
    "                x = F.dropout(x, p=0.5, training=self.training)\n",
    "        return x\n",
    "\n",
    "    def full_forward(self, x, edge_index):\n",
    "        for i, conv in enumerate(self.convs):\n",
    "            x = conv(x, edge_index)\n",
    "            if i != self.num_layers - 1:\n",
    "                x = x.relu()\n",
    "                x = F.dropout(x, p=0.5, training=self.training)\n",
    "        return x\n",
    "\n",
    "\n",
    "device = torch.device('cuda' if torch.cuda.is_available() else 'cpu')\n",
    "model = SAGE(number_of_node_features, hidden_channels=64, num_layers=2)\n",
    "model = model.to(device)\n",
    "optimizer = torch.optim.Adam(model.parameters(), lr=0.01)\n",
    "x, edge_index = street_nodes_features_tensor.to(device), street_edges_index_tensor.to(device)"
   ],
   "metadata": {
    "collapsed": false
   }
  },
  {
   "cell_type": "code",
   "execution_count": 18,
   "outputs": [
    {
     "name": "stdout",
     "output_type": "stream",
     "text": [
      "65\n",
      "Epoch: 001, Loss: 1.2889, \n",
      "65\n",
      "Epoch: 002, Loss: 1.0556, \n",
      "65\n",
      "Epoch: 003, Loss: 1.0151, \n",
      "65\n",
      "Epoch: 004, Loss: 1.0445, \n"
     ]
    }
   ],
   "source": [
    "def train():\n",
    "    model.train()\n",
    "\n",
    "    total_loss = 0\n",
    "    i=0\n",
    "    for batch_size, n_id, adjs in train_loader:\n",
    "        i+=1\n",
    "        # `adjs` holds a list of `(edge_index, e_id, size)` tuples.\n",
    "        adjs = [adj.to(device) for adj in adjs]\n",
    "        optimizer.zero_grad()\n",
    "\n",
    "        out = model(x[n_id], adjs)\n",
    "        out, pos_out, neg_out = out.split(out.size(0) // 3, dim=0)\n",
    "\n",
    "        pos_loss = F.logsigmoid((out * pos_out).sum(-1)).mean()\n",
    "        neg_loss = F.logsigmoid(-(out * neg_out).sum(-1)).mean()\n",
    "        loss = -pos_loss - neg_loss\n",
    "        loss.backward()\n",
    "        optimizer.step()\n",
    "\n",
    "        total_loss += float(loss) * out.size(0)\n",
    "    print(i)\n",
    "    return total_loss / number_of_nodes\n",
    "\n",
    "\n",
    "@torch.no_grad()\n",
    "def get_model_embedding():\n",
    "    model.eval()\n",
    "    embedding = model.full_forward(x, edge_index).cpu()\n",
    "    return embedding\n",
    "\n",
    "\n",
    "for epoch in range(1, 5):\n",
    "    loss = train()\n",
    "    print(f'Epoch: {epoch:03d}, Loss: {loss:.4f}, ')\n",
    "\n",
    "output_embedding=get_model_embedding()"
   ],
   "metadata": {
    "collapsed": false
   }
  },
  {
   "cell_type": "code",
   "execution_count": 19,
   "outputs": [],
   "source": [
    "output_np = output_embedding.numpy() #convert to Numpy array\n",
    "output_df = pd.DataFrame(output_np) #convert to a dataframe\n",
    "output_df.to_csv(\"./outputs/nm_embedding.csv\",index=False) #save to file"
   ],
   "metadata": {
    "collapsed": false
   }
  }
 ],
 "metadata": {
  "kernelspec": {
   "display_name": "Python 3 (ipykernel)",
   "language": "python",
   "name": "python3"
  },
  "language_info": {
   "codemirror_mode": {
    "name": "ipython",
    "version": 3
   },
   "file_extension": ".py",
   "mimetype": "text/x-python",
   "name": "python",
   "nbconvert_exporter": "python",
   "pygments_lexer": "ipython3",
   "version": "3.9.13"
  }
 },
 "nbformat": 4,
 "nbformat_minor": 1
}
