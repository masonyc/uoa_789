{
 "cells": [
  {
   "cell_type": "code",
   "execution_count": 37,
   "outputs": [],
   "source": [
    "import torch\n",
    "import torch.nn as nn\n",
    "import torch.nn.functional as F\n",
    "from torch_cluster import random_walk\n",
    "\n",
    "from torch_geometric.loader import NeighborSampler as RawNeighborSampler\n",
    "from torch_geometric.nn import SAGEConv\n",
    "import pandas as pd"
   ],
   "metadata": {
    "collapsed": false,
    "pycharm": {
     "name": "#%%\n"
    }
   }
  },
  {
   "cell_type": "code",
   "execution_count": 38,
   "outputs": [
    {
     "name": "stdout",
     "output_type": "stream",
     "text": [
      "tensor([[0., 0., 0., 0., 0., 0.],\n",
      "        [0., 0., 0., 0., 0., 0.],\n",
      "        [0., 0., 0., 0., 0., 0.],\n",
      "        ...,\n",
      "        [0., 0., 0., 0., 0., 0.],\n",
      "        [0., 0., 0., 0., 0., 0.],\n",
      "        [1., 0., 0., 0., 0., 0.]])\n",
      "8242\n",
      "6\n"
     ]
    }
   ],
   "source": [
    "street_nodes_df = pd.read_csv(\"./outputs/nm_street_nodes.csv\")\n",
    "street_nodes_features_tensor = torch.tensor(street_nodes_df.values.tolist())\n",
    "number_of_nodes = len(street_nodes_features_tensor)\n",
    "number_of_node_features = len(street_nodes_features_tensor[0])\n",
    "print(street_nodes_features_tensor)\n",
    "print(number_of_nodes)\n",
    "print(number_of_node_features)"
   ],
   "metadata": {
    "collapsed": false,
    "pycharm": {
     "name": "#%%\n"
    }
   }
  },
  {
   "cell_type": "code",
   "execution_count": 39,
   "outputs": [
    {
     "name": "stdout",
     "output_type": "stream",
     "text": [
      "tensor([[   0,    1,    2,  ..., 8106, 8154, 8155],\n",
      "        [   1,    0,    4,  ..., 8105, 8155, 8154]])\n",
      "tensor([[30.8780, 30.8780, 29.9170,  ..., 97.1960,  9.6410,  9.6410]])\n"
     ]
    }
   ],
   "source": [
    "street_edges_df = pd.read_csv(\"./outputs/nm_street_edges.csv\")\n",
    "source_street_index,targe_street_index,street_distance_weight = street_edges_df[\"source_street\"],street_edges_df[\"target_street\"],street_edges_df[\"distance\"]\n",
    "street_edges_source_index_tensor = torch.tensor([source_street_index.values.tolist()])\n",
    "street_edges_target_index_tensor = torch.tensor([targe_street_index.values.tolist()])\n",
    "street_edges_index_tensor = torch.cat((street_edges_source_index_tensor,street_edges_target_index_tensor),0)\n",
    "street_edges_weight_tensor = torch.tensor([street_distance_weight.values.tolist()])\n",
    "print(street_edges_index_tensor)\n",
    "print(street_edges_weight_tensor)"
   ],
   "metadata": {
    "collapsed": false,
    "pycharm": {
     "name": "#%%\n"
    }
   }
  },
  {
   "cell_type": "code",
   "execution_count": 50,
   "outputs": [],
   "source": [
    "class NeighborSampler(RawNeighborSampler):\n",
    "    def sample(self, batch):\n",
    "        batch = torch.tensor(batch)\n",
    "        row, col, _ = self.adj_t.coo()\n",
    "\n",
    "        # For each node in `batch`, we sample a direct neighbor (as positive\n",
    "        # example) and a random node (as negative example):\n",
    "        pos_batch = random_walk(row, col, batch, walk_length=1,\n",
    "                                coalesced=False)[:, 1]\n",
    "\n",
    "        neg_batch = torch.randint(0, self.adj_t.size(1), (batch.numel(), ),\n",
    "                                  dtype=torch.long)\n",
    "\n",
    "        batch = torch.cat([batch, pos_batch, neg_batch], dim=0)\n",
    "        return super().sample(batch)\n",
    "\n",
    "\n",
    "train_loader = NeighborSampler(street_edges_index_tensor, sizes=[10, 10], batch_size=128,\n",
    "                               shuffle=False, num_nodes=number_of_nodes)"
   ],
   "metadata": {
    "collapsed": false,
    "pycharm": {
     "name": "#%%\n"
    }
   }
  },
  {
   "cell_type": "code",
   "execution_count": 51,
   "outputs": [],
   "source": [
    "class SAGE(nn.Module):\n",
    "    def __init__(self, in_channels, hidden_channels, num_layers):\n",
    "        super().__init__()\n",
    "        self.num_layers = num_layers\n",
    "        self.convs = nn.ModuleList()\n",
    "        for i in range(num_layers):\n",
    "            in_channels = in_channels if i == 0 else hidden_channels\n",
    "            self.convs.append(SAGEConv(in_channels, hidden_channels))\n",
    "\n",
    "    def forward(self, x, adjs):\n",
    "        for i, (edge_index, _, size) in enumerate(adjs):\n",
    "            x_target = x[:size[1]]  # Target nodes are always placed first.\n",
    "            x = self.convs[i]((x, x_target), edge_index)\n",
    "            if i != self.num_layers - 1:\n",
    "                x = x.relu()\n",
    "                x = F.dropout(x, p=0.5, training=self.training)\n",
    "        return x\n",
    "\n",
    "    def full_forward(self, x, edge_index):\n",
    "        for i, conv in enumerate(self.convs):\n",
    "            x = conv(x, edge_index)\n",
    "            if i != self.num_layers - 1:\n",
    "                x = x.relu()\n",
    "                x = F.dropout(x, p=0.5, training=self.training)\n",
    "        return x\n",
    "\n",
    "\n",
    "device = torch.device('cuda' if torch.cuda.is_available() else 'cpu')\n",
    "model = SAGE(number_of_node_features, hidden_channels=64, num_layers=2)\n",
    "model = model.to(device)\n",
    "optimizer = torch.optim.Adam(model.parameters(), lr=0.01)\n",
    "x, edge_index = street_nodes_features_tensor.to(device), street_edges_index_tensor.to(device)"
   ],
   "metadata": {
    "collapsed": false,
    "pycharm": {
     "name": "#%%\n"
    }
   }
  },
  {
   "cell_type": "code",
   "execution_count": 54,
   "outputs": [
    {
     "name": "stdout",
     "output_type": "stream",
     "text": [
      "Epoch: 001, Loss: 1.1695, \n",
      "Epoch: 002, Loss: 1.1907, \n",
      "Epoch: 003, Loss: 1.1823, \n",
      "Epoch: 004, Loss: 1.1664, \n",
      "Epoch: 005, Loss: 1.1785, \n",
      "Epoch: 006, Loss: 1.1709, \n",
      "Epoch: 007, Loss: 1.1778, \n",
      "Epoch: 008, Loss: 1.1856, \n",
      "Epoch: 009, Loss: 1.1618, \n",
      "Epoch: 010, Loss: 1.1823, \n",
      "Epoch: 011, Loss: 1.1788, \n",
      "Epoch: 012, Loss: 1.1800, \n",
      "Epoch: 013, Loss: 1.1744, \n",
      "Epoch: 014, Loss: 1.1658, \n",
      "Epoch: 015, Loss: 1.1967, \n",
      "Epoch: 016, Loss: 1.1696, \n",
      "Epoch: 017, Loss: 1.1800, \n",
      "Epoch: 018, Loss: 1.1712, \n",
      "Epoch: 019, Loss: 1.1799, \n",
      "Epoch: 020, Loss: 1.1765, \n",
      "Epoch: 021, Loss: 1.1709, \n",
      "Epoch: 022, Loss: 1.1784, \n",
      "Epoch: 023, Loss: 1.1800, \n",
      "Epoch: 024, Loss: 1.1753, \n",
      "Epoch: 025, Loss: 1.1759, \n",
      "Epoch: 026, Loss: 1.1705, \n",
      "Epoch: 027, Loss: 1.1650, \n",
      "Epoch: 028, Loss: 1.1786, \n",
      "Epoch: 029, Loss: 1.1818, \n",
      "Epoch: 030, Loss: 1.1814, \n",
      "Epoch: 031, Loss: 1.1619, \n",
      "Epoch: 032, Loss: 1.1895, \n",
      "Epoch: 033, Loss: 1.1899, \n",
      "Epoch: 034, Loss: 1.1790, \n",
      "Epoch: 035, Loss: 1.1645, \n",
      "Epoch: 036, Loss: 1.1762, \n",
      "Epoch: 037, Loss: 1.1865, \n",
      "Epoch: 038, Loss: 1.1664, \n",
      "Epoch: 039, Loss: 1.1798, \n",
      "Epoch: 040, Loss: 1.1780, \n",
      "Epoch: 041, Loss: 1.1697, \n",
      "Epoch: 042, Loss: 1.1719, \n",
      "Epoch: 043, Loss: 1.1773, \n",
      "Epoch: 044, Loss: 1.1874, \n",
      "Epoch: 045, Loss: 1.1850, \n",
      "Epoch: 046, Loss: 1.1711, \n",
      "Epoch: 047, Loss: 1.1789, \n",
      "Epoch: 048, Loss: 1.1802, \n",
      "Epoch: 049, Loss: 1.1796, \n",
      "Epoch: 050, Loss: 1.1776, \n",
      "tensor([[-0.0844,  0.0797,  0.0167,  ...,  0.0295, -0.0560, -0.1282],\n",
      "        [-0.0844,  0.0797,  0.0167,  ...,  0.0295, -0.0560, -0.1282],\n",
      "        [-0.0844,  0.0797,  0.0167,  ...,  0.0295, -0.0560, -0.1282],\n",
      "        ...,\n",
      "        [ 0.0085, -0.0039,  0.0134,  ...,  0.0091,  0.0194,  0.0888],\n",
      "        [ 0.0085, -0.0039,  0.0134,  ...,  0.0091,  0.0194,  0.0888],\n",
      "        [ 0.0221, -0.0874,  0.0973,  ..., -0.0851,  0.0261, -0.0296]])\n"
     ]
    }
   ],
   "source": [
    "def train():\n",
    "    model.train()\n",
    "\n",
    "    total_loss = 0\n",
    "    for batch_size, n_id, adjs in train_loader:\n",
    "        # `adjs` holds a list of `(edge_index, e_id, size)` tuples.\n",
    "        adjs = [adj.to(device) for adj in adjs]\n",
    "        optimizer.zero_grad()\n",
    "\n",
    "        out = model(x[n_id], adjs)\n",
    "        out, pos_out, neg_out = out.split(out.size(0) // 3, dim=0)\n",
    "\n",
    "        pos_loss = F.logsigmoid((out * pos_out).sum(-1)).mean()\n",
    "        neg_loss = F.logsigmoid(-(out * neg_out).sum(-1)).mean()\n",
    "        loss = -pos_loss - neg_loss\n",
    "        loss.backward()\n",
    "        optimizer.step()\n",
    "\n",
    "        total_loss += float(loss) * out.size(0)\n",
    "\n",
    "    return total_loss / number_of_nodes\n",
    "\n",
    "\n",
    "@torch.no_grad()\n",
    "def get_model_embedding():\n",
    "    model.eval()\n",
    "    embedding = model.full_forward(x, edge_index).cpu()\n",
    "    print(embedding)\n",
    "    return embedding\n",
    "    #clf = LogisticRegression()\n",
    "    #clf.fit(out[data.train_mask], data.y[data.train_mask])\n",
    "\n",
    "    #val_acc = clf.score(out[data.val_mask], data.y[data.val_mask])\n",
    "    #test_acc = clf.score(out[data.test_mask], data.y[data.test_mask])\n",
    "\n",
    "    #return val_acc, test_acc\n",
    "\n",
    "\n",
    "for epoch in range(1, 51):\n",
    "    loss = train()\n",
    "    print(f'Epoch: {epoch:03d}, Loss: {loss:.4f}, ')\n",
    "          # f'Val: {val_acc:.4f}, Test: {test_acc:.4f}')\n",
    "\n",
    "get_model_embedding()"
   ],
   "metadata": {
    "collapsed": false,
    "pycharm": {
     "name": "#%%\n"
    }
   }
  }
 ],
 "metadata": {
  "kernelspec": {
   "display_name": "Python 3 (ipykernel)",
   "language": "python",
   "name": "python3"
  },
  "language_info": {
   "codemirror_mode": {
    "name": "ipython",
    "version": 3
   },
   "file_extension": ".py",
   "mimetype": "text/x-python",
   "name": "python",
   "nbconvert_exporter": "python",
   "pygments_lexer": "ipython3",
   "version": "3.9.13"
  }
 },
 "nbformat": 4,
 "nbformat_minor": 1
}