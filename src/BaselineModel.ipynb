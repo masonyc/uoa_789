{
 "cells": [
  {
   "cell_type": "code",
   "execution_count": 10,
   "metadata": {
    "collapsed": true
   },
   "outputs": [],
   "source": [
    "import pandas as pd\n",
    "import numpy as np\n",
    "from sklearn.model_selection import train_test_split\n",
    "from sklearn.linear_model import LinearRegression\n",
    "from sklearn.metrics import explained_variance_score, mean_squared_error, r2_score"
   ]
  },
  {
   "cell_type": "code",
   "execution_count": 11,
   "outputs": [
    {
     "name": "stdout",
     "output_type": "stream",
     "text": [
      "   CL_QPID  CL_Suburb  CL_Sale_Tenure  CL_Sale_Date  \\\n",
      "0    75738        256               0            46   \n",
      "1    75814        223               0            38   \n",
      "2    75835        223               0            17   \n",
      "3    75842        223               0             8   \n",
      "4    76103        181               0            40   \n",
      "\n",
      "   CL_Land_Valuation_Capital_Value  CL_Building_Floor_Area  \\\n",
      "0                        -0.776857               -0.084574   \n",
      "1                        -0.865695               -1.225402   \n",
      "2                        -0.998952                2.538018   \n",
      "3                        -1.206240               -1.225402   \n",
      "4                        -0.836082                0.571074   \n",
      "\n",
      "   CL_Building_Site_Cover  CL_Land_Area  CL_Bldg_Const  CL_Bldg_Cond  ...  \\\n",
      "0               -0.283212     14.915984              2             2  ...   \n",
      "1               -1.177352      0.444313              3             0  ...   \n",
      "2                1.147412      2.320124             13             0  ...   \n",
      "3               -0.944876      1.163716             13             0  ...   \n",
      "4               -0.640868      0.766151              3             2  ...   \n",
      "\n",
      "   CL_Category  CL_LUD_Age  CL_LUD_Land_Use_Description  \\\n",
      "0            1           8                            8   \n",
      "1            1           8                            0   \n",
      "2            1           8                            8   \n",
      "3            1          10                            8   \n",
      "4            1           9                            8   \n",
      "\n",
      "   CL_MAS_No_Main_Roof_Garages  CL_Latitude  CL_Longitude  CL_Bedrooms  \\\n",
      "0                    -1.076646   -36.246598    174.539500    -0.303571   \n",
      "1                    -1.076646   -36.318906    174.266629    -1.313280   \n",
      "2                     1.071182   -36.350949    174.302063     0.706137   \n",
      "3                    -1.076646   -36.351304    174.301861    -1.313280   \n",
      "4                     2.145097   -36.275487    174.429516    -0.303571   \n",
      "\n",
      "   CL_Bathrooms  Log_Sale_Price_Net  school_count  \n",
      "0     -0.679963           13.440090             1  \n",
      "1     -0.679963           13.582317             1  \n",
      "2      0.234300           12.933621             1  \n",
      "3     -0.679963           12.628067             1  \n",
      "4      0.234300           13.468786             1  \n",
      "\n",
      "[5 rows x 22 columns]\n",
      "(82943, 22)\n"
     ]
    }
   ],
   "source": [
    "AKL_df = pd.read_csv(\"./outputs/cleaned_property_data.csv\",encoding='latin1')\n",
    "AKL_df = AKL_df.drop(['Unnamed: 0'],axis=1)\n",
    "print(AKL_df.head())\n",
    "print(AKL_df.shape)"
   ],
   "metadata": {
    "collapsed": false
   }
  },
  {
   "cell_type": "markdown",
   "source": [
    "# Train/Test Split"
   ],
   "metadata": {
    "collapsed": false
   }
  },
  {
   "cell_type": "code",
   "execution_count": 12,
   "outputs": [
    {
     "name": "stdout",
     "output_type": "stream",
     "text": [
      "(49765, 17)\n"
     ]
    }
   ],
   "source": [
    "X_columns = AKL_df[['CL_Suburb','CL_Sale_Tenure','CL_Sale_Date','CL_Land_Valuation_Capital_Value',\n",
    "                'CL_Building_Floor_Area','CL_Building_Site_Cover',\n",
    "                'CL_Land_Area','CL_Bldg_Const','CL_Bldg_Cond','CL_Roof_Const','CL_Roof_Cond',\n",
    "                'CL_Category','CL_LUD_Age','CL_LUD_Land_Use_Description',\n",
    "                'CL_MAS_No_Main_Roof_Garages','CL_Bedrooms','CL_Bathrooms']].values\n",
    "Y_column = AKL_df['Log_Sale_Price_Net'].values\n",
    "\n",
    "X_train, X_test, Y_train, Y_test = train_test_split(X_columns, Y_column, test_size=0.2, random_state=1,shuffle=True)\n",
    "X_train, X_val, Y_train, Y_val = train_test_split(X_train, Y_train, test_size=0.25, random_state=1,shuffle=True)\n",
    "\n",
    "print(X_train.shape)"
   ],
   "metadata": {
    "collapsed": false
   }
  },
  {
   "cell_type": "code",
   "execution_count": 13,
   "outputs": [
    {
     "name": "stdout",
     "output_type": "stream",
     "text": [
      "\n",
      "Training RMSE: 0.0651\n",
      "Validation RMSE: 0.0682\n",
      "Test RMSE: 0.0646\n",
      "\n",
      "Training r2: 0.7759\n",
      "Validation r2: 0.7724\n",
      "Test r2: 0.781\n",
      "----------------------------------------------------------------------\n",
      "Explained Variance Score of OLS model for val is 0.7724175721130828\n",
      "Explained Variance Score of OLS model for test is 0.7809903246321959\n"
     ]
    }
   ],
   "source": [
    "hedonic_regression = LinearRegression()\n",
    "hedonic_regression.fit(X_train, Y_train)\n",
    "\n",
    "hedonic_regression_training_result = hedonic_regression.predict(X_train)\n",
    "hedonic_regression_validation_result = hedonic_regression.predict(X_val)\n",
    "hedonic_regression_test_result = hedonic_regression.predict(X_test)\n",
    "\n",
    "print(\"\\nTraining RMSE:\", round(mean_squared_error(Y_train, hedonic_regression_training_result),4))\n",
    "print(\"Validation RMSE:\", round(mean_squared_error(Y_val, hedonic_regression_validation_result),4))\n",
    "print(\"Test RMSE:\", round(mean_squared_error(Y_test, hedonic_regression_test_result),4))\n",
    "\n",
    "# (e^0.09) 还原log\n",
    "# print(Y_train,hedonic_regression_training_result)\n",
    "# print(np.exp(Y_train), np.exp(hedonic_regression_training_result))\n",
    "\n",
    "# print(\"\\nTraining RMSE:\", round(mean_squared_error(np.exp(Y_train), np.exp(hedonic_regression_training_result)),4))\n",
    "# print(\"Validation RMSE:\", round(mean_squared_error(np.exp(Y_test), np.exp(hedonic_regression_Test_result)),4))\n",
    "\n",
    "print(\"\\nTraining r2:\", round(r2_score(Y_train, hedonic_regression_training_result),4))\n",
    "print(\"Validation r2:\", round(r2_score(Y_val, hedonic_regression_validation_result),4))\n",
    "print(\"Test r2:\", round(r2_score(Y_test, hedonic_regression_test_result),4))\n",
    "\n",
    "print('----------------------------------------------------------------------')\n",
    "print('Explained Variance Score of OLS model for val is {}'.format(explained_variance_score(Y_val,hedonic_regression_validation_result)))\n",
    "print('Explained Variance Score of OLS model for test is {}'.format(explained_variance_score(Y_test,hedonic_regression_test_result)))\n"
   ],
   "metadata": {
    "collapsed": false
   }
  },
  {
   "cell_type": "code",
   "execution_count": 13,
   "outputs": [],
   "source": [],
   "metadata": {
    "collapsed": false
   }
  }
 ],
 "metadata": {
  "kernelspec": {
   "display_name": "Python 3",
   "language": "python",
   "name": "python3"
  },
  "language_info": {
   "codemirror_mode": {
    "name": "ipython",
    "version": 2
   },
   "file_extension": ".py",
   "mimetype": "text/x-python",
   "name": "python",
   "nbconvert_exporter": "python",
   "pygments_lexer": "ipython2",
   "version": "2.7.6"
  }
 },
 "nbformat": 4,
 "nbformat_minor": 0
}
