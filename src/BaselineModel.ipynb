{
 "cells": [
  {
   "cell_type": "code",
   "execution_count": 9,
   "metadata": {
    "collapsed": true
   },
   "outputs": [],
   "source": [
    "import pandas as pd\n",
    "import numpy as np\n",
    "from sklearn.model_selection import train_test_split\n",
    "from sklearn.linear_model import LinearRegression\n",
    "from sklearn.metrics import explained_variance_score, mean_squared_error, r2_score"
   ]
  },
  {
   "cell_type": "code",
   "execution_count": 10,
   "outputs": [
    {
     "name": "stdout",
     "output_type": "stream",
     "text": [
      "   CL_QPID  CL_Suburb  CL_Sale_Tenure  CL_Sale_Date  \\\n",
      "0    75499        232               0           229   \n",
      "1    75639        263               0           119   \n",
      "2    75639        263               0           169   \n",
      "3    75639        263               0            70   \n",
      "4    75639        263               0           162   \n",
      "\n",
      "   CL_Land_Valuation_Capital_Value  CL_Building_Floor_Area  \\\n",
      "0                        -0.294735               -0.397669   \n",
      "1                        -0.799770               -0.397669   \n",
      "2                        -0.799770               -0.397669   \n",
      "3                        -0.874988               -0.397669   \n",
      "4                        -0.799770               -0.397669   \n",
      "\n",
      "   CL_Building_Site_Cover  CL_Land_Area  CL_Bldg_Const  CL_Bldg_Cond  ...  \\\n",
      "0                 0.18143     15.111383             13             1  ...   \n",
      "1                 0.18143     12.574967              3             1  ...   \n",
      "2                 0.18143     12.574967              3             1  ...   \n",
      "3                 0.18143     12.574967              3             1  ...   \n",
      "4                 0.18143     12.574967              3             1  ...   \n",
      "\n",
      "   CL_Category  CL_LUD_Age  CL_LUD_Land_Use_Description  \\\n",
      "0            1           7                           30   \n",
      "1            1          17                            0   \n",
      "2            1          17                            0   \n",
      "3            1          17                            0   \n",
      "4            1          17                            0   \n",
      "\n",
      "   CL_MAS_No_Main_Roof_Garages  CL_Latitude  CL_Longitude  CL_Bedrooms  \\\n",
      "0                    -0.900676   -36.200345    174.581811    -0.369582   \n",
      "1                    -0.900676   -36.228740    174.496590    -0.369582   \n",
      "2                    -0.900676   -36.228740    174.496590    -0.369582   \n",
      "3                     0.219661   -36.228740    174.496590    -0.369582   \n",
      "4                    -0.900676   -36.228740    174.496590    -0.369582   \n",
      "\n",
      "   CL_Bathrooms  Log_Sale_Price_Net  school_count  \n",
      "0     -0.708002           12.542545             2  \n",
      "1     -0.708002           11.736069             1  \n",
      "2     -0.708002           12.449019             1  \n",
      "3     -0.708002           11.373663             1  \n",
      "4     -0.708002           12.310433             1  \n",
      "\n",
      "[5 rows x 22 columns]\n",
      "(667265, 22)\n"
     ]
    }
   ],
   "source": [
    "AKL_df = pd.read_csv(\"./outputs/cleaned_property_data.csv\",encoding='latin1')\n",
    "AKL_df = AKL_df.drop(['Unnamed: 0'],axis=1)\n",
    "print(AKL_df.head())\n",
    "print(AKL_df.shape)"
   ],
   "metadata": {
    "collapsed": false
   }
  },
  {
   "cell_type": "markdown",
   "source": [
    "# Train/Test Split"
   ],
   "metadata": {
    "collapsed": false
   }
  },
  {
   "cell_type": "code",
   "execution_count": 11,
   "outputs": [
    {
     "name": "stdout",
     "output_type": "stream",
     "text": [
      "(533812, 17)\n"
     ]
    }
   ],
   "source": [
    "X_columns = AKL_df[['CL_Suburb','CL_Sale_Tenure','CL_Sale_Date','CL_Land_Valuation_Capital_Value',\n",
    "                'CL_Building_Floor_Area','CL_Building_Site_Cover',\n",
    "                'CL_Land_Area','CL_Bldg_Const','CL_Bldg_Cond','CL_Roof_Const','CL_Roof_Cond',\n",
    "                'CL_Category','CL_LUD_Age','CL_LUD_Land_Use_Description',\n",
    "                'CL_MAS_No_Main_Roof_Garages','CL_Bedrooms','CL_Bathrooms']].values\n",
    "Y_column = AKL_df['Log_Sale_Price_Net'].values\n",
    "\n",
    "X_train, X_test, Y_train, Y_test = train_test_split(X_columns, Y_column, test_size = 0.2, random_state = 1)\n",
    "\n",
    "print(X_train.shape)"
   ],
   "metadata": {
    "collapsed": false
   }
  },
  {
   "cell_type": "code",
   "execution_count": 17,
   "outputs": [
    {
     "name": "stdout",
     "output_type": "stream",
     "text": [
      "\n",
      "Training RMSE: 0.0899\n",
      "Validation RMSE: 0.0893\n",
      "[12.8967167  12.49874226 12.90917016 ... 12.9408415  13.86239414\n",
      " 12.49125159] [13.06979906 12.08701801 13.08991645 ... 13.00836001 13.30655818\n",
      " 12.5235699 ]\n",
      "[ 399000.  268000.  404000. ...  417000. 1048000.  266000.] [474396.64823742 177551.85857178 484036.91142737 ... 446127.47648827\n",
      " 601125.00016972 274737.09598831]\n",
      "\n",
      "Training RMSE: 1.820695888432312e+16\n",
      "Validation RMSE: 3.4556676885131532e+16\n",
      "\n",
      "Training r2: 0.845\n",
      "Validation r2: 0.845\n",
      "----------------------------------------------------------------------\n",
      "Explained Variance Score of OLS model is 0.8450219478014253\n"
     ]
    }
   ],
   "source": [
    "hedonic_regression = LinearRegression()\n",
    "hedonic_regression.fit(X_train, Y_train)\n",
    "\n",
    "hedonic_regression_training_result = hedonic_regression.predict(X_train)\n",
    "hedonic_regression_Test_result = hedonic_regression.predict(X_test)\n",
    "\n",
    "print(\"\\nTraining RMSE:\", round(mean_squared_error(Y_train, hedonic_regression_training_result),4))\n",
    "print(\"Validation RMSE:\", round(mean_squared_error(Y_test, hedonic_regression_Test_result),4))\n",
    "\n",
    "# (e^0.09) 还原log\n",
    "print(Y_train,hedonic_regression_training_result)\n",
    "print(np.exp(Y_train), np.exp(hedonic_regression_training_result))\n",
    "print(\"\\nTraining RMSE:\", round(mean_squared_error(np.exp(Y_train), np.exp(hedonic_regression_training_result)),4))\n",
    "print(\"Validation RMSE:\", round(mean_squared_error(np.exp(Y_test), np.exp(hedonic_regression_Test_result)),4))\n",
    "\n",
    "print(\"\\nTraining r2:\", round(r2_score(Y_train, hedonic_regression_training_result),4))\n",
    "print(\"Validation r2:\", round(r2_score(Y_test, hedonic_regression_Test_result),4))\n",
    "\n",
    "print('----------------------------------------------------------------------')\n",
    "print('Explained Variance Score of OLS model is {}'.format(explained_variance_score(Y_test,hedonic_regression_Test_result)))"
   ],
   "metadata": {
    "collapsed": false
   }
  },
  {
   "cell_type": "code",
   "execution_count": 12,
   "outputs": [],
   "source": [],
   "metadata": {
    "collapsed": false
   }
  }
 ],
 "metadata": {
  "kernelspec": {
   "display_name": "Python 3",
   "language": "python",
   "name": "python3"
  },
  "language_info": {
   "codemirror_mode": {
    "name": "ipython",
    "version": 2
   },
   "file_extension": ".py",
   "mimetype": "text/x-python",
   "name": "python",
   "nbconvert_exporter": "python",
   "pygments_lexer": "ipython2",
   "version": "2.7.6"
  }
 },
 "nbformat": 4,
 "nbformat_minor": 0
}
