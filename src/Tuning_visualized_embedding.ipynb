{
 "cells": [
  {
   "cell_type": "code",
   "execution_count": 11,
   "metadata": {
    "collapsed": true
   },
   "outputs": [],
   "source": [
    "import pandas as pd\n",
    "from sklearn.manifold import TSNE\n",
    "import seaborn as sns\n",
    "import matplotlib.pyplot as plt\n",
    "\n",
    "output_path = \"/run/media/yunchen/lacie\"\n",
    "RANDOM_STATE = 1234\n"
   ]
  },
  {
   "cell_type": "code",
   "execution_count": 12,
   "outputs": [],
   "source": [
    "def find_embedding_for_property(property_df,street_df,emb_df):\n",
    "    street_with_embedding = street_df.merge(emb_df, left_index=True, right_index=True)\n",
    "    output_df = property_df.merge(street_with_embedding,on=[\"street_sources\",\"street_targets\"])\n",
    "    return output_df\n"
   ],
   "metadata": {
    "collapsed": false
   }
  },
  {
   "cell_type": "code",
   "execution_count": 13,
   "outputs": [],
   "source": [
    "akl_embedding_df = pd.read_csv(f\"./outputs/akl_embedding_1667716704.csv\")\n",
    "AKL_df = pd.read_csv(f\"{output_path}/datasets/property_data_with_street.csv\",encoding='latin1')\n",
    "AKL_df = AKL_df.drop(['Unnamed: 0'],axis=1)\n",
    "embedding_size = akl_embedding_df.shape[1]\n",
    "\n",
    "akl_embedding_df.columns = ['street_embedding_'+str(i) for i in range(embedding_size)]\n",
    "akl_street_nodes_df = pd.read_csv(f\"{output_path}/datasets/akl_street_nodes.csv\")\n",
    "akl_street_nodes_df = akl_street_nodes_df.rename(columns={\"source\": \"street_sources\", \"target\": \"street_targets\"})\n",
    "\n",
    "AKL_df = find_embedding_for_property(AKL_df,akl_street_nodes_df,akl_embedding_df)"
   ],
   "metadata": {
    "collapsed": false
   }
  },
  {
   "cell_type": "code",
   "execution_count": 14,
   "outputs": [
    {
     "name": "stdout",
     "output_type": "stream",
     "text": [
      "(40737, 16)\n"
     ]
    }
   ],
   "source": [
    "tsne_embedding_df = AKL_df[AKL_df.columns.intersection(akl_embedding_df.columns)]\n",
    "print(tsne_embedding_df.shape)"
   ],
   "metadata": {
    "collapsed": false
   }
  },
  {
   "cell_type": "code",
   "execution_count": 15,
   "outputs": [
    {
     "name": "stdout",
     "output_type": "stream",
     "text": [
      "[t-SNE] Computing 16 nearest neighbors...\n",
      "[t-SNE] Indexed 40737 samples in 0.001s...\n"
     ]
    },
    {
     "name": "stderr",
     "output_type": "stream",
     "text": [
      "/run/media/yunchen/lacie/projects/conda/lib/python3.9/site-packages/sklearn/manifold/_t_sne.py:800: FutureWarning: The default initialization in TSNE will change from 'random' to 'pca' in 1.2.\n",
      "  warnings.warn(\n"
     ]
    },
    {
     "name": "stdout",
     "output_type": "stream",
     "text": [
      "[t-SNE] Computed neighbors for 40737 samples in 0.277s...\n",
      "[t-SNE] Computed conditional probabilities for sample 1000 / 40737\n",
      "[t-SNE] Computed conditional probabilities for sample 2000 / 40737\n",
      "[t-SNE] Computed conditional probabilities for sample 3000 / 40737\n",
      "[t-SNE] Computed conditional probabilities for sample 4000 / 40737\n",
      "[t-SNE] Computed conditional probabilities for sample 5000 / 40737\n",
      "[t-SNE] Computed conditional probabilities for sample 6000 / 40737\n",
      "[t-SNE] Computed conditional probabilities for sample 7000 / 40737\n",
      "[t-SNE] Computed conditional probabilities for sample 8000 / 40737\n",
      "[t-SNE] Computed conditional probabilities for sample 9000 / 40737\n",
      "[t-SNE] Computed conditional probabilities for sample 10000 / 40737\n",
      "[t-SNE] Computed conditional probabilities for sample 11000 / 40737\n",
      "[t-SNE] Computed conditional probabilities for sample 12000 / 40737\n",
      "[t-SNE] Computed conditional probabilities for sample 13000 / 40737\n",
      "[t-SNE] Computed conditional probabilities for sample 14000 / 40737\n",
      "[t-SNE] Computed conditional probabilities for sample 15000 / 40737\n",
      "[t-SNE] Computed conditional probabilities for sample 16000 / 40737\n",
      "[t-SNE] Computed conditional probabilities for sample 17000 / 40737\n",
      "[t-SNE] Computed conditional probabilities for sample 18000 / 40737\n",
      "[t-SNE] Computed conditional probabilities for sample 19000 / 40737\n",
      "[t-SNE] Computed conditional probabilities for sample 20000 / 40737\n",
      "[t-SNE] Computed conditional probabilities for sample 21000 / 40737\n",
      "[t-SNE] Computed conditional probabilities for sample 22000 / 40737\n",
      "[t-SNE] Computed conditional probabilities for sample 23000 / 40737\n",
      "[t-SNE] Computed conditional probabilities for sample 24000 / 40737\n",
      "[t-SNE] Computed conditional probabilities for sample 25000 / 40737\n",
      "[t-SNE] Computed conditional probabilities for sample 26000 / 40737\n",
      "[t-SNE] Computed conditional probabilities for sample 27000 / 40737\n",
      "[t-SNE] Computed conditional probabilities for sample 28000 / 40737\n",
      "[t-SNE] Computed conditional probabilities for sample 29000 / 40737\n",
      "[t-SNE] Computed conditional probabilities for sample 30000 / 40737\n",
      "[t-SNE] Computed conditional probabilities for sample 31000 / 40737\n",
      "[t-SNE] Computed conditional probabilities for sample 32000 / 40737\n",
      "[t-SNE] Computed conditional probabilities for sample 33000 / 40737\n",
      "[t-SNE] Computed conditional probabilities for sample 34000 / 40737\n",
      "[t-SNE] Computed conditional probabilities for sample 35000 / 40737\n",
      "[t-SNE] Computed conditional probabilities for sample 36000 / 40737\n",
      "[t-SNE] Computed conditional probabilities for sample 37000 / 40737\n",
      "[t-SNE] Computed conditional probabilities for sample 38000 / 40737\n",
      "[t-SNE] Computed conditional probabilities for sample 39000 / 40737\n",
      "[t-SNE] Computed conditional probabilities for sample 40000 / 40737\n",
      "[t-SNE] Computed conditional probabilities for sample 40737 / 40737\n",
      "[t-SNE] Mean sigma: 0.000000\n",
      "[t-SNE] KL divergence after 250 iterations with early exaggeration: 134.221985\n",
      "[t-SNE] KL divergence after 1500 iterations: 3.904014\n"
     ]
    },
    {
     "name": "stderr",
     "output_type": "stream",
     "text": [
      "/run/media/yunchen/lacie/projects/conda/lib/python3.9/site-packages/sklearn/manifold/_t_sne.py:800: FutureWarning: The default initialization in TSNE will change from 'random' to 'pca' in 1.2.\n",
      "  warnings.warn(\n"
     ]
    },
    {
     "name": "stdout",
     "output_type": "stream",
     "text": [
      "[t-SNE] Computing 16 nearest neighbors...\n",
      "[t-SNE] Indexed 40737 samples in 0.001s...\n",
      "[t-SNE] Computed neighbors for 40737 samples in 0.229s...\n",
      "[t-SNE] Computed conditional probabilities for sample 1000 / 40737\n",
      "[t-SNE] Computed conditional probabilities for sample 2000 / 40737\n",
      "[t-SNE] Computed conditional probabilities for sample 3000 / 40737\n",
      "[t-SNE] Computed conditional probabilities for sample 4000 / 40737\n",
      "[t-SNE] Computed conditional probabilities for sample 5000 / 40737\n",
      "[t-SNE] Computed conditional probabilities for sample 6000 / 40737\n",
      "[t-SNE] Computed conditional probabilities for sample 7000 / 40737\n",
      "[t-SNE] Computed conditional probabilities for sample 8000 / 40737\n",
      "[t-SNE] Computed conditional probabilities for sample 9000 / 40737\n",
      "[t-SNE] Computed conditional probabilities for sample 10000 / 40737\n",
      "[t-SNE] Computed conditional probabilities for sample 11000 / 40737\n",
      "[t-SNE] Computed conditional probabilities for sample 12000 / 40737\n",
      "[t-SNE] Computed conditional probabilities for sample 13000 / 40737\n",
      "[t-SNE] Computed conditional probabilities for sample 14000 / 40737\n",
      "[t-SNE] Computed conditional probabilities for sample 15000 / 40737\n",
      "[t-SNE] Computed conditional probabilities for sample 16000 / 40737\n",
      "[t-SNE] Computed conditional probabilities for sample 17000 / 40737\n",
      "[t-SNE] Computed conditional probabilities for sample 18000 / 40737\n",
      "[t-SNE] Computed conditional probabilities for sample 19000 / 40737\n",
      "[t-SNE] Computed conditional probabilities for sample 20000 / 40737\n",
      "[t-SNE] Computed conditional probabilities for sample 21000 / 40737\n",
      "[t-SNE] Computed conditional probabilities for sample 22000 / 40737\n",
      "[t-SNE] Computed conditional probabilities for sample 23000 / 40737\n",
      "[t-SNE] Computed conditional probabilities for sample 24000 / 40737\n",
      "[t-SNE] Computed conditional probabilities for sample 25000 / 40737\n",
      "[t-SNE] Computed conditional probabilities for sample 26000 / 40737\n",
      "[t-SNE] Computed conditional probabilities for sample 27000 / 40737\n",
      "[t-SNE] Computed conditional probabilities for sample 28000 / 40737\n",
      "[t-SNE] Computed conditional probabilities for sample 29000 / 40737\n",
      "[t-SNE] Computed conditional probabilities for sample 30000 / 40737\n",
      "[t-SNE] Computed conditional probabilities for sample 31000 / 40737\n",
      "[t-SNE] Computed conditional probabilities for sample 32000 / 40737\n",
      "[t-SNE] Computed conditional probabilities for sample 33000 / 40737\n",
      "[t-SNE] Computed conditional probabilities for sample 34000 / 40737\n",
      "[t-SNE] Computed conditional probabilities for sample 35000 / 40737\n",
      "[t-SNE] Computed conditional probabilities for sample 36000 / 40737\n",
      "[t-SNE] Computed conditional probabilities for sample 37000 / 40737\n",
      "[t-SNE] Computed conditional probabilities for sample 38000 / 40737\n",
      "[t-SNE] Computed conditional probabilities for sample 39000 / 40737\n",
      "[t-SNE] Computed conditional probabilities for sample 40000 / 40737\n",
      "[t-SNE] Computed conditional probabilities for sample 40737 / 40737\n",
      "[t-SNE] Mean sigma: 0.000000\n",
      "[t-SNE] KL divergence after 250 iterations with early exaggeration: 134.222000\n",
      "[t-SNE] KL divergence after 2000 iterations: 3.809927\n"
     ]
    },
    {
     "name": "stderr",
     "output_type": "stream",
     "text": [
      "/run/media/yunchen/lacie/projects/conda/lib/python3.9/site-packages/sklearn/manifold/_t_sne.py:800: FutureWarning: The default initialization in TSNE will change from 'random' to 'pca' in 1.2.\n",
      "  warnings.warn(\n"
     ]
    },
    {
     "name": "stdout",
     "output_type": "stream",
     "text": [
      "[t-SNE] Computing 31 nearest neighbors...\n",
      "[t-SNE] Indexed 40737 samples in 0.001s...\n",
      "[t-SNE] Computed neighbors for 40737 samples in 0.227s...\n",
      "[t-SNE] Computed conditional probabilities for sample 1000 / 40737\n",
      "[t-SNE] Computed conditional probabilities for sample 2000 / 40737\n",
      "[t-SNE] Computed conditional probabilities for sample 3000 / 40737\n",
      "[t-SNE] Computed conditional probabilities for sample 4000 / 40737\n",
      "[t-SNE] Computed conditional probabilities for sample 5000 / 40737\n",
      "[t-SNE] Computed conditional probabilities for sample 6000 / 40737\n",
      "[t-SNE] Computed conditional probabilities for sample 7000 / 40737\n",
      "[t-SNE] Computed conditional probabilities for sample 8000 / 40737\n",
      "[t-SNE] Computed conditional probabilities for sample 9000 / 40737\n",
      "[t-SNE] Computed conditional probabilities for sample 10000 / 40737\n",
      "[t-SNE] Computed conditional probabilities for sample 11000 / 40737\n",
      "[t-SNE] Computed conditional probabilities for sample 12000 / 40737\n",
      "[t-SNE] Computed conditional probabilities for sample 13000 / 40737\n",
      "[t-SNE] Computed conditional probabilities for sample 14000 / 40737\n",
      "[t-SNE] Computed conditional probabilities for sample 15000 / 40737\n",
      "[t-SNE] Computed conditional probabilities for sample 16000 / 40737\n",
      "[t-SNE] Computed conditional probabilities for sample 17000 / 40737\n",
      "[t-SNE] Computed conditional probabilities for sample 18000 / 40737\n",
      "[t-SNE] Computed conditional probabilities for sample 19000 / 40737\n",
      "[t-SNE] Computed conditional probabilities for sample 20000 / 40737\n",
      "[t-SNE] Computed conditional probabilities for sample 21000 / 40737\n",
      "[t-SNE] Computed conditional probabilities for sample 22000 / 40737\n",
      "[t-SNE] Computed conditional probabilities for sample 23000 / 40737\n",
      "[t-SNE] Computed conditional probabilities for sample 24000 / 40737\n",
      "[t-SNE] Computed conditional probabilities for sample 25000 / 40737\n",
      "[t-SNE] Computed conditional probabilities for sample 26000 / 40737\n",
      "[t-SNE] Computed conditional probabilities for sample 27000 / 40737\n",
      "[t-SNE] Computed conditional probabilities for sample 28000 / 40737\n",
      "[t-SNE] Computed conditional probabilities for sample 29000 / 40737\n",
      "[t-SNE] Computed conditional probabilities for sample 30000 / 40737\n",
      "[t-SNE] Computed conditional probabilities for sample 31000 / 40737\n",
      "[t-SNE] Computed conditional probabilities for sample 32000 / 40737\n",
      "[t-SNE] Computed conditional probabilities for sample 33000 / 40737\n",
      "[t-SNE] Computed conditional probabilities for sample 34000 / 40737\n",
      "[t-SNE] Computed conditional probabilities for sample 35000 / 40737\n",
      "[t-SNE] Computed conditional probabilities for sample 36000 / 40737\n",
      "[t-SNE] Computed conditional probabilities for sample 37000 / 40737\n",
      "[t-SNE] Computed conditional probabilities for sample 38000 / 40737\n",
      "[t-SNE] Computed conditional probabilities for sample 39000 / 40737\n",
      "[t-SNE] Computed conditional probabilities for sample 40000 / 40737\n",
      "[t-SNE] Computed conditional probabilities for sample 40737 / 40737\n",
      "[t-SNE] Mean sigma: 0.000000\n",
      "[t-SNE] KL divergence after 250 iterations with early exaggeration: 121.791039\n",
      "[t-SNE] KL divergence after 1500 iterations: 3.372848\n"
     ]
    },
    {
     "name": "stderr",
     "output_type": "stream",
     "text": [
      "/run/media/yunchen/lacie/projects/conda/lib/python3.9/site-packages/sklearn/manifold/_t_sne.py:800: FutureWarning: The default initialization in TSNE will change from 'random' to 'pca' in 1.2.\n",
      "  warnings.warn(\n"
     ]
    },
    {
     "name": "stdout",
     "output_type": "stream",
     "text": [
      "[t-SNE] Computing 31 nearest neighbors...\n",
      "[t-SNE] Indexed 40737 samples in 0.001s...\n",
      "[t-SNE] Computed neighbors for 40737 samples in 0.260s...\n",
      "[t-SNE] Computed conditional probabilities for sample 1000 / 40737\n",
      "[t-SNE] Computed conditional probabilities for sample 2000 / 40737\n",
      "[t-SNE] Computed conditional probabilities for sample 3000 / 40737\n",
      "[t-SNE] Computed conditional probabilities for sample 4000 / 40737\n",
      "[t-SNE] Computed conditional probabilities for sample 5000 / 40737\n",
      "[t-SNE] Computed conditional probabilities for sample 6000 / 40737\n",
      "[t-SNE] Computed conditional probabilities for sample 7000 / 40737\n",
      "[t-SNE] Computed conditional probabilities for sample 8000 / 40737\n",
      "[t-SNE] Computed conditional probabilities for sample 9000 / 40737\n",
      "[t-SNE] Computed conditional probabilities for sample 10000 / 40737\n",
      "[t-SNE] Computed conditional probabilities for sample 11000 / 40737\n",
      "[t-SNE] Computed conditional probabilities for sample 12000 / 40737\n",
      "[t-SNE] Computed conditional probabilities for sample 13000 / 40737\n",
      "[t-SNE] Computed conditional probabilities for sample 14000 / 40737\n",
      "[t-SNE] Computed conditional probabilities for sample 15000 / 40737\n",
      "[t-SNE] Computed conditional probabilities for sample 16000 / 40737\n",
      "[t-SNE] Computed conditional probabilities for sample 17000 / 40737\n",
      "[t-SNE] Computed conditional probabilities for sample 18000 / 40737\n",
      "[t-SNE] Computed conditional probabilities for sample 19000 / 40737\n",
      "[t-SNE] Computed conditional probabilities for sample 20000 / 40737\n",
      "[t-SNE] Computed conditional probabilities for sample 21000 / 40737\n",
      "[t-SNE] Computed conditional probabilities for sample 22000 / 40737\n",
      "[t-SNE] Computed conditional probabilities for sample 23000 / 40737\n",
      "[t-SNE] Computed conditional probabilities for sample 24000 / 40737\n",
      "[t-SNE] Computed conditional probabilities for sample 25000 / 40737\n",
      "[t-SNE] Computed conditional probabilities for sample 26000 / 40737\n",
      "[t-SNE] Computed conditional probabilities for sample 27000 / 40737\n",
      "[t-SNE] Computed conditional probabilities for sample 28000 / 40737\n",
      "[t-SNE] Computed conditional probabilities for sample 29000 / 40737\n",
      "[t-SNE] Computed conditional probabilities for sample 30000 / 40737\n",
      "[t-SNE] Computed conditional probabilities for sample 31000 / 40737\n",
      "[t-SNE] Computed conditional probabilities for sample 32000 / 40737\n",
      "[t-SNE] Computed conditional probabilities for sample 33000 / 40737\n",
      "[t-SNE] Computed conditional probabilities for sample 34000 / 40737\n",
      "[t-SNE] Computed conditional probabilities for sample 35000 / 40737\n",
      "[t-SNE] Computed conditional probabilities for sample 36000 / 40737\n",
      "[t-SNE] Computed conditional probabilities for sample 37000 / 40737\n",
      "[t-SNE] Computed conditional probabilities for sample 38000 / 40737\n",
      "[t-SNE] Computed conditional probabilities for sample 39000 / 40737\n",
      "[t-SNE] Computed conditional probabilities for sample 40000 / 40737\n",
      "[t-SNE] Computed conditional probabilities for sample 40737 / 40737\n",
      "[t-SNE] Mean sigma: 0.000000\n",
      "[t-SNE] KL divergence after 250 iterations with early exaggeration: 121.791031\n",
      "[t-SNE] KL divergence after 2000 iterations: 3.301097\n"
     ]
    },
    {
     "name": "stderr",
     "output_type": "stream",
     "text": [
      "/run/media/yunchen/lacie/projects/conda/lib/python3.9/site-packages/sklearn/manifold/_t_sne.py:800: FutureWarning: The default initialization in TSNE will change from 'random' to 'pca' in 1.2.\n",
      "  warnings.warn(\n"
     ]
    },
    {
     "name": "stdout",
     "output_type": "stream",
     "text": [
      "[t-SNE] Computing 46 nearest neighbors...\n",
      "[t-SNE] Indexed 40737 samples in 0.001s...\n",
      "[t-SNE] Computed neighbors for 40737 samples in 0.240s...\n",
      "[t-SNE] Computed conditional probabilities for sample 1000 / 40737\n",
      "[t-SNE] Computed conditional probabilities for sample 2000 / 40737\n",
      "[t-SNE] Computed conditional probabilities for sample 3000 / 40737\n",
      "[t-SNE] Computed conditional probabilities for sample 4000 / 40737\n",
      "[t-SNE] Computed conditional probabilities for sample 5000 / 40737\n",
      "[t-SNE] Computed conditional probabilities for sample 6000 / 40737\n",
      "[t-SNE] Computed conditional probabilities for sample 7000 / 40737\n",
      "[t-SNE] Computed conditional probabilities for sample 8000 / 40737\n",
      "[t-SNE] Computed conditional probabilities for sample 9000 / 40737\n",
      "[t-SNE] Computed conditional probabilities for sample 10000 / 40737\n",
      "[t-SNE] Computed conditional probabilities for sample 11000 / 40737\n",
      "[t-SNE] Computed conditional probabilities for sample 12000 / 40737\n",
      "[t-SNE] Computed conditional probabilities for sample 13000 / 40737\n",
      "[t-SNE] Computed conditional probabilities for sample 14000 / 40737\n",
      "[t-SNE] Computed conditional probabilities for sample 15000 / 40737\n",
      "[t-SNE] Computed conditional probabilities for sample 16000 / 40737\n",
      "[t-SNE] Computed conditional probabilities for sample 17000 / 40737\n",
      "[t-SNE] Computed conditional probabilities for sample 18000 / 40737\n",
      "[t-SNE] Computed conditional probabilities for sample 19000 / 40737\n",
      "[t-SNE] Computed conditional probabilities for sample 20000 / 40737\n",
      "[t-SNE] Computed conditional probabilities for sample 21000 / 40737\n",
      "[t-SNE] Computed conditional probabilities for sample 22000 / 40737\n",
      "[t-SNE] Computed conditional probabilities for sample 23000 / 40737\n",
      "[t-SNE] Computed conditional probabilities for sample 24000 / 40737\n",
      "[t-SNE] Computed conditional probabilities for sample 25000 / 40737\n",
      "[t-SNE] Computed conditional probabilities for sample 26000 / 40737\n",
      "[t-SNE] Computed conditional probabilities for sample 27000 / 40737\n",
      "[t-SNE] Computed conditional probabilities for sample 28000 / 40737\n",
      "[t-SNE] Computed conditional probabilities for sample 29000 / 40737\n",
      "[t-SNE] Computed conditional probabilities for sample 30000 / 40737\n",
      "[t-SNE] Computed conditional probabilities for sample 31000 / 40737\n",
      "[t-SNE] Computed conditional probabilities for sample 32000 / 40737\n",
      "[t-SNE] Computed conditional probabilities for sample 33000 / 40737\n",
      "[t-SNE] Computed conditional probabilities for sample 34000 / 40737\n",
      "[t-SNE] Computed conditional probabilities for sample 35000 / 40737\n",
      "[t-SNE] Computed conditional probabilities for sample 36000 / 40737\n",
      "[t-SNE] Computed conditional probabilities for sample 37000 / 40737\n",
      "[t-SNE] Computed conditional probabilities for sample 38000 / 40737\n",
      "[t-SNE] Computed conditional probabilities for sample 39000 / 40737\n",
      "[t-SNE] Computed conditional probabilities for sample 40000 / 40737\n",
      "[t-SNE] Computed conditional probabilities for sample 40737 / 40737\n",
      "[t-SNE] Mean sigma: 0.000000\n",
      "[t-SNE] KL divergence after 250 iterations with early exaggeration: 116.263222\n",
      "[t-SNE] KL divergence after 1500 iterations: 3.005626\n"
     ]
    },
    {
     "name": "stderr",
     "output_type": "stream",
     "text": [
      "/run/media/yunchen/lacie/projects/conda/lib/python3.9/site-packages/sklearn/manifold/_t_sne.py:800: FutureWarning: The default initialization in TSNE will change from 'random' to 'pca' in 1.2.\n",
      "  warnings.warn(\n"
     ]
    },
    {
     "name": "stdout",
     "output_type": "stream",
     "text": [
      "[t-SNE] Computing 46 nearest neighbors...\n",
      "[t-SNE] Indexed 40737 samples in 0.001s...\n",
      "[t-SNE] Computed neighbors for 40737 samples in 0.237s...\n",
      "[t-SNE] Computed conditional probabilities for sample 1000 / 40737\n",
      "[t-SNE] Computed conditional probabilities for sample 2000 / 40737\n",
      "[t-SNE] Computed conditional probabilities for sample 3000 / 40737\n",
      "[t-SNE] Computed conditional probabilities for sample 4000 / 40737\n",
      "[t-SNE] Computed conditional probabilities for sample 5000 / 40737\n",
      "[t-SNE] Computed conditional probabilities for sample 6000 / 40737\n",
      "[t-SNE] Computed conditional probabilities for sample 7000 / 40737\n",
      "[t-SNE] Computed conditional probabilities for sample 8000 / 40737\n",
      "[t-SNE] Computed conditional probabilities for sample 9000 / 40737\n",
      "[t-SNE] Computed conditional probabilities for sample 10000 / 40737\n",
      "[t-SNE] Computed conditional probabilities for sample 11000 / 40737\n",
      "[t-SNE] Computed conditional probabilities for sample 12000 / 40737\n",
      "[t-SNE] Computed conditional probabilities for sample 13000 / 40737\n",
      "[t-SNE] Computed conditional probabilities for sample 14000 / 40737\n",
      "[t-SNE] Computed conditional probabilities for sample 15000 / 40737\n",
      "[t-SNE] Computed conditional probabilities for sample 16000 / 40737\n",
      "[t-SNE] Computed conditional probabilities for sample 17000 / 40737\n",
      "[t-SNE] Computed conditional probabilities for sample 18000 / 40737\n",
      "[t-SNE] Computed conditional probabilities for sample 19000 / 40737\n",
      "[t-SNE] Computed conditional probabilities for sample 20000 / 40737\n",
      "[t-SNE] Computed conditional probabilities for sample 21000 / 40737\n",
      "[t-SNE] Computed conditional probabilities for sample 22000 / 40737\n",
      "[t-SNE] Computed conditional probabilities for sample 23000 / 40737\n",
      "[t-SNE] Computed conditional probabilities for sample 24000 / 40737\n",
      "[t-SNE] Computed conditional probabilities for sample 25000 / 40737\n",
      "[t-SNE] Computed conditional probabilities for sample 26000 / 40737\n",
      "[t-SNE] Computed conditional probabilities for sample 27000 / 40737\n",
      "[t-SNE] Computed conditional probabilities for sample 28000 / 40737\n",
      "[t-SNE] Computed conditional probabilities for sample 29000 / 40737\n",
      "[t-SNE] Computed conditional probabilities for sample 30000 / 40737\n",
      "[t-SNE] Computed conditional probabilities for sample 31000 / 40737\n",
      "[t-SNE] Computed conditional probabilities for sample 32000 / 40737\n",
      "[t-SNE] Computed conditional probabilities for sample 33000 / 40737\n",
      "[t-SNE] Computed conditional probabilities for sample 34000 / 40737\n",
      "[t-SNE] Computed conditional probabilities for sample 35000 / 40737\n",
      "[t-SNE] Computed conditional probabilities for sample 36000 / 40737\n",
      "[t-SNE] Computed conditional probabilities for sample 37000 / 40737\n",
      "[t-SNE] Computed conditional probabilities for sample 38000 / 40737\n",
      "[t-SNE] Computed conditional probabilities for sample 39000 / 40737\n",
      "[t-SNE] Computed conditional probabilities for sample 40000 / 40737\n",
      "[t-SNE] Computed conditional probabilities for sample 40737 / 40737\n",
      "[t-SNE] Mean sigma: 0.000000\n",
      "[t-SNE] KL divergence after 250 iterations with early exaggeration: 116.263229\n",
      "[t-SNE] KL divergence after 2000 iterations: 2.949264\n"
     ]
    },
    {
     "name": "stderr",
     "output_type": "stream",
     "text": [
      "/run/media/yunchen/lacie/projects/conda/lib/python3.9/site-packages/sklearn/manifold/_t_sne.py:800: FutureWarning: The default initialization in TSNE will change from 'random' to 'pca' in 1.2.\n",
      "  warnings.warn(\n"
     ]
    },
    {
     "name": "stdout",
     "output_type": "stream",
     "text": [
      "[t-SNE] Computing 61 nearest neighbors...\n",
      "[t-SNE] Indexed 40737 samples in 0.001s...\n",
      "[t-SNE] Computed neighbors for 40737 samples in 0.231s...\n",
      "[t-SNE] Computed conditional probabilities for sample 1000 / 40737\n",
      "[t-SNE] Computed conditional probabilities for sample 2000 / 40737\n",
      "[t-SNE] Computed conditional probabilities for sample 3000 / 40737\n",
      "[t-SNE] Computed conditional probabilities for sample 4000 / 40737\n",
      "[t-SNE] Computed conditional probabilities for sample 5000 / 40737\n",
      "[t-SNE] Computed conditional probabilities for sample 6000 / 40737\n",
      "[t-SNE] Computed conditional probabilities for sample 7000 / 40737\n",
      "[t-SNE] Computed conditional probabilities for sample 8000 / 40737\n",
      "[t-SNE] Computed conditional probabilities for sample 9000 / 40737\n",
      "[t-SNE] Computed conditional probabilities for sample 10000 / 40737\n",
      "[t-SNE] Computed conditional probabilities for sample 11000 / 40737\n",
      "[t-SNE] Computed conditional probabilities for sample 12000 / 40737\n",
      "[t-SNE] Computed conditional probabilities for sample 13000 / 40737\n",
      "[t-SNE] Computed conditional probabilities for sample 14000 / 40737\n",
      "[t-SNE] Computed conditional probabilities for sample 15000 / 40737\n",
      "[t-SNE] Computed conditional probabilities for sample 16000 / 40737\n",
      "[t-SNE] Computed conditional probabilities for sample 17000 / 40737\n",
      "[t-SNE] Computed conditional probabilities for sample 18000 / 40737\n",
      "[t-SNE] Computed conditional probabilities for sample 19000 / 40737\n",
      "[t-SNE] Computed conditional probabilities for sample 20000 / 40737\n",
      "[t-SNE] Computed conditional probabilities for sample 21000 / 40737\n",
      "[t-SNE] Computed conditional probabilities for sample 22000 / 40737\n",
      "[t-SNE] Computed conditional probabilities for sample 23000 / 40737\n",
      "[t-SNE] Computed conditional probabilities for sample 24000 / 40737\n",
      "[t-SNE] Computed conditional probabilities for sample 25000 / 40737\n",
      "[t-SNE] Computed conditional probabilities for sample 26000 / 40737\n",
      "[t-SNE] Computed conditional probabilities for sample 27000 / 40737\n",
      "[t-SNE] Computed conditional probabilities for sample 28000 / 40737\n",
      "[t-SNE] Computed conditional probabilities for sample 29000 / 40737\n",
      "[t-SNE] Computed conditional probabilities for sample 30000 / 40737\n",
      "[t-SNE] Computed conditional probabilities for sample 31000 / 40737\n",
      "[t-SNE] Computed conditional probabilities for sample 32000 / 40737\n",
      "[t-SNE] Computed conditional probabilities for sample 33000 / 40737\n",
      "[t-SNE] Computed conditional probabilities for sample 34000 / 40737\n",
      "[t-SNE] Computed conditional probabilities for sample 35000 / 40737\n",
      "[t-SNE] Computed conditional probabilities for sample 36000 / 40737\n",
      "[t-SNE] Computed conditional probabilities for sample 37000 / 40737\n",
      "[t-SNE] Computed conditional probabilities for sample 38000 / 40737\n",
      "[t-SNE] Computed conditional probabilities for sample 39000 / 40737\n",
      "[t-SNE] Computed conditional probabilities for sample 40000 / 40737\n",
      "[t-SNE] Computed conditional probabilities for sample 40737 / 40737\n",
      "[t-SNE] Mean sigma: 0.000000\n",
      "[t-SNE] KL divergence after 250 iterations with early exaggeration: 111.654472\n",
      "[t-SNE] KL divergence after 1500 iterations: 2.833546\n"
     ]
    },
    {
     "name": "stderr",
     "output_type": "stream",
     "text": [
      "/run/media/yunchen/lacie/projects/conda/lib/python3.9/site-packages/sklearn/manifold/_t_sne.py:800: FutureWarning: The default initialization in TSNE will change from 'random' to 'pca' in 1.2.\n",
      "  warnings.warn(\n"
     ]
    },
    {
     "name": "stdout",
     "output_type": "stream",
     "text": [
      "[t-SNE] Computing 61 nearest neighbors...\n",
      "[t-SNE] Indexed 40737 samples in 0.000s...\n",
      "[t-SNE] Computed neighbors for 40737 samples in 0.243s...\n",
      "[t-SNE] Computed conditional probabilities for sample 1000 / 40737\n",
      "[t-SNE] Computed conditional probabilities for sample 2000 / 40737\n",
      "[t-SNE] Computed conditional probabilities for sample 3000 / 40737\n",
      "[t-SNE] Computed conditional probabilities for sample 4000 / 40737\n",
      "[t-SNE] Computed conditional probabilities for sample 5000 / 40737\n",
      "[t-SNE] Computed conditional probabilities for sample 6000 / 40737\n",
      "[t-SNE] Computed conditional probabilities for sample 7000 / 40737\n",
      "[t-SNE] Computed conditional probabilities for sample 8000 / 40737\n",
      "[t-SNE] Computed conditional probabilities for sample 9000 / 40737\n",
      "[t-SNE] Computed conditional probabilities for sample 10000 / 40737\n",
      "[t-SNE] Computed conditional probabilities for sample 11000 / 40737\n",
      "[t-SNE] Computed conditional probabilities for sample 12000 / 40737\n",
      "[t-SNE] Computed conditional probabilities for sample 13000 / 40737\n",
      "[t-SNE] Computed conditional probabilities for sample 14000 / 40737\n",
      "[t-SNE] Computed conditional probabilities for sample 15000 / 40737\n",
      "[t-SNE] Computed conditional probabilities for sample 16000 / 40737\n",
      "[t-SNE] Computed conditional probabilities for sample 17000 / 40737\n",
      "[t-SNE] Computed conditional probabilities for sample 18000 / 40737\n",
      "[t-SNE] Computed conditional probabilities for sample 19000 / 40737\n",
      "[t-SNE] Computed conditional probabilities for sample 20000 / 40737\n",
      "[t-SNE] Computed conditional probabilities for sample 21000 / 40737\n",
      "[t-SNE] Computed conditional probabilities for sample 22000 / 40737\n",
      "[t-SNE] Computed conditional probabilities for sample 23000 / 40737\n",
      "[t-SNE] Computed conditional probabilities for sample 24000 / 40737\n",
      "[t-SNE] Computed conditional probabilities for sample 25000 / 40737\n",
      "[t-SNE] Computed conditional probabilities for sample 26000 / 40737\n",
      "[t-SNE] Computed conditional probabilities for sample 27000 / 40737\n",
      "[t-SNE] Computed conditional probabilities for sample 28000 / 40737\n",
      "[t-SNE] Computed conditional probabilities for sample 29000 / 40737\n",
      "[t-SNE] Computed conditional probabilities for sample 30000 / 40737\n",
      "[t-SNE] Computed conditional probabilities for sample 31000 / 40737\n",
      "[t-SNE] Computed conditional probabilities for sample 32000 / 40737\n",
      "[t-SNE] Computed conditional probabilities for sample 33000 / 40737\n",
      "[t-SNE] Computed conditional probabilities for sample 34000 / 40737\n",
      "[t-SNE] Computed conditional probabilities for sample 35000 / 40737\n",
      "[t-SNE] Computed conditional probabilities for sample 36000 / 40737\n",
      "[t-SNE] Computed conditional probabilities for sample 37000 / 40737\n",
      "[t-SNE] Computed conditional probabilities for sample 38000 / 40737\n",
      "[t-SNE] Computed conditional probabilities for sample 39000 / 40737\n",
      "[t-SNE] Computed conditional probabilities for sample 40000 / 40737\n",
      "[t-SNE] Computed conditional probabilities for sample 40737 / 40737\n",
      "[t-SNE] Mean sigma: 0.000000\n",
      "[t-SNE] KL divergence after 250 iterations with early exaggeration: 111.654480\n",
      "[t-SNE] KL divergence after 2000 iterations: 2.785420\n"
     ]
    },
    {
     "name": "stderr",
     "output_type": "stream",
     "text": [
      "/run/media/yunchen/lacie/projects/conda/lib/python3.9/site-packages/sklearn/manifold/_t_sne.py:800: FutureWarning: The default initialization in TSNE will change from 'random' to 'pca' in 1.2.\n",
      "  warnings.warn(\n"
     ]
    },
    {
     "name": "stdout",
     "output_type": "stream",
     "text": [
      "[t-SNE] Computing 16 nearest neighbors...\n",
      "[t-SNE] Indexed 40737 samples in 0.001s...\n",
      "[t-SNE] Computed neighbors for 40737 samples in 0.253s...\n",
      "[t-SNE] Computed conditional probabilities for sample 1000 / 40737\n",
      "[t-SNE] Computed conditional probabilities for sample 2000 / 40737\n",
      "[t-SNE] Computed conditional probabilities for sample 3000 / 40737\n",
      "[t-SNE] Computed conditional probabilities for sample 4000 / 40737\n",
      "[t-SNE] Computed conditional probabilities for sample 5000 / 40737\n",
      "[t-SNE] Computed conditional probabilities for sample 6000 / 40737\n",
      "[t-SNE] Computed conditional probabilities for sample 7000 / 40737\n",
      "[t-SNE] Computed conditional probabilities for sample 8000 / 40737\n",
      "[t-SNE] Computed conditional probabilities for sample 9000 / 40737\n",
      "[t-SNE] Computed conditional probabilities for sample 10000 / 40737\n",
      "[t-SNE] Computed conditional probabilities for sample 11000 / 40737\n",
      "[t-SNE] Computed conditional probabilities for sample 12000 / 40737\n",
      "[t-SNE] Computed conditional probabilities for sample 13000 / 40737\n",
      "[t-SNE] Computed conditional probabilities for sample 14000 / 40737\n",
      "[t-SNE] Computed conditional probabilities for sample 15000 / 40737\n",
      "[t-SNE] Computed conditional probabilities for sample 16000 / 40737\n",
      "[t-SNE] Computed conditional probabilities for sample 17000 / 40737\n",
      "[t-SNE] Computed conditional probabilities for sample 18000 / 40737\n",
      "[t-SNE] Computed conditional probabilities for sample 19000 / 40737\n",
      "[t-SNE] Computed conditional probabilities for sample 20000 / 40737\n",
      "[t-SNE] Computed conditional probabilities for sample 21000 / 40737\n",
      "[t-SNE] Computed conditional probabilities for sample 22000 / 40737\n",
      "[t-SNE] Computed conditional probabilities for sample 23000 / 40737\n",
      "[t-SNE] Computed conditional probabilities for sample 24000 / 40737\n",
      "[t-SNE] Computed conditional probabilities for sample 25000 / 40737\n",
      "[t-SNE] Computed conditional probabilities for sample 26000 / 40737\n",
      "[t-SNE] Computed conditional probabilities for sample 27000 / 40737\n",
      "[t-SNE] Computed conditional probabilities for sample 28000 / 40737\n",
      "[t-SNE] Computed conditional probabilities for sample 29000 / 40737\n",
      "[t-SNE] Computed conditional probabilities for sample 30000 / 40737\n",
      "[t-SNE] Computed conditional probabilities for sample 31000 / 40737\n",
      "[t-SNE] Computed conditional probabilities for sample 32000 / 40737\n",
      "[t-SNE] Computed conditional probabilities for sample 33000 / 40737\n",
      "[t-SNE] Computed conditional probabilities for sample 34000 / 40737\n",
      "[t-SNE] Computed conditional probabilities for sample 35000 / 40737\n",
      "[t-SNE] Computed conditional probabilities for sample 36000 / 40737\n",
      "[t-SNE] Computed conditional probabilities for sample 37000 / 40737\n",
      "[t-SNE] Computed conditional probabilities for sample 38000 / 40737\n",
      "[t-SNE] Computed conditional probabilities for sample 39000 / 40737\n",
      "[t-SNE] Computed conditional probabilities for sample 40000 / 40737\n",
      "[t-SNE] Computed conditional probabilities for sample 40737 / 40737\n",
      "[t-SNE] Mean sigma: 0.000000\n",
      "[t-SNE] KL divergence after 250 iterations with early exaggeration: 131.442017\n",
      "[t-SNE] KL divergence after 1500 iterations: 3.907059\n"
     ]
    },
    {
     "name": "stderr",
     "output_type": "stream",
     "text": [
      "/run/media/yunchen/lacie/projects/conda/lib/python3.9/site-packages/sklearn/manifold/_t_sne.py:800: FutureWarning: The default initialization in TSNE will change from 'random' to 'pca' in 1.2.\n",
      "  warnings.warn(\n"
     ]
    },
    {
     "name": "stdout",
     "output_type": "stream",
     "text": [
      "[t-SNE] Computing 16 nearest neighbors...\n",
      "[t-SNE] Indexed 40737 samples in 0.001s...\n",
      "[t-SNE] Computed neighbors for 40737 samples in 0.205s...\n",
      "[t-SNE] Computed conditional probabilities for sample 1000 / 40737\n",
      "[t-SNE] Computed conditional probabilities for sample 2000 / 40737\n",
      "[t-SNE] Computed conditional probabilities for sample 3000 / 40737\n",
      "[t-SNE] Computed conditional probabilities for sample 4000 / 40737\n",
      "[t-SNE] Computed conditional probabilities for sample 5000 / 40737\n",
      "[t-SNE] Computed conditional probabilities for sample 6000 / 40737\n",
      "[t-SNE] Computed conditional probabilities for sample 7000 / 40737\n",
      "[t-SNE] Computed conditional probabilities for sample 8000 / 40737\n",
      "[t-SNE] Computed conditional probabilities for sample 9000 / 40737\n",
      "[t-SNE] Computed conditional probabilities for sample 10000 / 40737\n",
      "[t-SNE] Computed conditional probabilities for sample 11000 / 40737\n",
      "[t-SNE] Computed conditional probabilities for sample 12000 / 40737\n",
      "[t-SNE] Computed conditional probabilities for sample 13000 / 40737\n",
      "[t-SNE] Computed conditional probabilities for sample 14000 / 40737\n",
      "[t-SNE] Computed conditional probabilities for sample 15000 / 40737\n",
      "[t-SNE] Computed conditional probabilities for sample 16000 / 40737\n",
      "[t-SNE] Computed conditional probabilities for sample 17000 / 40737\n",
      "[t-SNE] Computed conditional probabilities for sample 18000 / 40737\n",
      "[t-SNE] Computed conditional probabilities for sample 19000 / 40737\n",
      "[t-SNE] Computed conditional probabilities for sample 20000 / 40737\n",
      "[t-SNE] Computed conditional probabilities for sample 21000 / 40737\n",
      "[t-SNE] Computed conditional probabilities for sample 22000 / 40737\n",
      "[t-SNE] Computed conditional probabilities for sample 23000 / 40737\n",
      "[t-SNE] Computed conditional probabilities for sample 24000 / 40737\n",
      "[t-SNE] Computed conditional probabilities for sample 25000 / 40737\n",
      "[t-SNE] Computed conditional probabilities for sample 26000 / 40737\n",
      "[t-SNE] Computed conditional probabilities for sample 27000 / 40737\n",
      "[t-SNE] Computed conditional probabilities for sample 28000 / 40737\n",
      "[t-SNE] Computed conditional probabilities for sample 29000 / 40737\n",
      "[t-SNE] Computed conditional probabilities for sample 30000 / 40737\n",
      "[t-SNE] Computed conditional probabilities for sample 31000 / 40737\n",
      "[t-SNE] Computed conditional probabilities for sample 32000 / 40737\n",
      "[t-SNE] Computed conditional probabilities for sample 33000 / 40737\n",
      "[t-SNE] Computed conditional probabilities for sample 34000 / 40737\n",
      "[t-SNE] Computed conditional probabilities for sample 35000 / 40737\n",
      "[t-SNE] Computed conditional probabilities for sample 36000 / 40737\n",
      "[t-SNE] Computed conditional probabilities for sample 37000 / 40737\n",
      "[t-SNE] Computed conditional probabilities for sample 38000 / 40737\n",
      "[t-SNE] Computed conditional probabilities for sample 39000 / 40737\n",
      "[t-SNE] Computed conditional probabilities for sample 40000 / 40737\n",
      "[t-SNE] Computed conditional probabilities for sample 40737 / 40737\n",
      "[t-SNE] Mean sigma: 0.000000\n",
      "[t-SNE] KL divergence after 250 iterations with early exaggeration: 131.442017\n",
      "[t-SNE] KL divergence after 2000 iterations: 3.811915\n"
     ]
    },
    {
     "name": "stderr",
     "output_type": "stream",
     "text": [
      "/run/media/yunchen/lacie/projects/conda/lib/python3.9/site-packages/sklearn/manifold/_t_sne.py:800: FutureWarning: The default initialization in TSNE will change from 'random' to 'pca' in 1.2.\n",
      "  warnings.warn(\n"
     ]
    },
    {
     "name": "stdout",
     "output_type": "stream",
     "text": [
      "[t-SNE] Computing 31 nearest neighbors...\n",
      "[t-SNE] Indexed 40737 samples in 0.000s...\n",
      "[t-SNE] Computed neighbors for 40737 samples in 0.259s...\n",
      "[t-SNE] Computed conditional probabilities for sample 1000 / 40737\n",
      "[t-SNE] Computed conditional probabilities for sample 2000 / 40737\n",
      "[t-SNE] Computed conditional probabilities for sample 3000 / 40737\n",
      "[t-SNE] Computed conditional probabilities for sample 4000 / 40737\n",
      "[t-SNE] Computed conditional probabilities for sample 5000 / 40737\n",
      "[t-SNE] Computed conditional probabilities for sample 6000 / 40737\n",
      "[t-SNE] Computed conditional probabilities for sample 7000 / 40737\n",
      "[t-SNE] Computed conditional probabilities for sample 8000 / 40737\n",
      "[t-SNE] Computed conditional probabilities for sample 9000 / 40737\n",
      "[t-SNE] Computed conditional probabilities for sample 10000 / 40737\n",
      "[t-SNE] Computed conditional probabilities for sample 11000 / 40737\n",
      "[t-SNE] Computed conditional probabilities for sample 12000 / 40737\n",
      "[t-SNE] Computed conditional probabilities for sample 13000 / 40737\n",
      "[t-SNE] Computed conditional probabilities for sample 14000 / 40737\n",
      "[t-SNE] Computed conditional probabilities for sample 15000 / 40737\n",
      "[t-SNE] Computed conditional probabilities for sample 16000 / 40737\n",
      "[t-SNE] Computed conditional probabilities for sample 17000 / 40737\n",
      "[t-SNE] Computed conditional probabilities for sample 18000 / 40737\n",
      "[t-SNE] Computed conditional probabilities for sample 19000 / 40737\n",
      "[t-SNE] Computed conditional probabilities for sample 20000 / 40737\n",
      "[t-SNE] Computed conditional probabilities for sample 21000 / 40737\n",
      "[t-SNE] Computed conditional probabilities for sample 22000 / 40737\n",
      "[t-SNE] Computed conditional probabilities for sample 23000 / 40737\n",
      "[t-SNE] Computed conditional probabilities for sample 24000 / 40737\n",
      "[t-SNE] Computed conditional probabilities for sample 25000 / 40737\n",
      "[t-SNE] Computed conditional probabilities for sample 26000 / 40737\n",
      "[t-SNE] Computed conditional probabilities for sample 27000 / 40737\n",
      "[t-SNE] Computed conditional probabilities for sample 28000 / 40737\n",
      "[t-SNE] Computed conditional probabilities for sample 29000 / 40737\n",
      "[t-SNE] Computed conditional probabilities for sample 30000 / 40737\n",
      "[t-SNE] Computed conditional probabilities for sample 31000 / 40737\n",
      "[t-SNE] Computed conditional probabilities for sample 32000 / 40737\n",
      "[t-SNE] Computed conditional probabilities for sample 33000 / 40737\n",
      "[t-SNE] Computed conditional probabilities for sample 34000 / 40737\n",
      "[t-SNE] Computed conditional probabilities for sample 35000 / 40737\n",
      "[t-SNE] Computed conditional probabilities for sample 36000 / 40737\n",
      "[t-SNE] Computed conditional probabilities for sample 37000 / 40737\n",
      "[t-SNE] Computed conditional probabilities for sample 38000 / 40737\n",
      "[t-SNE] Computed conditional probabilities for sample 39000 / 40737\n",
      "[t-SNE] Computed conditional probabilities for sample 40000 / 40737\n",
      "[t-SNE] Computed conditional probabilities for sample 40737 / 40737\n",
      "[t-SNE] Mean sigma: 0.000000\n",
      "[t-SNE] KL divergence after 250 iterations with early exaggeration: 121.955284\n",
      "[t-SNE] KL divergence after 1500 iterations: 3.366063\n"
     ]
    },
    {
     "name": "stderr",
     "output_type": "stream",
     "text": [
      "/run/media/yunchen/lacie/projects/conda/lib/python3.9/site-packages/sklearn/manifold/_t_sne.py:800: FutureWarning: The default initialization in TSNE will change from 'random' to 'pca' in 1.2.\n",
      "  warnings.warn(\n"
     ]
    },
    {
     "name": "stdout",
     "output_type": "stream",
     "text": [
      "[t-SNE] Computing 31 nearest neighbors...\n",
      "[t-SNE] Indexed 40737 samples in 0.001s...\n",
      "[t-SNE] Computed neighbors for 40737 samples in 0.302s...\n",
      "[t-SNE] Computed conditional probabilities for sample 1000 / 40737\n",
      "[t-SNE] Computed conditional probabilities for sample 2000 / 40737\n",
      "[t-SNE] Computed conditional probabilities for sample 3000 / 40737\n",
      "[t-SNE] Computed conditional probabilities for sample 4000 / 40737\n",
      "[t-SNE] Computed conditional probabilities for sample 5000 / 40737\n",
      "[t-SNE] Computed conditional probabilities for sample 6000 / 40737\n",
      "[t-SNE] Computed conditional probabilities for sample 7000 / 40737\n",
      "[t-SNE] Computed conditional probabilities for sample 8000 / 40737\n",
      "[t-SNE] Computed conditional probabilities for sample 9000 / 40737\n",
      "[t-SNE] Computed conditional probabilities for sample 10000 / 40737\n",
      "[t-SNE] Computed conditional probabilities for sample 11000 / 40737\n",
      "[t-SNE] Computed conditional probabilities for sample 12000 / 40737\n",
      "[t-SNE] Computed conditional probabilities for sample 13000 / 40737\n",
      "[t-SNE] Computed conditional probabilities for sample 14000 / 40737\n",
      "[t-SNE] Computed conditional probabilities for sample 15000 / 40737\n",
      "[t-SNE] Computed conditional probabilities for sample 16000 / 40737\n",
      "[t-SNE] Computed conditional probabilities for sample 17000 / 40737\n",
      "[t-SNE] Computed conditional probabilities for sample 18000 / 40737\n",
      "[t-SNE] Computed conditional probabilities for sample 19000 / 40737\n",
      "[t-SNE] Computed conditional probabilities for sample 20000 / 40737\n",
      "[t-SNE] Computed conditional probabilities for sample 21000 / 40737\n",
      "[t-SNE] Computed conditional probabilities for sample 22000 / 40737\n",
      "[t-SNE] Computed conditional probabilities for sample 23000 / 40737\n",
      "[t-SNE] Computed conditional probabilities for sample 24000 / 40737\n",
      "[t-SNE] Computed conditional probabilities for sample 25000 / 40737\n",
      "[t-SNE] Computed conditional probabilities for sample 26000 / 40737\n",
      "[t-SNE] Computed conditional probabilities for sample 27000 / 40737\n",
      "[t-SNE] Computed conditional probabilities for sample 28000 / 40737\n",
      "[t-SNE] Computed conditional probabilities for sample 29000 / 40737\n",
      "[t-SNE] Computed conditional probabilities for sample 30000 / 40737\n",
      "[t-SNE] Computed conditional probabilities for sample 31000 / 40737\n",
      "[t-SNE] Computed conditional probabilities for sample 32000 / 40737\n",
      "[t-SNE] Computed conditional probabilities for sample 33000 / 40737\n",
      "[t-SNE] Computed conditional probabilities for sample 34000 / 40737\n",
      "[t-SNE] Computed conditional probabilities for sample 35000 / 40737\n",
      "[t-SNE] Computed conditional probabilities for sample 36000 / 40737\n",
      "[t-SNE] Computed conditional probabilities for sample 37000 / 40737\n",
      "[t-SNE] Computed conditional probabilities for sample 38000 / 40737\n",
      "[t-SNE] Computed conditional probabilities for sample 39000 / 40737\n",
      "[t-SNE] Computed conditional probabilities for sample 40000 / 40737\n",
      "[t-SNE] Computed conditional probabilities for sample 40737 / 40737\n",
      "[t-SNE] Mean sigma: 0.000000\n",
      "[t-SNE] KL divergence after 250 iterations with early exaggeration: 121.955269\n",
      "[t-SNE] KL divergence after 2000 iterations: 3.293280\n"
     ]
    },
    {
     "name": "stderr",
     "output_type": "stream",
     "text": [
      "/run/media/yunchen/lacie/projects/conda/lib/python3.9/site-packages/sklearn/manifold/_t_sne.py:800: FutureWarning: The default initialization in TSNE will change from 'random' to 'pca' in 1.2.\n",
      "  warnings.warn(\n"
     ]
    },
    {
     "name": "stdout",
     "output_type": "stream",
     "text": [
      "[t-SNE] Computing 46 nearest neighbors...\n",
      "[t-SNE] Indexed 40737 samples in 0.001s...\n",
      "[t-SNE] Computed neighbors for 40737 samples in 0.249s...\n",
      "[t-SNE] Computed conditional probabilities for sample 1000 / 40737\n",
      "[t-SNE] Computed conditional probabilities for sample 2000 / 40737\n",
      "[t-SNE] Computed conditional probabilities for sample 3000 / 40737\n",
      "[t-SNE] Computed conditional probabilities for sample 4000 / 40737\n",
      "[t-SNE] Computed conditional probabilities for sample 5000 / 40737\n",
      "[t-SNE] Computed conditional probabilities for sample 6000 / 40737\n",
      "[t-SNE] Computed conditional probabilities for sample 7000 / 40737\n",
      "[t-SNE] Computed conditional probabilities for sample 8000 / 40737\n",
      "[t-SNE] Computed conditional probabilities for sample 9000 / 40737\n",
      "[t-SNE] Computed conditional probabilities for sample 10000 / 40737\n",
      "[t-SNE] Computed conditional probabilities for sample 11000 / 40737\n",
      "[t-SNE] Computed conditional probabilities for sample 12000 / 40737\n",
      "[t-SNE] Computed conditional probabilities for sample 13000 / 40737\n",
      "[t-SNE] Computed conditional probabilities for sample 14000 / 40737\n",
      "[t-SNE] Computed conditional probabilities for sample 15000 / 40737\n",
      "[t-SNE] Computed conditional probabilities for sample 16000 / 40737\n",
      "[t-SNE] Computed conditional probabilities for sample 17000 / 40737\n",
      "[t-SNE] Computed conditional probabilities for sample 18000 / 40737\n",
      "[t-SNE] Computed conditional probabilities for sample 19000 / 40737\n",
      "[t-SNE] Computed conditional probabilities for sample 20000 / 40737\n",
      "[t-SNE] Computed conditional probabilities for sample 21000 / 40737\n",
      "[t-SNE] Computed conditional probabilities for sample 22000 / 40737\n",
      "[t-SNE] Computed conditional probabilities for sample 23000 / 40737\n",
      "[t-SNE] Computed conditional probabilities for sample 24000 / 40737\n",
      "[t-SNE] Computed conditional probabilities for sample 25000 / 40737\n",
      "[t-SNE] Computed conditional probabilities for sample 26000 / 40737\n",
      "[t-SNE] Computed conditional probabilities for sample 27000 / 40737\n",
      "[t-SNE] Computed conditional probabilities for sample 28000 / 40737\n",
      "[t-SNE] Computed conditional probabilities for sample 29000 / 40737\n",
      "[t-SNE] Computed conditional probabilities for sample 30000 / 40737\n",
      "[t-SNE] Computed conditional probabilities for sample 31000 / 40737\n",
      "[t-SNE] Computed conditional probabilities for sample 32000 / 40737\n",
      "[t-SNE] Computed conditional probabilities for sample 33000 / 40737\n",
      "[t-SNE] Computed conditional probabilities for sample 34000 / 40737\n",
      "[t-SNE] Computed conditional probabilities for sample 35000 / 40737\n",
      "[t-SNE] Computed conditional probabilities for sample 36000 / 40737\n",
      "[t-SNE] Computed conditional probabilities for sample 37000 / 40737\n",
      "[t-SNE] Computed conditional probabilities for sample 38000 / 40737\n",
      "[t-SNE] Computed conditional probabilities for sample 39000 / 40737\n",
      "[t-SNE] Computed conditional probabilities for sample 40000 / 40737\n",
      "[t-SNE] Computed conditional probabilities for sample 40737 / 40737\n",
      "[t-SNE] Mean sigma: 0.000000\n",
      "[t-SNE] KL divergence after 250 iterations with early exaggeration: 116.326805\n",
      "[t-SNE] KL divergence after 1500 iterations: 3.005616\n"
     ]
    },
    {
     "name": "stderr",
     "output_type": "stream",
     "text": [
      "/run/media/yunchen/lacie/projects/conda/lib/python3.9/site-packages/sklearn/manifold/_t_sne.py:800: FutureWarning: The default initialization in TSNE will change from 'random' to 'pca' in 1.2.\n",
      "  warnings.warn(\n"
     ]
    },
    {
     "name": "stdout",
     "output_type": "stream",
     "text": [
      "[t-SNE] Computing 46 nearest neighbors...\n",
      "[t-SNE] Indexed 40737 samples in 0.000s...\n",
      "[t-SNE] Computed neighbors for 40737 samples in 0.189s...\n",
      "[t-SNE] Computed conditional probabilities for sample 1000 / 40737\n",
      "[t-SNE] Computed conditional probabilities for sample 2000 / 40737\n",
      "[t-SNE] Computed conditional probabilities for sample 3000 / 40737\n",
      "[t-SNE] Computed conditional probabilities for sample 4000 / 40737\n",
      "[t-SNE] Computed conditional probabilities for sample 5000 / 40737\n",
      "[t-SNE] Computed conditional probabilities for sample 6000 / 40737\n",
      "[t-SNE] Computed conditional probabilities for sample 7000 / 40737\n",
      "[t-SNE] Computed conditional probabilities for sample 8000 / 40737\n",
      "[t-SNE] Computed conditional probabilities for sample 9000 / 40737\n",
      "[t-SNE] Computed conditional probabilities for sample 10000 / 40737\n",
      "[t-SNE] Computed conditional probabilities for sample 11000 / 40737\n",
      "[t-SNE] Computed conditional probabilities for sample 12000 / 40737\n",
      "[t-SNE] Computed conditional probabilities for sample 13000 / 40737\n",
      "[t-SNE] Computed conditional probabilities for sample 14000 / 40737\n",
      "[t-SNE] Computed conditional probabilities for sample 15000 / 40737\n",
      "[t-SNE] Computed conditional probabilities for sample 16000 / 40737\n",
      "[t-SNE] Computed conditional probabilities for sample 17000 / 40737\n",
      "[t-SNE] Computed conditional probabilities for sample 18000 / 40737\n",
      "[t-SNE] Computed conditional probabilities for sample 19000 / 40737\n",
      "[t-SNE] Computed conditional probabilities for sample 20000 / 40737\n",
      "[t-SNE] Computed conditional probabilities for sample 21000 / 40737\n",
      "[t-SNE] Computed conditional probabilities for sample 22000 / 40737\n",
      "[t-SNE] Computed conditional probabilities for sample 23000 / 40737\n",
      "[t-SNE] Computed conditional probabilities for sample 24000 / 40737\n",
      "[t-SNE] Computed conditional probabilities for sample 25000 / 40737\n",
      "[t-SNE] Computed conditional probabilities for sample 26000 / 40737\n",
      "[t-SNE] Computed conditional probabilities for sample 27000 / 40737\n",
      "[t-SNE] Computed conditional probabilities for sample 28000 / 40737\n",
      "[t-SNE] Computed conditional probabilities for sample 29000 / 40737\n",
      "[t-SNE] Computed conditional probabilities for sample 30000 / 40737\n",
      "[t-SNE] Computed conditional probabilities for sample 31000 / 40737\n",
      "[t-SNE] Computed conditional probabilities for sample 32000 / 40737\n",
      "[t-SNE] Computed conditional probabilities for sample 33000 / 40737\n",
      "[t-SNE] Computed conditional probabilities for sample 34000 / 40737\n",
      "[t-SNE] Computed conditional probabilities for sample 35000 / 40737\n",
      "[t-SNE] Computed conditional probabilities for sample 36000 / 40737\n",
      "[t-SNE] Computed conditional probabilities for sample 37000 / 40737\n",
      "[t-SNE] Computed conditional probabilities for sample 38000 / 40737\n",
      "[t-SNE] Computed conditional probabilities for sample 39000 / 40737\n",
      "[t-SNE] Computed conditional probabilities for sample 40000 / 40737\n",
      "[t-SNE] Computed conditional probabilities for sample 40737 / 40737\n",
      "[t-SNE] Mean sigma: 0.000000\n",
      "[t-SNE] KL divergence after 250 iterations with early exaggeration: 116.326820\n",
      "[t-SNE] KL divergence after 2000 iterations: 2.948721\n"
     ]
    },
    {
     "name": "stderr",
     "output_type": "stream",
     "text": [
      "/run/media/yunchen/lacie/projects/conda/lib/python3.9/site-packages/sklearn/manifold/_t_sne.py:800: FutureWarning: The default initialization in TSNE will change from 'random' to 'pca' in 1.2.\n",
      "  warnings.warn(\n"
     ]
    },
    {
     "name": "stdout",
     "output_type": "stream",
     "text": [
      "[t-SNE] Computing 61 nearest neighbors...\n",
      "[t-SNE] Indexed 40737 samples in 0.000s...\n",
      "[t-SNE] Computed neighbors for 40737 samples in 0.204s...\n",
      "[t-SNE] Computed conditional probabilities for sample 1000 / 40737\n",
      "[t-SNE] Computed conditional probabilities for sample 2000 / 40737\n",
      "[t-SNE] Computed conditional probabilities for sample 3000 / 40737\n",
      "[t-SNE] Computed conditional probabilities for sample 4000 / 40737\n",
      "[t-SNE] Computed conditional probabilities for sample 5000 / 40737\n",
      "[t-SNE] Computed conditional probabilities for sample 6000 / 40737\n",
      "[t-SNE] Computed conditional probabilities for sample 7000 / 40737\n",
      "[t-SNE] Computed conditional probabilities for sample 8000 / 40737\n",
      "[t-SNE] Computed conditional probabilities for sample 9000 / 40737\n",
      "[t-SNE] Computed conditional probabilities for sample 10000 / 40737\n",
      "[t-SNE] Computed conditional probabilities for sample 11000 / 40737\n",
      "[t-SNE] Computed conditional probabilities for sample 12000 / 40737\n",
      "[t-SNE] Computed conditional probabilities for sample 13000 / 40737\n",
      "[t-SNE] Computed conditional probabilities for sample 14000 / 40737\n",
      "[t-SNE] Computed conditional probabilities for sample 15000 / 40737\n",
      "[t-SNE] Computed conditional probabilities for sample 16000 / 40737\n",
      "[t-SNE] Computed conditional probabilities for sample 17000 / 40737\n",
      "[t-SNE] Computed conditional probabilities for sample 18000 / 40737\n",
      "[t-SNE] Computed conditional probabilities for sample 19000 / 40737\n",
      "[t-SNE] Computed conditional probabilities for sample 20000 / 40737\n",
      "[t-SNE] Computed conditional probabilities for sample 21000 / 40737\n",
      "[t-SNE] Computed conditional probabilities for sample 22000 / 40737\n",
      "[t-SNE] Computed conditional probabilities for sample 23000 / 40737\n",
      "[t-SNE] Computed conditional probabilities for sample 24000 / 40737\n",
      "[t-SNE] Computed conditional probabilities for sample 25000 / 40737\n",
      "[t-SNE] Computed conditional probabilities for sample 26000 / 40737\n",
      "[t-SNE] Computed conditional probabilities for sample 27000 / 40737\n",
      "[t-SNE] Computed conditional probabilities for sample 28000 / 40737\n",
      "[t-SNE] Computed conditional probabilities for sample 29000 / 40737\n",
      "[t-SNE] Computed conditional probabilities for sample 30000 / 40737\n",
      "[t-SNE] Computed conditional probabilities for sample 31000 / 40737\n",
      "[t-SNE] Computed conditional probabilities for sample 32000 / 40737\n",
      "[t-SNE] Computed conditional probabilities for sample 33000 / 40737\n",
      "[t-SNE] Computed conditional probabilities for sample 34000 / 40737\n",
      "[t-SNE] Computed conditional probabilities for sample 35000 / 40737\n",
      "[t-SNE] Computed conditional probabilities for sample 36000 / 40737\n",
      "[t-SNE] Computed conditional probabilities for sample 37000 / 40737\n",
      "[t-SNE] Computed conditional probabilities for sample 38000 / 40737\n",
      "[t-SNE] Computed conditional probabilities for sample 39000 / 40737\n",
      "[t-SNE] Computed conditional probabilities for sample 40000 / 40737\n",
      "[t-SNE] Computed conditional probabilities for sample 40737 / 40737\n",
      "[t-SNE] Mean sigma: 0.000000\n",
      "[t-SNE] KL divergence after 250 iterations with early exaggeration: 110.816109\n",
      "[t-SNE] KL divergence after 1500 iterations: 2.835168\n"
     ]
    },
    {
     "name": "stderr",
     "output_type": "stream",
     "text": [
      "/run/media/yunchen/lacie/projects/conda/lib/python3.9/site-packages/sklearn/manifold/_t_sne.py:800: FutureWarning: The default initialization in TSNE will change from 'random' to 'pca' in 1.2.\n",
      "  warnings.warn(\n"
     ]
    },
    {
     "name": "stdout",
     "output_type": "stream",
     "text": [
      "[t-SNE] Computing 61 nearest neighbors...\n",
      "[t-SNE] Indexed 40737 samples in 0.000s...\n",
      "[t-SNE] Computed neighbors for 40737 samples in 0.199s...\n",
      "[t-SNE] Computed conditional probabilities for sample 1000 / 40737\n",
      "[t-SNE] Computed conditional probabilities for sample 2000 / 40737\n",
      "[t-SNE] Computed conditional probabilities for sample 3000 / 40737\n",
      "[t-SNE] Computed conditional probabilities for sample 4000 / 40737\n",
      "[t-SNE] Computed conditional probabilities for sample 5000 / 40737\n",
      "[t-SNE] Computed conditional probabilities for sample 6000 / 40737\n",
      "[t-SNE] Computed conditional probabilities for sample 7000 / 40737\n",
      "[t-SNE] Computed conditional probabilities for sample 8000 / 40737\n",
      "[t-SNE] Computed conditional probabilities for sample 9000 / 40737\n",
      "[t-SNE] Computed conditional probabilities for sample 10000 / 40737\n",
      "[t-SNE] Computed conditional probabilities for sample 11000 / 40737\n",
      "[t-SNE] Computed conditional probabilities for sample 12000 / 40737\n",
      "[t-SNE] Computed conditional probabilities for sample 13000 / 40737\n",
      "[t-SNE] Computed conditional probabilities for sample 14000 / 40737\n",
      "[t-SNE] Computed conditional probabilities for sample 15000 / 40737\n",
      "[t-SNE] Computed conditional probabilities for sample 16000 / 40737\n",
      "[t-SNE] Computed conditional probabilities for sample 17000 / 40737\n",
      "[t-SNE] Computed conditional probabilities for sample 18000 / 40737\n",
      "[t-SNE] Computed conditional probabilities for sample 19000 / 40737\n",
      "[t-SNE] Computed conditional probabilities for sample 20000 / 40737\n",
      "[t-SNE] Computed conditional probabilities for sample 21000 / 40737\n",
      "[t-SNE] Computed conditional probabilities for sample 22000 / 40737\n",
      "[t-SNE] Computed conditional probabilities for sample 23000 / 40737\n",
      "[t-SNE] Computed conditional probabilities for sample 24000 / 40737\n",
      "[t-SNE] Computed conditional probabilities for sample 25000 / 40737\n",
      "[t-SNE] Computed conditional probabilities for sample 26000 / 40737\n",
      "[t-SNE] Computed conditional probabilities for sample 27000 / 40737\n",
      "[t-SNE] Computed conditional probabilities for sample 28000 / 40737\n",
      "[t-SNE] Computed conditional probabilities for sample 29000 / 40737\n",
      "[t-SNE] Computed conditional probabilities for sample 30000 / 40737\n",
      "[t-SNE] Computed conditional probabilities for sample 31000 / 40737\n",
      "[t-SNE] Computed conditional probabilities for sample 32000 / 40737\n",
      "[t-SNE] Computed conditional probabilities for sample 33000 / 40737\n",
      "[t-SNE] Computed conditional probabilities for sample 34000 / 40737\n",
      "[t-SNE] Computed conditional probabilities for sample 35000 / 40737\n",
      "[t-SNE] Computed conditional probabilities for sample 36000 / 40737\n",
      "[t-SNE] Computed conditional probabilities for sample 37000 / 40737\n",
      "[t-SNE] Computed conditional probabilities for sample 38000 / 40737\n",
      "[t-SNE] Computed conditional probabilities for sample 39000 / 40737\n",
      "[t-SNE] Computed conditional probabilities for sample 40000 / 40737\n",
      "[t-SNE] Computed conditional probabilities for sample 40737 / 40737\n",
      "[t-SNE] Mean sigma: 0.000000\n",
      "[t-SNE] KL divergence after 250 iterations with early exaggeration: 110.816109\n",
      "[t-SNE] KL divergence after 2000 iterations: 2.787299\n"
     ]
    },
    {
     "name": "stderr",
     "output_type": "stream",
     "text": [
      "/run/media/yunchen/lacie/projects/conda/lib/python3.9/site-packages/sklearn/manifold/_t_sne.py:800: FutureWarning: The default initialization in TSNE will change from 'random' to 'pca' in 1.2.\n",
      "  warnings.warn(\n"
     ]
    },
    {
     "name": "stdout",
     "output_type": "stream",
     "text": [
      "[t-SNE] Computing 16 nearest neighbors...\n",
      "[t-SNE] Indexed 40737 samples in 0.000s...\n",
      "[t-SNE] Computed neighbors for 40737 samples in 0.203s...\n",
      "[t-SNE] Computed conditional probabilities for sample 1000 / 40737\n",
      "[t-SNE] Computed conditional probabilities for sample 2000 / 40737\n",
      "[t-SNE] Computed conditional probabilities for sample 3000 / 40737\n",
      "[t-SNE] Computed conditional probabilities for sample 4000 / 40737\n",
      "[t-SNE] Computed conditional probabilities for sample 5000 / 40737\n",
      "[t-SNE] Computed conditional probabilities for sample 6000 / 40737\n",
      "[t-SNE] Computed conditional probabilities for sample 7000 / 40737\n",
      "[t-SNE] Computed conditional probabilities for sample 8000 / 40737\n",
      "[t-SNE] Computed conditional probabilities for sample 9000 / 40737\n",
      "[t-SNE] Computed conditional probabilities for sample 10000 / 40737\n",
      "[t-SNE] Computed conditional probabilities for sample 11000 / 40737\n",
      "[t-SNE] Computed conditional probabilities for sample 12000 / 40737\n",
      "[t-SNE] Computed conditional probabilities for sample 13000 / 40737\n",
      "[t-SNE] Computed conditional probabilities for sample 14000 / 40737\n",
      "[t-SNE] Computed conditional probabilities for sample 15000 / 40737\n",
      "[t-SNE] Computed conditional probabilities for sample 16000 / 40737\n",
      "[t-SNE] Computed conditional probabilities for sample 17000 / 40737\n",
      "[t-SNE] Computed conditional probabilities for sample 18000 / 40737\n",
      "[t-SNE] Computed conditional probabilities for sample 19000 / 40737\n",
      "[t-SNE] Computed conditional probabilities for sample 20000 / 40737\n",
      "[t-SNE] Computed conditional probabilities for sample 21000 / 40737\n",
      "[t-SNE] Computed conditional probabilities for sample 22000 / 40737\n",
      "[t-SNE] Computed conditional probabilities for sample 23000 / 40737\n",
      "[t-SNE] Computed conditional probabilities for sample 24000 / 40737\n",
      "[t-SNE] Computed conditional probabilities for sample 25000 / 40737\n",
      "[t-SNE] Computed conditional probabilities for sample 26000 / 40737\n",
      "[t-SNE] Computed conditional probabilities for sample 27000 / 40737\n",
      "[t-SNE] Computed conditional probabilities for sample 28000 / 40737\n",
      "[t-SNE] Computed conditional probabilities for sample 29000 / 40737\n",
      "[t-SNE] Computed conditional probabilities for sample 30000 / 40737\n",
      "[t-SNE] Computed conditional probabilities for sample 31000 / 40737\n",
      "[t-SNE] Computed conditional probabilities for sample 32000 / 40737\n",
      "[t-SNE] Computed conditional probabilities for sample 33000 / 40737\n",
      "[t-SNE] Computed conditional probabilities for sample 34000 / 40737\n",
      "[t-SNE] Computed conditional probabilities for sample 35000 / 40737\n",
      "[t-SNE] Computed conditional probabilities for sample 36000 / 40737\n",
      "[t-SNE] Computed conditional probabilities for sample 37000 / 40737\n",
      "[t-SNE] Computed conditional probabilities for sample 38000 / 40737\n",
      "[t-SNE] Computed conditional probabilities for sample 39000 / 40737\n",
      "[t-SNE] Computed conditional probabilities for sample 40000 / 40737\n",
      "[t-SNE] Computed conditional probabilities for sample 40737 / 40737\n",
      "[t-SNE] Mean sigma: 0.000000\n",
      "[t-SNE] KL divergence after 250 iterations with early exaggeration: 131.547897\n",
      "[t-SNE] KL divergence after 1500 iterations: 3.905414\n"
     ]
    },
    {
     "name": "stderr",
     "output_type": "stream",
     "text": [
      "/run/media/yunchen/lacie/projects/conda/lib/python3.9/site-packages/sklearn/manifold/_t_sne.py:800: FutureWarning: The default initialization in TSNE will change from 'random' to 'pca' in 1.2.\n",
      "  warnings.warn(\n"
     ]
    },
    {
     "name": "stdout",
     "output_type": "stream",
     "text": [
      "[t-SNE] Computing 16 nearest neighbors...\n",
      "[t-SNE] Indexed 40737 samples in 0.000s...\n",
      "[t-SNE] Computed neighbors for 40737 samples in 0.214s...\n",
      "[t-SNE] Computed conditional probabilities for sample 1000 / 40737\n",
      "[t-SNE] Computed conditional probabilities for sample 2000 / 40737\n",
      "[t-SNE] Computed conditional probabilities for sample 3000 / 40737\n",
      "[t-SNE] Computed conditional probabilities for sample 4000 / 40737\n",
      "[t-SNE] Computed conditional probabilities for sample 5000 / 40737\n",
      "[t-SNE] Computed conditional probabilities for sample 6000 / 40737\n",
      "[t-SNE] Computed conditional probabilities for sample 7000 / 40737\n",
      "[t-SNE] Computed conditional probabilities for sample 8000 / 40737\n",
      "[t-SNE] Computed conditional probabilities for sample 9000 / 40737\n",
      "[t-SNE] Computed conditional probabilities for sample 10000 / 40737\n",
      "[t-SNE] Computed conditional probabilities for sample 11000 / 40737\n",
      "[t-SNE] Computed conditional probabilities for sample 12000 / 40737\n",
      "[t-SNE] Computed conditional probabilities for sample 13000 / 40737\n",
      "[t-SNE] Computed conditional probabilities for sample 14000 / 40737\n",
      "[t-SNE] Computed conditional probabilities for sample 15000 / 40737\n",
      "[t-SNE] Computed conditional probabilities for sample 16000 / 40737\n",
      "[t-SNE] Computed conditional probabilities for sample 17000 / 40737\n",
      "[t-SNE] Computed conditional probabilities for sample 18000 / 40737\n",
      "[t-SNE] Computed conditional probabilities for sample 19000 / 40737\n",
      "[t-SNE] Computed conditional probabilities for sample 20000 / 40737\n",
      "[t-SNE] Computed conditional probabilities for sample 21000 / 40737\n",
      "[t-SNE] Computed conditional probabilities for sample 22000 / 40737\n",
      "[t-SNE] Computed conditional probabilities for sample 23000 / 40737\n",
      "[t-SNE] Computed conditional probabilities for sample 24000 / 40737\n",
      "[t-SNE] Computed conditional probabilities for sample 25000 / 40737\n",
      "[t-SNE] Computed conditional probabilities for sample 26000 / 40737\n",
      "[t-SNE] Computed conditional probabilities for sample 27000 / 40737\n",
      "[t-SNE] Computed conditional probabilities for sample 28000 / 40737\n",
      "[t-SNE] Computed conditional probabilities for sample 29000 / 40737\n",
      "[t-SNE] Computed conditional probabilities for sample 30000 / 40737\n",
      "[t-SNE] Computed conditional probabilities for sample 31000 / 40737\n",
      "[t-SNE] Computed conditional probabilities for sample 32000 / 40737\n",
      "[t-SNE] Computed conditional probabilities for sample 33000 / 40737\n",
      "[t-SNE] Computed conditional probabilities for sample 34000 / 40737\n",
      "[t-SNE] Computed conditional probabilities for sample 35000 / 40737\n",
      "[t-SNE] Computed conditional probabilities for sample 36000 / 40737\n",
      "[t-SNE] Computed conditional probabilities for sample 37000 / 40737\n",
      "[t-SNE] Computed conditional probabilities for sample 38000 / 40737\n",
      "[t-SNE] Computed conditional probabilities for sample 39000 / 40737\n",
      "[t-SNE] Computed conditional probabilities for sample 40000 / 40737\n",
      "[t-SNE] Computed conditional probabilities for sample 40737 / 40737\n",
      "[t-SNE] Mean sigma: 0.000000\n",
      "[t-SNE] KL divergence after 250 iterations with early exaggeration: 131.547882\n",
      "[t-SNE] KL divergence after 2000 iterations: 3.813056\n"
     ]
    },
    {
     "name": "stderr",
     "output_type": "stream",
     "text": [
      "/run/media/yunchen/lacie/projects/conda/lib/python3.9/site-packages/sklearn/manifold/_t_sne.py:800: FutureWarning: The default initialization in TSNE will change from 'random' to 'pca' in 1.2.\n",
      "  warnings.warn(\n"
     ]
    },
    {
     "name": "stdout",
     "output_type": "stream",
     "text": [
      "[t-SNE] Computing 31 nearest neighbors...\n",
      "[t-SNE] Indexed 40737 samples in 0.001s...\n",
      "[t-SNE] Computed neighbors for 40737 samples in 0.169s...\n",
      "[t-SNE] Computed conditional probabilities for sample 1000 / 40737\n",
      "[t-SNE] Computed conditional probabilities for sample 2000 / 40737\n",
      "[t-SNE] Computed conditional probabilities for sample 3000 / 40737\n",
      "[t-SNE] Computed conditional probabilities for sample 4000 / 40737\n",
      "[t-SNE] Computed conditional probabilities for sample 5000 / 40737\n",
      "[t-SNE] Computed conditional probabilities for sample 6000 / 40737\n",
      "[t-SNE] Computed conditional probabilities for sample 7000 / 40737\n",
      "[t-SNE] Computed conditional probabilities for sample 8000 / 40737\n",
      "[t-SNE] Computed conditional probabilities for sample 9000 / 40737\n",
      "[t-SNE] Computed conditional probabilities for sample 10000 / 40737\n",
      "[t-SNE] Computed conditional probabilities for sample 11000 / 40737\n",
      "[t-SNE] Computed conditional probabilities for sample 12000 / 40737\n",
      "[t-SNE] Computed conditional probabilities for sample 13000 / 40737\n",
      "[t-SNE] Computed conditional probabilities for sample 14000 / 40737\n",
      "[t-SNE] Computed conditional probabilities for sample 15000 / 40737\n",
      "[t-SNE] Computed conditional probabilities for sample 16000 / 40737\n",
      "[t-SNE] Computed conditional probabilities for sample 17000 / 40737\n",
      "[t-SNE] Computed conditional probabilities for sample 18000 / 40737\n",
      "[t-SNE] Computed conditional probabilities for sample 19000 / 40737\n",
      "[t-SNE] Computed conditional probabilities for sample 20000 / 40737\n",
      "[t-SNE] Computed conditional probabilities for sample 21000 / 40737\n",
      "[t-SNE] Computed conditional probabilities for sample 22000 / 40737\n",
      "[t-SNE] Computed conditional probabilities for sample 23000 / 40737\n",
      "[t-SNE] Computed conditional probabilities for sample 24000 / 40737\n",
      "[t-SNE] Computed conditional probabilities for sample 25000 / 40737\n",
      "[t-SNE] Computed conditional probabilities for sample 26000 / 40737\n",
      "[t-SNE] Computed conditional probabilities for sample 27000 / 40737\n",
      "[t-SNE] Computed conditional probabilities for sample 28000 / 40737\n",
      "[t-SNE] Computed conditional probabilities for sample 29000 / 40737\n",
      "[t-SNE] Computed conditional probabilities for sample 30000 / 40737\n",
      "[t-SNE] Computed conditional probabilities for sample 31000 / 40737\n",
      "[t-SNE] Computed conditional probabilities for sample 32000 / 40737\n",
      "[t-SNE] Computed conditional probabilities for sample 33000 / 40737\n",
      "[t-SNE] Computed conditional probabilities for sample 34000 / 40737\n",
      "[t-SNE] Computed conditional probabilities for sample 35000 / 40737\n",
      "[t-SNE] Computed conditional probabilities for sample 36000 / 40737\n",
      "[t-SNE] Computed conditional probabilities for sample 37000 / 40737\n",
      "[t-SNE] Computed conditional probabilities for sample 38000 / 40737\n",
      "[t-SNE] Computed conditional probabilities for sample 39000 / 40737\n",
      "[t-SNE] Computed conditional probabilities for sample 40000 / 40737\n",
      "[t-SNE] Computed conditional probabilities for sample 40737 / 40737\n",
      "[t-SNE] Mean sigma: 0.000000\n",
      "[t-SNE] KL divergence after 250 iterations with early exaggeration: 116.214516\n",
      "[t-SNE] KL divergence after 1500 iterations: 3.350190\n"
     ]
    },
    {
     "name": "stderr",
     "output_type": "stream",
     "text": [
      "/run/media/yunchen/lacie/projects/conda/lib/python3.9/site-packages/sklearn/manifold/_t_sne.py:800: FutureWarning: The default initialization in TSNE will change from 'random' to 'pca' in 1.2.\n",
      "  warnings.warn(\n"
     ]
    },
    {
     "name": "stdout",
     "output_type": "stream",
     "text": [
      "[t-SNE] Computing 31 nearest neighbors...\n",
      "[t-SNE] Indexed 40737 samples in 0.001s...\n",
      "[t-SNE] Computed neighbors for 40737 samples in 0.173s...\n",
      "[t-SNE] Computed conditional probabilities for sample 1000 / 40737\n",
      "[t-SNE] Computed conditional probabilities for sample 2000 / 40737\n",
      "[t-SNE] Computed conditional probabilities for sample 3000 / 40737\n",
      "[t-SNE] Computed conditional probabilities for sample 4000 / 40737\n",
      "[t-SNE] Computed conditional probabilities for sample 5000 / 40737\n",
      "[t-SNE] Computed conditional probabilities for sample 6000 / 40737\n",
      "[t-SNE] Computed conditional probabilities for sample 7000 / 40737\n",
      "[t-SNE] Computed conditional probabilities for sample 8000 / 40737\n",
      "[t-SNE] Computed conditional probabilities for sample 9000 / 40737\n",
      "[t-SNE] Computed conditional probabilities for sample 10000 / 40737\n",
      "[t-SNE] Computed conditional probabilities for sample 11000 / 40737\n",
      "[t-SNE] Computed conditional probabilities for sample 12000 / 40737\n",
      "[t-SNE] Computed conditional probabilities for sample 13000 / 40737\n",
      "[t-SNE] Computed conditional probabilities for sample 14000 / 40737\n",
      "[t-SNE] Computed conditional probabilities for sample 15000 / 40737\n",
      "[t-SNE] Computed conditional probabilities for sample 16000 / 40737\n",
      "[t-SNE] Computed conditional probabilities for sample 17000 / 40737\n",
      "[t-SNE] Computed conditional probabilities for sample 18000 / 40737\n",
      "[t-SNE] Computed conditional probabilities for sample 19000 / 40737\n",
      "[t-SNE] Computed conditional probabilities for sample 20000 / 40737\n",
      "[t-SNE] Computed conditional probabilities for sample 21000 / 40737\n",
      "[t-SNE] Computed conditional probabilities for sample 22000 / 40737\n",
      "[t-SNE] Computed conditional probabilities for sample 23000 / 40737\n",
      "[t-SNE] Computed conditional probabilities for sample 24000 / 40737\n",
      "[t-SNE] Computed conditional probabilities for sample 25000 / 40737\n",
      "[t-SNE] Computed conditional probabilities for sample 26000 / 40737\n",
      "[t-SNE] Computed conditional probabilities for sample 27000 / 40737\n",
      "[t-SNE] Computed conditional probabilities for sample 28000 / 40737\n",
      "[t-SNE] Computed conditional probabilities for sample 29000 / 40737\n",
      "[t-SNE] Computed conditional probabilities for sample 30000 / 40737\n",
      "[t-SNE] Computed conditional probabilities for sample 31000 / 40737\n",
      "[t-SNE] Computed conditional probabilities for sample 32000 / 40737\n",
      "[t-SNE] Computed conditional probabilities for sample 33000 / 40737\n",
      "[t-SNE] Computed conditional probabilities for sample 34000 / 40737\n",
      "[t-SNE] Computed conditional probabilities for sample 35000 / 40737\n",
      "[t-SNE] Computed conditional probabilities for sample 36000 / 40737\n",
      "[t-SNE] Computed conditional probabilities for sample 37000 / 40737\n",
      "[t-SNE] Computed conditional probabilities for sample 38000 / 40737\n",
      "[t-SNE] Computed conditional probabilities for sample 39000 / 40737\n",
      "[t-SNE] Computed conditional probabilities for sample 40000 / 40737\n",
      "[t-SNE] Computed conditional probabilities for sample 40737 / 40737\n",
      "[t-SNE] Mean sigma: 0.000000\n",
      "[t-SNE] KL divergence after 250 iterations with early exaggeration: 116.214493\n",
      "[t-SNE] KL divergence after 2000 iterations: 3.280381\n"
     ]
    },
    {
     "name": "stderr",
     "output_type": "stream",
     "text": [
      "/tmp/ipykernel_6782/1457712975.py:13: RuntimeWarning: More than 20 figures have been opened. Figures created through the pyplot interface (`matplotlib.pyplot.figure`) are retained until explicitly closed and may consume too much memory. (To control this warning, see the rcParam `figure.max_open_warning`).\n",
      "  plt.figure()\n",
      "/run/media/yunchen/lacie/projects/conda/lib/python3.9/site-packages/sklearn/manifold/_t_sne.py:800: FutureWarning: The default initialization in TSNE will change from 'random' to 'pca' in 1.2.\n",
      "  warnings.warn(\n"
     ]
    },
    {
     "name": "stdout",
     "output_type": "stream",
     "text": [
      "[t-SNE] Computing 46 nearest neighbors...\n",
      "[t-SNE] Indexed 40737 samples in 0.001s...\n",
      "[t-SNE] Computed neighbors for 40737 samples in 0.213s...\n",
      "[t-SNE] Computed conditional probabilities for sample 1000 / 40737\n",
      "[t-SNE] Computed conditional probabilities for sample 2000 / 40737\n",
      "[t-SNE] Computed conditional probabilities for sample 3000 / 40737\n",
      "[t-SNE] Computed conditional probabilities for sample 4000 / 40737\n",
      "[t-SNE] Computed conditional probabilities for sample 5000 / 40737\n",
      "[t-SNE] Computed conditional probabilities for sample 6000 / 40737\n",
      "[t-SNE] Computed conditional probabilities for sample 7000 / 40737\n",
      "[t-SNE] Computed conditional probabilities for sample 8000 / 40737\n",
      "[t-SNE] Computed conditional probabilities for sample 9000 / 40737\n",
      "[t-SNE] Computed conditional probabilities for sample 10000 / 40737\n",
      "[t-SNE] Computed conditional probabilities for sample 11000 / 40737\n",
      "[t-SNE] Computed conditional probabilities for sample 12000 / 40737\n",
      "[t-SNE] Computed conditional probabilities for sample 13000 / 40737\n",
      "[t-SNE] Computed conditional probabilities for sample 14000 / 40737\n",
      "[t-SNE] Computed conditional probabilities for sample 15000 / 40737\n",
      "[t-SNE] Computed conditional probabilities for sample 16000 / 40737\n",
      "[t-SNE] Computed conditional probabilities for sample 17000 / 40737\n",
      "[t-SNE] Computed conditional probabilities for sample 18000 / 40737\n",
      "[t-SNE] Computed conditional probabilities for sample 19000 / 40737\n",
      "[t-SNE] Computed conditional probabilities for sample 20000 / 40737\n",
      "[t-SNE] Computed conditional probabilities for sample 21000 / 40737\n",
      "[t-SNE] Computed conditional probabilities for sample 22000 / 40737\n",
      "[t-SNE] Computed conditional probabilities for sample 23000 / 40737\n",
      "[t-SNE] Computed conditional probabilities for sample 24000 / 40737\n",
      "[t-SNE] Computed conditional probabilities for sample 25000 / 40737\n",
      "[t-SNE] Computed conditional probabilities for sample 26000 / 40737\n",
      "[t-SNE] Computed conditional probabilities for sample 27000 / 40737\n",
      "[t-SNE] Computed conditional probabilities for sample 28000 / 40737\n",
      "[t-SNE] Computed conditional probabilities for sample 29000 / 40737\n",
      "[t-SNE] Computed conditional probabilities for sample 30000 / 40737\n",
      "[t-SNE] Computed conditional probabilities for sample 31000 / 40737\n",
      "[t-SNE] Computed conditional probabilities for sample 32000 / 40737\n",
      "[t-SNE] Computed conditional probabilities for sample 33000 / 40737\n",
      "[t-SNE] Computed conditional probabilities for sample 34000 / 40737\n",
      "[t-SNE] Computed conditional probabilities for sample 35000 / 40737\n",
      "[t-SNE] Computed conditional probabilities for sample 36000 / 40737\n",
      "[t-SNE] Computed conditional probabilities for sample 37000 / 40737\n",
      "[t-SNE] Computed conditional probabilities for sample 38000 / 40737\n",
      "[t-SNE] Computed conditional probabilities for sample 39000 / 40737\n",
      "[t-SNE] Computed conditional probabilities for sample 40000 / 40737\n",
      "[t-SNE] Computed conditional probabilities for sample 40737 / 40737\n",
      "[t-SNE] Mean sigma: 0.000000\n",
      "[t-SNE] KL divergence after 250 iterations with early exaggeration: 113.472130\n",
      "[t-SNE] KL divergence after 1500 iterations: 3.005291\n"
     ]
    },
    {
     "name": "stderr",
     "output_type": "stream",
     "text": [
      "/run/media/yunchen/lacie/projects/conda/lib/python3.9/site-packages/sklearn/manifold/_t_sne.py:800: FutureWarning: The default initialization in TSNE will change from 'random' to 'pca' in 1.2.\n",
      "  warnings.warn(\n"
     ]
    },
    {
     "name": "stdout",
     "output_type": "stream",
     "text": [
      "[t-SNE] Computing 46 nearest neighbors...\n",
      "[t-SNE] Indexed 40737 samples in 0.001s...\n",
      "[t-SNE] Computed neighbors for 40737 samples in 0.180s...\n",
      "[t-SNE] Computed conditional probabilities for sample 1000 / 40737\n",
      "[t-SNE] Computed conditional probabilities for sample 2000 / 40737\n",
      "[t-SNE] Computed conditional probabilities for sample 3000 / 40737\n",
      "[t-SNE] Computed conditional probabilities for sample 4000 / 40737\n",
      "[t-SNE] Computed conditional probabilities for sample 5000 / 40737\n",
      "[t-SNE] Computed conditional probabilities for sample 6000 / 40737\n",
      "[t-SNE] Computed conditional probabilities for sample 7000 / 40737\n",
      "[t-SNE] Computed conditional probabilities for sample 8000 / 40737\n",
      "[t-SNE] Computed conditional probabilities for sample 9000 / 40737\n",
      "[t-SNE] Computed conditional probabilities for sample 10000 / 40737\n",
      "[t-SNE] Computed conditional probabilities for sample 11000 / 40737\n",
      "[t-SNE] Computed conditional probabilities for sample 12000 / 40737\n",
      "[t-SNE] Computed conditional probabilities for sample 13000 / 40737\n",
      "[t-SNE] Computed conditional probabilities for sample 14000 / 40737\n",
      "[t-SNE] Computed conditional probabilities for sample 15000 / 40737\n",
      "[t-SNE] Computed conditional probabilities for sample 16000 / 40737\n",
      "[t-SNE] Computed conditional probabilities for sample 17000 / 40737\n",
      "[t-SNE] Computed conditional probabilities for sample 18000 / 40737\n",
      "[t-SNE] Computed conditional probabilities for sample 19000 / 40737\n",
      "[t-SNE] Computed conditional probabilities for sample 20000 / 40737\n",
      "[t-SNE] Computed conditional probabilities for sample 21000 / 40737\n",
      "[t-SNE] Computed conditional probabilities for sample 22000 / 40737\n",
      "[t-SNE] Computed conditional probabilities for sample 23000 / 40737\n",
      "[t-SNE] Computed conditional probabilities for sample 24000 / 40737\n",
      "[t-SNE] Computed conditional probabilities for sample 25000 / 40737\n",
      "[t-SNE] Computed conditional probabilities for sample 26000 / 40737\n",
      "[t-SNE] Computed conditional probabilities for sample 27000 / 40737\n",
      "[t-SNE] Computed conditional probabilities for sample 28000 / 40737\n",
      "[t-SNE] Computed conditional probabilities for sample 29000 / 40737\n",
      "[t-SNE] Computed conditional probabilities for sample 30000 / 40737\n",
      "[t-SNE] Computed conditional probabilities for sample 31000 / 40737\n",
      "[t-SNE] Computed conditional probabilities for sample 32000 / 40737\n",
      "[t-SNE] Computed conditional probabilities for sample 33000 / 40737\n",
      "[t-SNE] Computed conditional probabilities for sample 34000 / 40737\n",
      "[t-SNE] Computed conditional probabilities for sample 35000 / 40737\n",
      "[t-SNE] Computed conditional probabilities for sample 36000 / 40737\n",
      "[t-SNE] Computed conditional probabilities for sample 37000 / 40737\n",
      "[t-SNE] Computed conditional probabilities for sample 38000 / 40737\n",
      "[t-SNE] Computed conditional probabilities for sample 39000 / 40737\n",
      "[t-SNE] Computed conditional probabilities for sample 40000 / 40737\n",
      "[t-SNE] Computed conditional probabilities for sample 40737 / 40737\n",
      "[t-SNE] Mean sigma: 0.000000\n",
      "[t-SNE] KL divergence after 250 iterations with early exaggeration: 113.472122\n",
      "[t-SNE] KL divergence after 2000 iterations: 2.951742\n"
     ]
    },
    {
     "name": "stderr",
     "output_type": "stream",
     "text": [
      "/run/media/yunchen/lacie/projects/conda/lib/python3.9/site-packages/sklearn/manifold/_t_sne.py:800: FutureWarning: The default initialization in TSNE will change from 'random' to 'pca' in 1.2.\n",
      "  warnings.warn(\n"
     ]
    },
    {
     "name": "stdout",
     "output_type": "stream",
     "text": [
      "[t-SNE] Computing 61 nearest neighbors...\n",
      "[t-SNE] Indexed 40737 samples in 0.001s...\n",
      "[t-SNE] Computed neighbors for 40737 samples in 0.183s...\n",
      "[t-SNE] Computed conditional probabilities for sample 1000 / 40737\n",
      "[t-SNE] Computed conditional probabilities for sample 2000 / 40737\n",
      "[t-SNE] Computed conditional probabilities for sample 3000 / 40737\n",
      "[t-SNE] Computed conditional probabilities for sample 4000 / 40737\n",
      "[t-SNE] Computed conditional probabilities for sample 5000 / 40737\n",
      "[t-SNE] Computed conditional probabilities for sample 6000 / 40737\n",
      "[t-SNE] Computed conditional probabilities for sample 7000 / 40737\n",
      "[t-SNE] Computed conditional probabilities for sample 8000 / 40737\n",
      "[t-SNE] Computed conditional probabilities for sample 9000 / 40737\n",
      "[t-SNE] Computed conditional probabilities for sample 10000 / 40737\n",
      "[t-SNE] Computed conditional probabilities for sample 11000 / 40737\n",
      "[t-SNE] Computed conditional probabilities for sample 12000 / 40737\n",
      "[t-SNE] Computed conditional probabilities for sample 13000 / 40737\n",
      "[t-SNE] Computed conditional probabilities for sample 14000 / 40737\n",
      "[t-SNE] Computed conditional probabilities for sample 15000 / 40737\n",
      "[t-SNE] Computed conditional probabilities for sample 16000 / 40737\n",
      "[t-SNE] Computed conditional probabilities for sample 17000 / 40737\n",
      "[t-SNE] Computed conditional probabilities for sample 18000 / 40737\n",
      "[t-SNE] Computed conditional probabilities for sample 19000 / 40737\n",
      "[t-SNE] Computed conditional probabilities for sample 20000 / 40737\n",
      "[t-SNE] Computed conditional probabilities for sample 21000 / 40737\n",
      "[t-SNE] Computed conditional probabilities for sample 22000 / 40737\n",
      "[t-SNE] Computed conditional probabilities for sample 23000 / 40737\n",
      "[t-SNE] Computed conditional probabilities for sample 24000 / 40737\n",
      "[t-SNE] Computed conditional probabilities for sample 25000 / 40737\n",
      "[t-SNE] Computed conditional probabilities for sample 26000 / 40737\n",
      "[t-SNE] Computed conditional probabilities for sample 27000 / 40737\n",
      "[t-SNE] Computed conditional probabilities for sample 28000 / 40737\n",
      "[t-SNE] Computed conditional probabilities for sample 29000 / 40737\n",
      "[t-SNE] Computed conditional probabilities for sample 30000 / 40737\n",
      "[t-SNE] Computed conditional probabilities for sample 31000 / 40737\n",
      "[t-SNE] Computed conditional probabilities for sample 32000 / 40737\n",
      "[t-SNE] Computed conditional probabilities for sample 33000 / 40737\n",
      "[t-SNE] Computed conditional probabilities for sample 34000 / 40737\n",
      "[t-SNE] Computed conditional probabilities for sample 35000 / 40737\n",
      "[t-SNE] Computed conditional probabilities for sample 36000 / 40737\n",
      "[t-SNE] Computed conditional probabilities for sample 37000 / 40737\n",
      "[t-SNE] Computed conditional probabilities for sample 38000 / 40737\n",
      "[t-SNE] Computed conditional probabilities for sample 39000 / 40737\n",
      "[t-SNE] Computed conditional probabilities for sample 40000 / 40737\n",
      "[t-SNE] Computed conditional probabilities for sample 40737 / 40737\n",
      "[t-SNE] Mean sigma: 0.000000\n",
      "[t-SNE] KL divergence after 250 iterations with early exaggeration: 111.927582\n",
      "[t-SNE] KL divergence after 1500 iterations: 2.837721\n"
     ]
    },
    {
     "name": "stderr",
     "output_type": "stream",
     "text": [
      "/run/media/yunchen/lacie/projects/conda/lib/python3.9/site-packages/sklearn/manifold/_t_sne.py:800: FutureWarning: The default initialization in TSNE will change from 'random' to 'pca' in 1.2.\n",
      "  warnings.warn(\n"
     ]
    },
    {
     "name": "stdout",
     "output_type": "stream",
     "text": [
      "[t-SNE] Computing 61 nearest neighbors...\n",
      "[t-SNE] Indexed 40737 samples in 0.000s...\n",
      "[t-SNE] Computed neighbors for 40737 samples in 0.184s...\n",
      "[t-SNE] Computed conditional probabilities for sample 1000 / 40737\n",
      "[t-SNE] Computed conditional probabilities for sample 2000 / 40737\n",
      "[t-SNE] Computed conditional probabilities for sample 3000 / 40737\n",
      "[t-SNE] Computed conditional probabilities for sample 4000 / 40737\n",
      "[t-SNE] Computed conditional probabilities for sample 5000 / 40737\n",
      "[t-SNE] Computed conditional probabilities for sample 6000 / 40737\n",
      "[t-SNE] Computed conditional probabilities for sample 7000 / 40737\n",
      "[t-SNE] Computed conditional probabilities for sample 8000 / 40737\n",
      "[t-SNE] Computed conditional probabilities for sample 9000 / 40737\n",
      "[t-SNE] Computed conditional probabilities for sample 10000 / 40737\n",
      "[t-SNE] Computed conditional probabilities for sample 11000 / 40737\n",
      "[t-SNE] Computed conditional probabilities for sample 12000 / 40737\n",
      "[t-SNE] Computed conditional probabilities for sample 13000 / 40737\n",
      "[t-SNE] Computed conditional probabilities for sample 14000 / 40737\n",
      "[t-SNE] Computed conditional probabilities for sample 15000 / 40737\n",
      "[t-SNE] Computed conditional probabilities for sample 16000 / 40737\n",
      "[t-SNE] Computed conditional probabilities for sample 17000 / 40737\n",
      "[t-SNE] Computed conditional probabilities for sample 18000 / 40737\n",
      "[t-SNE] Computed conditional probabilities for sample 19000 / 40737\n",
      "[t-SNE] Computed conditional probabilities for sample 20000 / 40737\n",
      "[t-SNE] Computed conditional probabilities for sample 21000 / 40737\n",
      "[t-SNE] Computed conditional probabilities for sample 22000 / 40737\n",
      "[t-SNE] Computed conditional probabilities for sample 23000 / 40737\n",
      "[t-SNE] Computed conditional probabilities for sample 24000 / 40737\n",
      "[t-SNE] Computed conditional probabilities for sample 25000 / 40737\n",
      "[t-SNE] Computed conditional probabilities for sample 26000 / 40737\n",
      "[t-SNE] Computed conditional probabilities for sample 27000 / 40737\n",
      "[t-SNE] Computed conditional probabilities for sample 28000 / 40737\n",
      "[t-SNE] Computed conditional probabilities for sample 29000 / 40737\n",
      "[t-SNE] Computed conditional probabilities for sample 30000 / 40737\n",
      "[t-SNE] Computed conditional probabilities for sample 31000 / 40737\n",
      "[t-SNE] Computed conditional probabilities for sample 32000 / 40737\n",
      "[t-SNE] Computed conditional probabilities for sample 33000 / 40737\n",
      "[t-SNE] Computed conditional probabilities for sample 34000 / 40737\n",
      "[t-SNE] Computed conditional probabilities for sample 35000 / 40737\n",
      "[t-SNE] Computed conditional probabilities for sample 36000 / 40737\n",
      "[t-SNE] Computed conditional probabilities for sample 37000 / 40737\n",
      "[t-SNE] Computed conditional probabilities for sample 38000 / 40737\n",
      "[t-SNE] Computed conditional probabilities for sample 39000 / 40737\n",
      "[t-SNE] Computed conditional probabilities for sample 40000 / 40737\n",
      "[t-SNE] Computed conditional probabilities for sample 40737 / 40737\n",
      "[t-SNE] Mean sigma: 0.000000\n",
      "[t-SNE] KL divergence after 250 iterations with early exaggeration: 111.927597\n",
      "[t-SNE] KL divergence after 2000 iterations: 2.793364\n"
     ]
    },
    {
     "data": {
      "text/plain": "<Figure size 640x480 with 0 Axes>"
     },
     "metadata": {},
     "output_type": "display_data"
    },
    {
     "data": {
      "text/plain": "<Figure size 640x480 with 0 Axes>"
     },
     "metadata": {},
     "output_type": "display_data"
    },
    {
     "data": {
      "text/plain": "<Figure size 640x480 with 0 Axes>"
     },
     "metadata": {},
     "output_type": "display_data"
    },
    {
     "data": {
      "text/plain": "<Figure size 640x480 with 0 Axes>"
     },
     "metadata": {},
     "output_type": "display_data"
    },
    {
     "data": {
      "text/plain": "<Figure size 640x480 with 0 Axes>"
     },
     "metadata": {},
     "output_type": "display_data"
    },
    {
     "data": {
      "text/plain": "<Figure size 640x480 with 0 Axes>"
     },
     "metadata": {},
     "output_type": "display_data"
    },
    {
     "data": {
      "text/plain": "<Figure size 640x480 with 0 Axes>"
     },
     "metadata": {},
     "output_type": "display_data"
    },
    {
     "data": {
      "text/plain": "<Figure size 640x480 with 0 Axes>"
     },
     "metadata": {},
     "output_type": "display_data"
    },
    {
     "data": {
      "text/plain": "<Figure size 640x480 with 0 Axes>"
     },
     "metadata": {},
     "output_type": "display_data"
    },
    {
     "data": {
      "text/plain": "<Figure size 640x480 with 0 Axes>"
     },
     "metadata": {},
     "output_type": "display_data"
    },
    {
     "data": {
      "text/plain": "<Figure size 640x480 with 0 Axes>"
     },
     "metadata": {},
     "output_type": "display_data"
    },
    {
     "data": {
      "text/plain": "<Figure size 640x480 with 0 Axes>"
     },
     "metadata": {},
     "output_type": "display_data"
    },
    {
     "data": {
      "text/plain": "<Figure size 640x480 with 0 Axes>"
     },
     "metadata": {},
     "output_type": "display_data"
    },
    {
     "data": {
      "text/plain": "<Figure size 640x480 with 0 Axes>"
     },
     "metadata": {},
     "output_type": "display_data"
    },
    {
     "data": {
      "text/plain": "<Figure size 640x480 with 0 Axes>"
     },
     "metadata": {},
     "output_type": "display_data"
    },
    {
     "data": {
      "text/plain": "<Figure size 640x480 with 0 Axes>"
     },
     "metadata": {},
     "output_type": "display_data"
    },
    {
     "data": {
      "text/plain": "<Figure size 640x480 with 0 Axes>"
     },
     "metadata": {},
     "output_type": "display_data"
    },
    {
     "data": {
      "text/plain": "<Figure size 640x480 with 0 Axes>"
     },
     "metadata": {},
     "output_type": "display_data"
    },
    {
     "data": {
      "text/plain": "<Figure size 640x480 with 0 Axes>"
     },
     "metadata": {},
     "output_type": "display_data"
    },
    {
     "data": {
      "text/plain": "<Figure size 640x480 with 0 Axes>"
     },
     "metadata": {},
     "output_type": "display_data"
    },
    {
     "data": {
      "text/plain": "<Figure size 640x480 with 0 Axes>"
     },
     "metadata": {},
     "output_type": "display_data"
    },
    {
     "data": {
      "text/plain": "<Figure size 640x480 with 0 Axes>"
     },
     "metadata": {},
     "output_type": "display_data"
    },
    {
     "data": {
      "text/plain": "<Figure size 640x480 with 0 Axes>"
     },
     "metadata": {},
     "output_type": "display_data"
    },
    {
     "data": {
      "text/plain": "<Figure size 640x480 with 0 Axes>"
     },
     "metadata": {},
     "output_type": "display_data"
    },
    {
     "data": {
      "text/plain": "<Figure size 640x480 with 1 Axes>",
      "image/png": "[encoded data removed]"
     },
     "metadata": {},
     "output_type": "display_data"
    }
   ],
   "source": [
    "angles = [0.1,0.2,0.3]\n",
    "perplexities = [5,10,15,20]\n",
    "n_iters = [1500,2000]\n",
    "for angle in angles:\n",
    "    for p in perplexities:\n",
    "        for n_iter in n_iters:\n",
    "            tsne_embedded = TSNE(n_components=2,learning_rate='auto',angle=angle,n_iter=n_iter, perplexity=p,random_state=RANDOM_STATE,verbose=1,n_jobs=-1).fit_transform(tsne_embedding_df.copy())\n",
    "\n",
    "            df = pd.DataFrame()\n",
    "            df[\"comp-1\"] = tsne_embedded[:,0]\n",
    "            df[\"comp-2\"] = tsne_embedded[:,1]\n",
    "            plt.clf()\n",
    "            plt.figure()\n",
    "            sns.scatterplot(x=\"comp-1\", y=\"comp-2\", data=df).set(title=f\"T-SNE projection with angle={angle}, perplexity={p}, n_iter = {n_iter}\")\n",
    "            plt.savefig(f\"./outputs/visualized_embeddings/visual_embedding_with_angle={angle}_preplexity={p}_iteration={n_iter}.pdf\")"
   ],
   "metadata": {
    "collapsed": false
   }
  },
  {
   "cell_type": "code",
   "execution_count": 16,
   "outputs": [],
   "source": [
    "# df = pd.DataFrame()\n",
    "# df[\"comp-1\"] = tsne_embedded[:,0]\n",
    "# df[\"comp-2\"] = tsne_embedded[:,1]\n",
    "#\n",
    "# sns.scatterplot(x=\"comp-1\", y=\"comp-2\", data=df).set(title=\"T-SNE projection\")\n",
    "\n",
    "# def label_point(x, y, val, ax):\n",
    "#     a = pd.concat({'x': x, 'y': y, 'val': val}, axis=1)\n",
    "#     for i, point in a.iterrows():\n",
    "#         ax.text(point['x']+.02, point['y'], str(point['val']))\n",
    "#\n",
    "# label_point(df[\"comp-1\"], df[\"comp-2\"], df[\"y\"], plt.gca())"
   ],
   "metadata": {
    "collapsed": false
   }
  },
  {
   "cell_type": "markdown",
   "source": [],
   "metadata": {
    "collapsed": false
   }
  },
  {
   "cell_type": "markdown",
   "source": [],
   "metadata": {
    "collapsed": false
   }
  }
 ],
 "metadata": {
  "kernelspec": {
   "display_name": "Python 3",
   "language": "python",
   "name": "python3"
  },
  "language_info": {
   "codemirror_mode": {
    "name": "ipython",
    "version": 2
   },
   "file_extension": ".py",
   "mimetype": "text/x-python",
   "name": "python",
   "nbconvert_exporter": "python",
   "pygments_lexer": "ipython2",
   "version": "2.7.6"
  }
 },
 "nbformat": 4,
 "nbformat_minor": 0
}
