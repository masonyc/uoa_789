{
 "cells": [
  {
   "cell_type": "code",
   "execution_count": 5,
   "metadata": {
    "collapsed": true,
    "pycharm": {
     "name": "#%%\n"
    }
   },
   "outputs": [],
   "source": [
    "import torch\n",
    "import torch.nn as nn\n",
    "import torch.nn.functional as F\n",
    "from sklearn.linear_model import LogisticRegression\n",
    "from torch_cluster import random_walk\n",
    "\n",
    "import torch_geometric.transforms as T\n",
    "from torch_geometric.datasets import Planetoid\n",
    "from torch_geometric.loader import NeighborSampler as RawNeighborSampler\n",
    "from torch_geometric.nn import SAGEConv"
   ]
  },
  {
   "cell_type": "code",
   "execution_count": 6,
   "outputs": [
    {
     "name": "stdout",
     "output_type": "stream",
     "text": [
      "tensor([[0., 0., 0.,  ..., 0., 0., 0.],\n",
      "        [0., 0., 0.,  ..., 0., 0., 0.],\n",
      "        [0., 0., 0.,  ..., 0., 0., 0.],\n",
      "        ...,\n",
      "        [0., 0., 0.,  ..., 0., 0., 0.],\n",
      "        [0., 0., 0.,  ..., 0., 0., 0.],\n",
      "        [0., 0., 0.,  ..., 0., 0., 0.]])\n",
      "tensor([[   0,    0,    0,  ..., 2707, 2707, 2707],\n",
      "        [ 633, 1862, 2582,  ...,  598, 1473, 2706]])\n",
      "None\n"
     ]
    }
   ],
   "source": [
    "EPS = 1e-15\n",
    "\n",
    "dataset = 'Cora'\n",
    "dataset = Planetoid(\"./Datasets\", dataset, transform=T.NormalizeFeatures())\n",
    "data = dataset[0]\n",
    "print(data.x)\n",
    "print(data.edge_index)\n",
    "print(data.edge_weight)"
   ],
   "metadata": {
    "collapsed": false,
    "pycharm": {
     "name": "#%%\n"
    }
   }
  },
  {
   "cell_type": "code",
   "execution_count": 7,
   "outputs": [],
   "source": [
    "class NeighborSampler(RawNeighborSampler):\n",
    "    def sample(self, batch):\n",
    "        batch = torch.tensor(batch)\n",
    "        row, col, _ = self.adj_t.coo()\n",
    "        #print(self.adj_t)\n",
    "        # For each node in `batch`, we sample a direct neighbor (as positive\n",
    "        # example) and a random node (as negative example):\n",
    "        pos_batch = random_walk(row, col, batch, walk_length=1,\n",
    "                                coalesced=False)[:, 1]\n",
    "\n",
    "        neg_batch = torch.randint(0, self.adj_t.size(1), (batch.numel(), ),\n",
    "                                  dtype=torch.long)\n",
    "\n",
    "        batch = torch.cat([batch, pos_batch, neg_batch], dim=0)\n",
    "        return super().sample(batch)\n",
    "\n",
    "\n",
    "train_loader = NeighborSampler(data.edge_index, sizes=[10, 10], batch_size=256,\n",
    "                               shuffle=True, num_nodes=data.num_nodes)"
   ],
   "metadata": {
    "collapsed": false,
    "pycharm": {
     "name": "#%%\n"
    }
   }
  },
  {
   "cell_type": "code",
   "execution_count": 8,
   "outputs": [],
   "source": [
    "class SAGE(nn.Module):\n",
    "    def __init__(self, in_channels, hidden_channels, num_layers):\n",
    "        super().__init__()\n",
    "        self.num_layers = num_layers\n",
    "        self.convs = nn.ModuleList()\n",
    "        for i in range(num_layers):\n",
    "            in_channels = in_channels if i == 0 else hidden_channels\n",
    "            self.convs.append(SAGEConv(in_channels, hidden_channels))\n",
    "\n",
    "    def forward(self, x, adjs):\n",
    "        for i, (edge_index, _, size) in enumerate(adjs):\n",
    "            x_target = x[:size[1]]  # Target nodes are always placed first.\n",
    "            x = self.convs[i]((x, x_target), edge_index)\n",
    "            if i != self.num_layers - 1:\n",
    "                x = x.relu()\n",
    "                x = F.dropout(x, p=0.5, training=self.training)\n",
    "        return x\n",
    "\n",
    "    def full_forward(self, x, edge_index):\n",
    "        for i, conv in enumerate(self.convs):\n",
    "            x = conv(x, edge_index)\n",
    "            if i != self.num_layers - 1:\n",
    "                x = x.relu()\n",
    "                x = F.dropout(x, p=0.5, training=self.training)\n",
    "        return x\n",
    "\n",
    "\n",
    "device = torch.device('cuda' if torch.cuda.is_available() else 'cpu')\n",
    "model = SAGE(data.num_node_features, hidden_channels=64, num_layers=2)\n",
    "model = model.to(device)\n",
    "optimizer = torch.optim.Adam(model.parameters(), lr=0.01)\n",
    "x, edge_index = data.x.to(device), data.edge_index.to(device)"
   ],
   "metadata": {
    "collapsed": false,
    "pycharm": {
     "name": "#%%\n"
    }
   }
  },
  {
   "cell_type": "code",
   "execution_count": 9,
   "outputs": [
    {
     "name": "stdout",
     "output_type": "stream",
     "text": [
      "Epoch: 001, Loss: 1.3873, Val: 0.3440, Test: 0.3460\n",
      "Epoch: 002, Loss: 1.3197, Val: 0.5280, Test: 0.4860\n",
      "Epoch: 003, Loss: 1.2018, Val: 0.6200, Test: 0.6120\n",
      "Epoch: 004, Loss: 1.0985, Val: 0.7000, Test: 0.6890\n",
      "Epoch: 005, Loss: 1.0495, Val: 0.7020, Test: 0.6920\n",
      "Epoch: 006, Loss: 1.0284, Val: 0.6960, Test: 0.7170\n",
      "Epoch: 007, Loss: 1.0251, Val: 0.7000, Test: 0.7110\n",
      "Epoch: 008, Loss: 1.0022, Val: 0.6800, Test: 0.7030\n",
      "Epoch: 009, Loss: 0.9900, Val: 0.7100, Test: 0.7160\n",
      "Epoch: 010, Loss: 0.9836, Val: 0.7200, Test: 0.7330\n",
      "Epoch: 011, Loss: 0.9760, Val: 0.7200, Test: 0.7380\n",
      "Epoch: 012, Loss: 0.9748, Val: 0.7080, Test: 0.7350\n",
      "Epoch: 013, Loss: 0.9669, Val: 0.7180, Test: 0.7370\n",
      "Epoch: 014, Loss: 0.9716, Val: 0.7300, Test: 0.7290\n",
      "Epoch: 015, Loss: 0.9533, Val: 0.7260, Test: 0.7270\n",
      "Epoch: 016, Loss: 0.9444, Val: 0.7500, Test: 0.7400\n",
      "Epoch: 017, Loss: 0.9596, Val: 0.7600, Test: 0.7440\n",
      "Epoch: 018, Loss: 0.9323, Val: 0.7620, Test: 0.7530\n",
      "Epoch: 019, Loss: 0.9448, Val: 0.7280, Test: 0.7450\n",
      "Epoch: 020, Loss: 0.9740, Val: 0.7400, Test: 0.7440\n",
      "Epoch: 021, Loss: 0.9365, Val: 0.7500, Test: 0.7490\n",
      "Epoch: 022, Loss: 0.9319, Val: 0.7600, Test: 0.7530\n",
      "Epoch: 023, Loss: 0.9575, Val: 0.7600, Test: 0.7450\n",
      "Epoch: 024, Loss: 0.9417, Val: 0.7520, Test: 0.7550\n",
      "Epoch: 025, Loss: 0.9311, Val: 0.7420, Test: 0.7510\n",
      "Epoch: 026, Loss: 0.9414, Val: 0.7380, Test: 0.7370\n",
      "Epoch: 027, Loss: 0.9238, Val: 0.7440, Test: 0.7360\n",
      "Epoch: 028, Loss: 0.9229, Val: 0.7520, Test: 0.7450\n",
      "Epoch: 029, Loss: 0.9320, Val: 0.7540, Test: 0.7540\n",
      "Epoch: 030, Loss: 0.9193, Val: 0.7560, Test: 0.7530\n",
      "Epoch: 031, Loss: 0.9156, Val: 0.7540, Test: 0.7520\n",
      "Epoch: 032, Loss: 0.9099, Val: 0.7560, Test: 0.7480\n",
      "Epoch: 033, Loss: 0.9185, Val: 0.7540, Test: 0.7370\n",
      "Epoch: 034, Loss: 0.9349, Val: 0.7440, Test: 0.7410\n",
      "Epoch: 035, Loss: 0.9350, Val: 0.7500, Test: 0.7410\n",
      "Epoch: 036, Loss: 0.9200, Val: 0.7500, Test: 0.7430\n",
      "Epoch: 037, Loss: 0.9024, Val: 0.7520, Test: 0.7400\n",
      "Epoch: 038, Loss: 0.9142, Val: 0.7500, Test: 0.7380\n",
      "Epoch: 039, Loss: 0.9064, Val: 0.7520, Test: 0.7360\n",
      "Epoch: 040, Loss: 0.9110, Val: 0.7460, Test: 0.7320\n",
      "Epoch: 041, Loss: 0.8904, Val: 0.7440, Test: 0.7280\n",
      "Epoch: 042, Loss: 0.9060, Val: 0.7360, Test: 0.7280\n",
      "Epoch: 043, Loss: 0.9124, Val: 0.7240, Test: 0.7170\n",
      "Epoch: 044, Loss: 0.9199, Val: 0.7040, Test: 0.7080\n",
      "Epoch: 045, Loss: 0.8873, Val: 0.7020, Test: 0.6970\n",
      "Epoch: 046, Loss: 0.9113, Val: 0.6800, Test: 0.6950\n",
      "Epoch: 047, Loss: 0.9319, Val: 0.6920, Test: 0.7020\n",
      "Epoch: 048, Loss: 0.9095, Val: 0.7060, Test: 0.7040\n",
      "Epoch: 049, Loss: 0.8899, Val: 0.7100, Test: 0.7090\n",
      "Epoch: 050, Loss: 0.9224, Val: 0.7160, Test: 0.7100\n"
     ]
    }
   ],
   "source": [
    "def train():\n",
    "    model.train()\n",
    "\n",
    "    total_loss = 0\n",
    "    for batch_size, n_id, adjs in train_loader:\n",
    "        #print(batch_size,n_id,adjs)\n",
    "        # `adjs` holds a list of `(edge_index, e_id, size)` tuples.\n",
    "        adjs = [adj.to(device) for adj in adjs]\n",
    "        optimizer.zero_grad()\n",
    "\n",
    "        out = model(x[n_id], adjs)\n",
    "        out, pos_out, neg_out = out.split(out.size(0) // 3, dim=0)\n",
    "\n",
    "        pos_loss = F.logsigmoid((out * pos_out).sum(-1)).mean()\n",
    "        neg_loss = F.logsigmoid(-(out * neg_out).sum(-1)).mean()\n",
    "        loss = -pos_loss - neg_loss\n",
    "        loss.backward()\n",
    "        optimizer.step()\n",
    "\n",
    "        total_loss += float(loss) * out.size(0)\n",
    "\n",
    "    return total_loss / data.num_nodes\n",
    "\n",
    "\n",
    "@torch.no_grad()\n",
    "def test():\n",
    "    model.eval()\n",
    "    out = model.full_forward(x, edge_index).cpu()\n",
    "\n",
    "    clf = LogisticRegression()\n",
    "    clf.fit(out[data.train_mask], data.y[data.train_mask])\n",
    "\n",
    "    val_acc = clf.score(out[data.val_mask], data.y[data.val_mask])\n",
    "    test_acc = clf.score(out[data.test_mask], data.y[data.test_mask])\n",
    "\n",
    "    return val_acc, test_acc\n",
    "\n",
    "\n",
    "for epoch in range(1, 51):\n",
    "    loss = train()\n",
    "    val_acc, test_acc = test()\n",
    "    print(f'Epoch: {epoch:03d}, Loss: {loss:.4f}, '\n",
    "          f'Val: {val_acc:.4f}, Test: {test_acc:.4f}')"
   ],
   "metadata": {
    "collapsed": false,
    "pycharm": {
     "name": "#%%\n"
    }
   }
  },
  {
   "cell_type": "code",
   "execution_count": 9,
   "outputs": [],
   "source": [],
   "metadata": {
    "collapsed": false,
    "pycharm": {
     "name": "#%%\n"
    }
   }
  }
 ],
 "metadata": {
  "kernelspec": {
   "display_name": "Python 3",
   "language": "python",
   "name": "python3"
  },
  "language_info": {
   "codemirror_mode": {
    "name": "ipython",
    "version": 2
   },
   "file_extension": ".py",
   "mimetype": "text/x-python",
   "name": "python",
   "nbconvert_exporter": "python",
   "pygments_lexer": "ipython2",
   "version": "2.7.6"
  }
 },
 "nbformat": 4,
 "nbformat_minor": 0
}